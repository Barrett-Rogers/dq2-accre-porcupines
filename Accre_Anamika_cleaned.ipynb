{
 "cells": [
  {
   "cell_type": "code",
   "execution_count": 34,
   "metadata": {},
   "outputs": [],
   "source": [
    "import pandas as pd\n",
    "import numpy as np\n",
    "import matplotlib.pyplot as plt\n",
    "import seaborn as sns\n",
    "import scipy.stats as stats\n",
    "import statsmodels.api as sm\n",
    "%matplotlib inline"
   ]
  },
  {
   "cell_type": "code",
   "execution_count": 35,
   "metadata": {},
   "outputs": [],
   "source": [
    "initial_data =pd.read_csv('initial_data.csv')"
   ]
  },
  {
   "cell_type": "code",
   "execution_count": 36,
   "metadata": {},
   "outputs": [
    {
     "data": {
      "text/plain": [
       "(3319256, 12)"
      ]
     },
     "execution_count": 36,
     "metadata": {},
     "output_type": "execute_result"
    }
   ],
   "source": [
    "initial_data.shape"
   ]
  },
  {
   "cell_type": "code",
   "execution_count": 37,
   "metadata": {},
   "outputs": [
    {
     "name": "stdout",
     "output_type": "stream",
     "text": [
      "<class 'pandas.core.frame.DataFrame'>\n",
      "RangeIndex: 3319256 entries, 0 to 3319255\n",
      "Data columns (total 12 columns):\n",
      "JOBID        object\n",
      "ACCOUNT      object\n",
      "USER         object\n",
      "REQMEM       float64\n",
      "USEDMEM      float64\n",
      "REQTIME      int64\n",
      "USEDTIME     int64\n",
      "NODES        int64\n",
      "CPUS         int64\n",
      "PARTITION    object\n",
      "EXITCODE     object\n",
      "SUBMIT       object\n",
      "dtypes: float64(2), int64(4), object(6)\n",
      "memory usage: 303.9+ MB\n"
     ]
    }
   ],
   "source": [
    "initial_data.info()"
   ]
  },
  {
   "cell_type": "code",
   "execution_count": 38,
   "metadata": {},
   "outputs": [
    {
     "data": {
      "text/html": [
       "<div>\n",
       "<style scoped>\n",
       "    .dataframe tbody tr th:only-of-type {\n",
       "        vertical-align: middle;\n",
       "    }\n",
       "\n",
       "    .dataframe tbody tr th {\n",
       "        vertical-align: top;\n",
       "    }\n",
       "\n",
       "    .dataframe thead th {\n",
       "        text-align: right;\n",
       "    }\n",
       "</style>\n",
       "<table border=\"1\" class=\"dataframe\">\n",
       "  <thead>\n",
       "    <tr style=\"text-align: right;\">\n",
       "      <th></th>\n",
       "      <th>JOBID</th>\n",
       "      <th>ACCOUNT</th>\n",
       "      <th>USER</th>\n",
       "      <th>REQMEM</th>\n",
       "      <th>USEDMEM</th>\n",
       "      <th>REQTIME</th>\n",
       "      <th>USEDTIME</th>\n",
       "      <th>NODES</th>\n",
       "      <th>CPUS</th>\n",
       "      <th>PARTITION</th>\n",
       "      <th>EXITCODE</th>\n",
       "      <th>SUBMIT</th>\n",
       "    </tr>\n",
       "  </thead>\n",
       "  <tbody>\n",
       "    <tr>\n",
       "      <th>0</th>\n",
       "      <td>6794220</td>\n",
       "      <td>laxtons</td>\n",
       "      <td>mikala</td>\n",
       "      <td>15488.0</td>\n",
       "      <td>7201.07</td>\n",
       "      <td>1209600</td>\n",
       "      <td>955970</td>\n",
       "      <td>1</td>\n",
       "      <td>16</td>\n",
       "      <td>production</td>\n",
       "      <td>0:0</td>\n",
       "      <td>2019-03-09T16:38:44</td>\n",
       "    </tr>\n",
       "    <tr>\n",
       "      <th>1</th>\n",
       "      <td>6983193_1880</td>\n",
       "      <td>discovery</td>\n",
       "      <td>serina</td>\n",
       "      <td>12288.0</td>\n",
       "      <td>6516.10</td>\n",
       "      <td>1188000</td>\n",
       "      <td>1070801</td>\n",
       "      <td>1</td>\n",
       "      <td>1</td>\n",
       "      <td>production</td>\n",
       "      <td>0:0</td>\n",
       "      <td>2019-03-07T18:39:59</td>\n",
       "    </tr>\n",
       "    <tr>\n",
       "      <th>2</th>\n",
       "      <td>7055502_1863</td>\n",
       "      <td>discovery</td>\n",
       "      <td>serina</td>\n",
       "      <td>12288.0</td>\n",
       "      <td>0.09</td>\n",
       "      <td>1188000</td>\n",
       "      <td>1153656</td>\n",
       "      <td>1</td>\n",
       "      <td>1</td>\n",
       "      <td>production</td>\n",
       "      <td>0:0</td>\n",
       "      <td>2019-03-11T10:06:06</td>\n",
       "    </tr>\n",
       "    <tr>\n",
       "      <th>3</th>\n",
       "      <td>7055502_1800</td>\n",
       "      <td>discovery</td>\n",
       "      <td>serina</td>\n",
       "      <td>12288.0</td>\n",
       "      <td>8333.82</td>\n",
       "      <td>1188000</td>\n",
       "      <td>1050659</td>\n",
       "      <td>1</td>\n",
       "      <td>1</td>\n",
       "      <td>production</td>\n",
       "      <td>0:0</td>\n",
       "      <td>2019-03-11T10:06:06</td>\n",
       "    </tr>\n",
       "    <tr>\n",
       "      <th>4</th>\n",
       "      <td>7055502_1806</td>\n",
       "      <td>discovery</td>\n",
       "      <td>serina</td>\n",
       "      <td>12288.0</td>\n",
       "      <td>8304.03</td>\n",
       "      <td>1188000</td>\n",
       "      <td>981826</td>\n",
       "      <td>1</td>\n",
       "      <td>1</td>\n",
       "      <td>production</td>\n",
       "      <td>0:0</td>\n",
       "      <td>2019-03-11T10:06:06</td>\n",
       "    </tr>\n",
       "  </tbody>\n",
       "</table>\n",
       "</div>"
      ],
      "text/plain": [
       "          JOBID    ACCOUNT    USER   REQMEM  USEDMEM  REQTIME  USEDTIME  \\\n",
       "0       6794220    laxtons  mikala  15488.0  7201.07  1209600    955970   \n",
       "1  6983193_1880  discovery  serina  12288.0  6516.10  1188000   1070801   \n",
       "2  7055502_1863  discovery  serina  12288.0     0.09  1188000   1153656   \n",
       "3  7055502_1800  discovery  serina  12288.0  8333.82  1188000   1050659   \n",
       "4  7055502_1806  discovery  serina  12288.0  8304.03  1188000    981826   \n",
       "\n",
       "   NODES  CPUS   PARTITION EXITCODE               SUBMIT  \n",
       "0      1    16  production      0:0  2019-03-09T16:38:44  \n",
       "1      1     1  production      0:0  2019-03-07T18:39:59  \n",
       "2      1     1  production      0:0  2019-03-11T10:06:06  \n",
       "3      1     1  production      0:0  2019-03-11T10:06:06  \n",
       "4      1     1  production      0:0  2019-03-11T10:06:06  "
      ]
     },
     "execution_count": 38,
     "metadata": {},
     "output_type": "execute_result"
    }
   ],
   "source": [
    "initial_data.head()"
   ]
  },
  {
   "cell_type": "code",
   "execution_count": 39,
   "metadata": {},
   "outputs": [
    {
     "name": "stdout",
     "output_type": "stream",
     "text": [
      "Wall time: 0 ns\n"
     ]
    }
   ],
   "source": [
    "%%time \n",
    "def array_jobs(job):\n",
    "    array_split=job.split('_')\n",
    "    if len(array_split)==2:\n",
    "        jobs=job#array_split\n",
    "    else:\n",
    "        jobs=0\n",
    "        \n",
    "    return jobs"
   ]
  },
  {
   "cell_type": "code",
   "execution_count": 40,
   "metadata": {},
   "outputs": [],
   "source": [
    "initial_data.JOBID=initial_data.JOBID.apply(array_jobs)"
   ]
  },
  {
   "cell_type": "code",
   "execution_count": 41,
   "metadata": {},
   "outputs": [
    {
     "data": {
      "text/html": [
       "<div>\n",
       "<style scoped>\n",
       "    .dataframe tbody tr th:only-of-type {\n",
       "        vertical-align: middle;\n",
       "    }\n",
       "\n",
       "    .dataframe tbody tr th {\n",
       "        vertical-align: top;\n",
       "    }\n",
       "\n",
       "    .dataframe thead th {\n",
       "        text-align: right;\n",
       "    }\n",
       "</style>\n",
       "<table border=\"1\" class=\"dataframe\">\n",
       "  <thead>\n",
       "    <tr style=\"text-align: right;\">\n",
       "      <th></th>\n",
       "      <th>JOBID</th>\n",
       "      <th>ACCOUNT</th>\n",
       "      <th>USER</th>\n",
       "      <th>REQMEM</th>\n",
       "      <th>USEDMEM</th>\n",
       "      <th>REQTIME</th>\n",
       "      <th>USEDTIME</th>\n",
       "      <th>NODES</th>\n",
       "      <th>CPUS</th>\n",
       "      <th>PARTITION</th>\n",
       "      <th>EXITCODE</th>\n",
       "      <th>SUBMIT</th>\n",
       "    </tr>\n",
       "  </thead>\n",
       "  <tbody>\n",
       "    <tr>\n",
       "      <th>0</th>\n",
       "      <td>0</td>\n",
       "      <td>laxtons</td>\n",
       "      <td>mikala</td>\n",
       "      <td>15488.0</td>\n",
       "      <td>7201.07</td>\n",
       "      <td>1209600</td>\n",
       "      <td>955970</td>\n",
       "      <td>1</td>\n",
       "      <td>16</td>\n",
       "      <td>production</td>\n",
       "      <td>0:0</td>\n",
       "      <td>2019-03-09T16:38:44</td>\n",
       "    </tr>\n",
       "    <tr>\n",
       "      <th>1</th>\n",
       "      <td>6983193_1880</td>\n",
       "      <td>discovery</td>\n",
       "      <td>serina</td>\n",
       "      <td>12288.0</td>\n",
       "      <td>6516.10</td>\n",
       "      <td>1188000</td>\n",
       "      <td>1070801</td>\n",
       "      <td>1</td>\n",
       "      <td>1</td>\n",
       "      <td>production</td>\n",
       "      <td>0:0</td>\n",
       "      <td>2019-03-07T18:39:59</td>\n",
       "    </tr>\n",
       "    <tr>\n",
       "      <th>2</th>\n",
       "      <td>7055502_1863</td>\n",
       "      <td>discovery</td>\n",
       "      <td>serina</td>\n",
       "      <td>12288.0</td>\n",
       "      <td>0.09</td>\n",
       "      <td>1188000</td>\n",
       "      <td>1153656</td>\n",
       "      <td>1</td>\n",
       "      <td>1</td>\n",
       "      <td>production</td>\n",
       "      <td>0:0</td>\n",
       "      <td>2019-03-11T10:06:06</td>\n",
       "    </tr>\n",
       "    <tr>\n",
       "      <th>3</th>\n",
       "      <td>7055502_1800</td>\n",
       "      <td>discovery</td>\n",
       "      <td>serina</td>\n",
       "      <td>12288.0</td>\n",
       "      <td>8333.82</td>\n",
       "      <td>1188000</td>\n",
       "      <td>1050659</td>\n",
       "      <td>1</td>\n",
       "      <td>1</td>\n",
       "      <td>production</td>\n",
       "      <td>0:0</td>\n",
       "      <td>2019-03-11T10:06:06</td>\n",
       "    </tr>\n",
       "    <tr>\n",
       "      <th>4</th>\n",
       "      <td>7055502_1806</td>\n",
       "      <td>discovery</td>\n",
       "      <td>serina</td>\n",
       "      <td>12288.0</td>\n",
       "      <td>8304.03</td>\n",
       "      <td>1188000</td>\n",
       "      <td>981826</td>\n",
       "      <td>1</td>\n",
       "      <td>1</td>\n",
       "      <td>production</td>\n",
       "      <td>0:0</td>\n",
       "      <td>2019-03-11T10:06:06</td>\n",
       "    </tr>\n",
       "  </tbody>\n",
       "</table>\n",
       "</div>"
      ],
      "text/plain": [
       "          JOBID    ACCOUNT    USER   REQMEM  USEDMEM  REQTIME  USEDTIME  \\\n",
       "0             0    laxtons  mikala  15488.0  7201.07  1209600    955970   \n",
       "1  6983193_1880  discovery  serina  12288.0  6516.10  1188000   1070801   \n",
       "2  7055502_1863  discovery  serina  12288.0     0.09  1188000   1153656   \n",
       "3  7055502_1800  discovery  serina  12288.0  8333.82  1188000   1050659   \n",
       "4  7055502_1806  discovery  serina  12288.0  8304.03  1188000    981826   \n",
       "\n",
       "   NODES  CPUS   PARTITION EXITCODE               SUBMIT  \n",
       "0      1    16  production      0:0  2019-03-09T16:38:44  \n",
       "1      1     1  production      0:0  2019-03-07T18:39:59  \n",
       "2      1     1  production      0:0  2019-03-11T10:06:06  \n",
       "3      1     1  production      0:0  2019-03-11T10:06:06  \n",
       "4      1     1  production      0:0  2019-03-11T10:06:06  "
      ]
     },
     "execution_count": 41,
     "metadata": {},
     "output_type": "execute_result"
    }
   ],
   "source": [
    "initial_data.head()"
   ]
  },
  {
   "cell_type": "code",
   "execution_count": 42,
   "metadata": {},
   "outputs": [],
   "source": [
    "initial_data.drop(initial_data[initial_data['JOBID']==0].index,inplace=True)"
   ]
  },
  {
   "cell_type": "code",
   "execution_count": 43,
   "metadata": {},
   "outputs": [
    {
     "data": {
      "text/html": [
       "<div>\n",
       "<style scoped>\n",
       "    .dataframe tbody tr th:only-of-type {\n",
       "        vertical-align: middle;\n",
       "    }\n",
       "\n",
       "    .dataframe tbody tr th {\n",
       "        vertical-align: top;\n",
       "    }\n",
       "\n",
       "    .dataframe thead th {\n",
       "        text-align: right;\n",
       "    }\n",
       "</style>\n",
       "<table border=\"1\" class=\"dataframe\">\n",
       "  <thead>\n",
       "    <tr style=\"text-align: right;\">\n",
       "      <th></th>\n",
       "      <th>JOBID</th>\n",
       "      <th>ACCOUNT</th>\n",
       "      <th>USER</th>\n",
       "      <th>REQMEM</th>\n",
       "      <th>USEDMEM</th>\n",
       "      <th>REQTIME</th>\n",
       "      <th>USEDTIME</th>\n",
       "      <th>NODES</th>\n",
       "      <th>CPUS</th>\n",
       "      <th>PARTITION</th>\n",
       "      <th>EXITCODE</th>\n",
       "      <th>SUBMIT</th>\n",
       "    </tr>\n",
       "  </thead>\n",
       "  <tbody>\n",
       "    <tr>\n",
       "      <th>1</th>\n",
       "      <td>6983193_1880</td>\n",
       "      <td>discovery</td>\n",
       "      <td>serina</td>\n",
       "      <td>12288.0</td>\n",
       "      <td>6516.10</td>\n",
       "      <td>1188000</td>\n",
       "      <td>1070801</td>\n",
       "      <td>1</td>\n",
       "      <td>1</td>\n",
       "      <td>production</td>\n",
       "      <td>0:0</td>\n",
       "      <td>2019-03-07T18:39:59</td>\n",
       "    </tr>\n",
       "    <tr>\n",
       "      <th>2</th>\n",
       "      <td>7055502_1863</td>\n",
       "      <td>discovery</td>\n",
       "      <td>serina</td>\n",
       "      <td>12288.0</td>\n",
       "      <td>0.09</td>\n",
       "      <td>1188000</td>\n",
       "      <td>1153656</td>\n",
       "      <td>1</td>\n",
       "      <td>1</td>\n",
       "      <td>production</td>\n",
       "      <td>0:0</td>\n",
       "      <td>2019-03-11T10:06:06</td>\n",
       "    </tr>\n",
       "    <tr>\n",
       "      <th>3</th>\n",
       "      <td>7055502_1800</td>\n",
       "      <td>discovery</td>\n",
       "      <td>serina</td>\n",
       "      <td>12288.0</td>\n",
       "      <td>8333.82</td>\n",
       "      <td>1188000</td>\n",
       "      <td>1050659</td>\n",
       "      <td>1</td>\n",
       "      <td>1</td>\n",
       "      <td>production</td>\n",
       "      <td>0:0</td>\n",
       "      <td>2019-03-11T10:06:06</td>\n",
       "    </tr>\n",
       "    <tr>\n",
       "      <th>4</th>\n",
       "      <td>7055502_1806</td>\n",
       "      <td>discovery</td>\n",
       "      <td>serina</td>\n",
       "      <td>12288.0</td>\n",
       "      <td>8304.03</td>\n",
       "      <td>1188000</td>\n",
       "      <td>981826</td>\n",
       "      <td>1</td>\n",
       "      <td>1</td>\n",
       "      <td>production</td>\n",
       "      <td>0:0</td>\n",
       "      <td>2019-03-11T10:06:06</td>\n",
       "    </tr>\n",
       "    <tr>\n",
       "      <th>5</th>\n",
       "      <td>7055502_1823</td>\n",
       "      <td>discovery</td>\n",
       "      <td>serina</td>\n",
       "      <td>12288.0</td>\n",
       "      <td>7693.11</td>\n",
       "      <td>1188000</td>\n",
       "      <td>789220</td>\n",
       "      <td>1</td>\n",
       "      <td>1</td>\n",
       "      <td>production</td>\n",
       "      <td>0:0</td>\n",
       "      <td>2019-03-11T10:06:06</td>\n",
       "    </tr>\n",
       "  </tbody>\n",
       "</table>\n",
       "</div>"
      ],
      "text/plain": [
       "          JOBID    ACCOUNT    USER   REQMEM  USEDMEM  REQTIME  USEDTIME  \\\n",
       "1  6983193_1880  discovery  serina  12288.0  6516.10  1188000   1070801   \n",
       "2  7055502_1863  discovery  serina  12288.0     0.09  1188000   1153656   \n",
       "3  7055502_1800  discovery  serina  12288.0  8333.82  1188000   1050659   \n",
       "4  7055502_1806  discovery  serina  12288.0  8304.03  1188000    981826   \n",
       "5  7055502_1823  discovery  serina  12288.0  7693.11  1188000    789220   \n",
       "\n",
       "   NODES  CPUS   PARTITION EXITCODE               SUBMIT  \n",
       "1      1     1  production      0:0  2019-03-07T18:39:59  \n",
       "2      1     1  production      0:0  2019-03-11T10:06:06  \n",
       "3      1     1  production      0:0  2019-03-11T10:06:06  \n",
       "4      1     1  production      0:0  2019-03-11T10:06:06  \n",
       "5      1     1  production      0:0  2019-03-11T10:06:06  "
      ]
     },
     "execution_count": 43,
     "metadata": {},
     "output_type": "execute_result"
    }
   ],
   "source": [
    "initial_data.head()"
   ]
  },
  {
   "cell_type": "code",
   "execution_count": 44,
   "metadata": {},
   "outputs": [
    {
     "data": {
      "text/plain": [
       "0:0    2575548\n",
       "Name: EXITCODE, dtype: int64"
      ]
     },
     "execution_count": 44,
     "metadata": {},
     "output_type": "execute_result"
    }
   ],
   "source": [
    "initial_data['EXITCODE'].value_counts()"
   ]
  },
  {
   "cell_type": "code",
   "execution_count": 45,
   "metadata": {},
   "outputs": [],
   "source": [
    "initial_data[['number','sub_number']]=initial_data.JOBID.str.split('_',expand=True)"
   ]
  },
  {
   "cell_type": "code",
   "execution_count": 46,
   "metadata": {},
   "outputs": [
    {
     "data": {
      "text/html": [
       "<div>\n",
       "<style scoped>\n",
       "    .dataframe tbody tr th:only-of-type {\n",
       "        vertical-align: middle;\n",
       "    }\n",
       "\n",
       "    .dataframe tbody tr th {\n",
       "        vertical-align: top;\n",
       "    }\n",
       "\n",
       "    .dataframe thead th {\n",
       "        text-align: right;\n",
       "    }\n",
       "</style>\n",
       "<table border=\"1\" class=\"dataframe\">\n",
       "  <thead>\n",
       "    <tr style=\"text-align: right;\">\n",
       "      <th></th>\n",
       "      <th>JOBID</th>\n",
       "      <th>ACCOUNT</th>\n",
       "      <th>USER</th>\n",
       "      <th>REQMEM</th>\n",
       "      <th>USEDMEM</th>\n",
       "      <th>REQTIME</th>\n",
       "      <th>USEDTIME</th>\n",
       "      <th>NODES</th>\n",
       "      <th>CPUS</th>\n",
       "      <th>PARTITION</th>\n",
       "      <th>EXITCODE</th>\n",
       "      <th>SUBMIT</th>\n",
       "      <th>number</th>\n",
       "      <th>sub_number</th>\n",
       "    </tr>\n",
       "  </thead>\n",
       "  <tbody>\n",
       "    <tr>\n",
       "      <th>1</th>\n",
       "      <td>6983193_1880</td>\n",
       "      <td>discovery</td>\n",
       "      <td>serina</td>\n",
       "      <td>12288.0</td>\n",
       "      <td>6516.10</td>\n",
       "      <td>1188000</td>\n",
       "      <td>1070801</td>\n",
       "      <td>1</td>\n",
       "      <td>1</td>\n",
       "      <td>production</td>\n",
       "      <td>0:0</td>\n",
       "      <td>2019-03-07T18:39:59</td>\n",
       "      <td>6983193</td>\n",
       "      <td>1880</td>\n",
       "    </tr>\n",
       "    <tr>\n",
       "      <th>2</th>\n",
       "      <td>7055502_1863</td>\n",
       "      <td>discovery</td>\n",
       "      <td>serina</td>\n",
       "      <td>12288.0</td>\n",
       "      <td>0.09</td>\n",
       "      <td>1188000</td>\n",
       "      <td>1153656</td>\n",
       "      <td>1</td>\n",
       "      <td>1</td>\n",
       "      <td>production</td>\n",
       "      <td>0:0</td>\n",
       "      <td>2019-03-11T10:06:06</td>\n",
       "      <td>7055502</td>\n",
       "      <td>1863</td>\n",
       "    </tr>\n",
       "    <tr>\n",
       "      <th>3</th>\n",
       "      <td>7055502_1800</td>\n",
       "      <td>discovery</td>\n",
       "      <td>serina</td>\n",
       "      <td>12288.0</td>\n",
       "      <td>8333.82</td>\n",
       "      <td>1188000</td>\n",
       "      <td>1050659</td>\n",
       "      <td>1</td>\n",
       "      <td>1</td>\n",
       "      <td>production</td>\n",
       "      <td>0:0</td>\n",
       "      <td>2019-03-11T10:06:06</td>\n",
       "      <td>7055502</td>\n",
       "      <td>1800</td>\n",
       "    </tr>\n",
       "    <tr>\n",
       "      <th>4</th>\n",
       "      <td>7055502_1806</td>\n",
       "      <td>discovery</td>\n",
       "      <td>serina</td>\n",
       "      <td>12288.0</td>\n",
       "      <td>8304.03</td>\n",
       "      <td>1188000</td>\n",
       "      <td>981826</td>\n",
       "      <td>1</td>\n",
       "      <td>1</td>\n",
       "      <td>production</td>\n",
       "      <td>0:0</td>\n",
       "      <td>2019-03-11T10:06:06</td>\n",
       "      <td>7055502</td>\n",
       "      <td>1806</td>\n",
       "    </tr>\n",
       "    <tr>\n",
       "      <th>5</th>\n",
       "      <td>7055502_1823</td>\n",
       "      <td>discovery</td>\n",
       "      <td>serina</td>\n",
       "      <td>12288.0</td>\n",
       "      <td>7693.11</td>\n",
       "      <td>1188000</td>\n",
       "      <td>789220</td>\n",
       "      <td>1</td>\n",
       "      <td>1</td>\n",
       "      <td>production</td>\n",
       "      <td>0:0</td>\n",
       "      <td>2019-03-11T10:06:06</td>\n",
       "      <td>7055502</td>\n",
       "      <td>1823</td>\n",
       "    </tr>\n",
       "  </tbody>\n",
       "</table>\n",
       "</div>"
      ],
      "text/plain": [
       "          JOBID    ACCOUNT    USER   REQMEM  USEDMEM  REQTIME  USEDTIME  \\\n",
       "1  6983193_1880  discovery  serina  12288.0  6516.10  1188000   1070801   \n",
       "2  7055502_1863  discovery  serina  12288.0     0.09  1188000   1153656   \n",
       "3  7055502_1800  discovery  serina  12288.0  8333.82  1188000   1050659   \n",
       "4  7055502_1806  discovery  serina  12288.0  8304.03  1188000    981826   \n",
       "5  7055502_1823  discovery  serina  12288.0  7693.11  1188000    789220   \n",
       "\n",
       "   NODES  CPUS   PARTITION EXITCODE               SUBMIT   number sub_number  \n",
       "1      1     1  production      0:0  2019-03-07T18:39:59  6983193       1880  \n",
       "2      1     1  production      0:0  2019-03-11T10:06:06  7055502       1863  \n",
       "3      1     1  production      0:0  2019-03-11T10:06:06  7055502       1800  \n",
       "4      1     1  production      0:0  2019-03-11T10:06:06  7055502       1806  \n",
       "5      1     1  production      0:0  2019-03-11T10:06:06  7055502       1823  "
      ]
     },
     "execution_count": 46,
     "metadata": {},
     "output_type": "execute_result"
    }
   ],
   "source": [
    "initial_data.head()"
   ]
  },
  {
   "cell_type": "code",
   "execution_count": 47,
   "metadata": {},
   "outputs": [
    {
     "data": {
      "text/plain": [
       "(2575548, 14)"
      ]
     },
     "execution_count": 47,
     "metadata": {},
     "output_type": "execute_result"
    }
   ],
   "source": [
    "initial_data.shape"
   ]
  },
  {
   "cell_type": "code",
   "execution_count": 48,
   "metadata": {},
   "outputs": [],
   "source": [
    "#give me only data with USEDTIME <300 i.e. 5 minutes\n",
    "initial_data=initial_data[initial_data.USEDTIME<300]"
   ]
  },
  {
   "cell_type": "code",
   "execution_count": 49,
   "metadata": {},
   "outputs": [
    {
     "data": {
      "text/plain": [
       "(696855, 14)"
      ]
     },
     "execution_count": 49,
     "metadata": {},
     "output_type": "execute_result"
    }
   ],
   "source": [
    "initial_data.shape"
   ]
  },
  {
   "cell_type": "code",
   "execution_count": 50,
   "metadata": {},
   "outputs": [],
   "source": [
    "initial_data=initial_data.groupby(['number','USER','EXITCODE'],as_index=False)[['JOBID']].count()"
   ]
  },
  {
   "cell_type": "code",
   "execution_count": 51,
   "metadata": {},
   "outputs": [
    {
     "name": "stdout",
     "output_type": "stream",
     "text": [
      "<class 'pandas.core.frame.DataFrame'>\n",
      "Int64Index: 17488 entries, 0 to 17487\n",
      "Data columns (total 4 columns):\n",
      "number      17488 non-null object\n",
      "USER        17488 non-null object\n",
      "EXITCODE    17488 non-null object\n",
      "JOBID       17488 non-null int64\n",
      "dtypes: int64(1), object(3)\n",
      "memory usage: 683.1+ KB\n"
     ]
    }
   ],
   "source": [
    "initial_data.info()"
   ]
  },
  {
   "cell_type": "code",
   "execution_count": 52,
   "metadata": {},
   "outputs": [
    {
     "data": {
      "text/html": [
       "<div>\n",
       "<style scoped>\n",
       "    .dataframe tbody tr th:only-of-type {\n",
       "        vertical-align: middle;\n",
       "    }\n",
       "\n",
       "    .dataframe tbody tr th {\n",
       "        vertical-align: top;\n",
       "    }\n",
       "\n",
       "    .dataframe thead th {\n",
       "        text-align: right;\n",
       "    }\n",
       "</style>\n",
       "<table border=\"1\" class=\"dataframe\">\n",
       "  <thead>\n",
       "    <tr style=\"text-align: right;\">\n",
       "      <th></th>\n",
       "      <th>number</th>\n",
       "      <th>USER</th>\n",
       "      <th>EXITCODE</th>\n",
       "      <th>JOBID</th>\n",
       "    </tr>\n",
       "  </thead>\n",
       "  <tbody>\n",
       "    <tr>\n",
       "      <th>0</th>\n",
       "      <td>10000883</td>\n",
       "      <td>boyce</td>\n",
       "      <td>0:0</td>\n",
       "      <td>6</td>\n",
       "    </tr>\n",
       "    <tr>\n",
       "      <th>1</th>\n",
       "      <td>10007652</td>\n",
       "      <td>stacey</td>\n",
       "      <td>0:0</td>\n",
       "      <td>1</td>\n",
       "    </tr>\n",
       "    <tr>\n",
       "      <th>2</th>\n",
       "      <td>10007726</td>\n",
       "      <td>stacey</td>\n",
       "      <td>0:0</td>\n",
       "      <td>2</td>\n",
       "    </tr>\n",
       "    <tr>\n",
       "      <th>3</th>\n",
       "      <td>10007826</td>\n",
       "      <td>gerrit</td>\n",
       "      <td>0:0</td>\n",
       "      <td>50</td>\n",
       "    </tr>\n",
       "    <tr>\n",
       "      <th>4</th>\n",
       "      <td>10008050</td>\n",
       "      <td>gerrit</td>\n",
       "      <td>0:0</td>\n",
       "      <td>50</td>\n",
       "    </tr>\n",
       "  </tbody>\n",
       "</table>\n",
       "</div>"
      ],
      "text/plain": [
       "     number    USER EXITCODE  JOBID\n",
       "0  10000883   boyce      0:0      6\n",
       "1  10007652  stacey      0:0      1\n",
       "2  10007726  stacey      0:0      2\n",
       "3  10007826  gerrit      0:0     50\n",
       "4  10008050  gerrit      0:0     50"
      ]
     },
     "execution_count": 52,
     "metadata": {},
     "output_type": "execute_result"
    }
   ],
   "source": [
    "#this is the users who commited <500 jobs that were <5 minutes.\n",
    "initial_data.head()"
   ]
  },
  {
   "cell_type": "code",
   "execution_count": 54,
   "metadata": {},
   "outputs": [],
   "source": [
    "initial_data=initial_data[initial_data.JOBID>500]"
   ]
  },
  {
   "cell_type": "code",
   "execution_count": 55,
   "metadata": {},
   "outputs": [
    {
     "data": {
      "text/html": [
       "<div>\n",
       "<style scoped>\n",
       "    .dataframe tbody tr th:only-of-type {\n",
       "        vertical-align: middle;\n",
       "    }\n",
       "\n",
       "    .dataframe tbody tr th {\n",
       "        vertical-align: top;\n",
       "    }\n",
       "\n",
       "    .dataframe thead th {\n",
       "        text-align: right;\n",
       "    }\n",
       "</style>\n",
       "<table border=\"1\" class=\"dataframe\">\n",
       "  <thead>\n",
       "    <tr style=\"text-align: right;\">\n",
       "      <th></th>\n",
       "      <th>number</th>\n",
       "    </tr>\n",
       "    <tr>\n",
       "      <th>USER</th>\n",
       "      <th></th>\n",
       "    </tr>\n",
       "  </thead>\n",
       "  <tbody>\n",
       "    <tr>\n",
       "      <th>alf</th>\n",
       "      <td>3</td>\n",
       "    </tr>\n",
       "    <tr>\n",
       "      <th>alisson</th>\n",
       "      <td>1</td>\n",
       "    </tr>\n",
       "    <tr>\n",
       "      <th>archie</th>\n",
       "      <td>2</td>\n",
       "    </tr>\n",
       "    <tr>\n",
       "      <th>baylee</th>\n",
       "      <td>7</td>\n",
       "    </tr>\n",
       "    <tr>\n",
       "      <th>benson</th>\n",
       "      <td>19</td>\n",
       "    </tr>\n",
       "    <tr>\n",
       "      <th>boyce</th>\n",
       "      <td>31</td>\n",
       "    </tr>\n",
       "    <tr>\n",
       "      <th>brande</th>\n",
       "      <td>22</td>\n",
       "    </tr>\n",
       "    <tr>\n",
       "      <th>demarcus</th>\n",
       "      <td>7</td>\n",
       "    </tr>\n",
       "    <tr>\n",
       "      <th>hjalmar</th>\n",
       "      <td>2</td>\n",
       "    </tr>\n",
       "    <tr>\n",
       "      <th>jermaine</th>\n",
       "      <td>1</td>\n",
       "    </tr>\n",
       "    <tr>\n",
       "      <th>kaye</th>\n",
       "      <td>1</td>\n",
       "    </tr>\n",
       "    <tr>\n",
       "      <th>lashawn</th>\n",
       "      <td>2</td>\n",
       "    </tr>\n",
       "    <tr>\n",
       "      <th>macey</th>\n",
       "      <td>1</td>\n",
       "    </tr>\n",
       "    <tr>\n",
       "      <th>obie</th>\n",
       "      <td>3</td>\n",
       "    </tr>\n",
       "    <tr>\n",
       "      <th>osborne</th>\n",
       "      <td>1</td>\n",
       "    </tr>\n",
       "    <tr>\n",
       "      <th>pamelia</th>\n",
       "      <td>1</td>\n",
       "    </tr>\n",
       "    <tr>\n",
       "      <th>somer</th>\n",
       "      <td>1</td>\n",
       "    </tr>\n",
       "    <tr>\n",
       "      <th>stefanie</th>\n",
       "      <td>1</td>\n",
       "    </tr>\n",
       "    <tr>\n",
       "      <th>tegan</th>\n",
       "      <td>2</td>\n",
       "    </tr>\n",
       "    <tr>\n",
       "      <th>tommie</th>\n",
       "      <td>62</td>\n",
       "    </tr>\n",
       "    <tr>\n",
       "      <th>vaughn</th>\n",
       "      <td>1</td>\n",
       "    </tr>\n",
       "    <tr>\n",
       "      <th>whitley</th>\n",
       "      <td>6</td>\n",
       "    </tr>\n",
       "  </tbody>\n",
       "</table>\n",
       "</div>"
      ],
      "text/plain": [
       "          number\n",
       "USER            \n",
       "alf            3\n",
       "alisson        1\n",
       "archie         2\n",
       "baylee         7\n",
       "benson        19\n",
       "boyce         31\n",
       "brande        22\n",
       "demarcus       7\n",
       "hjalmar        2\n",
       "jermaine       1\n",
       "kaye           1\n",
       "lashawn        2\n",
       "macey          1\n",
       "obie           3\n",
       "osborne        1\n",
       "pamelia        1\n",
       "somer          1\n",
       "stefanie       1\n",
       "tegan          2\n",
       "tommie        62\n",
       "vaughn         1\n",
       "whitley        6"
      ]
     },
     "execution_count": 55,
     "metadata": {},
     "output_type": "execute_result"
    }
   ],
   "source": [
    "#This is the number of times each person committed that criteria\n",
    "initial_data.groupby('USER')[['number']].count()"
   ]
  },
  {
   "cell_type": "code",
   "execution_count": null,
   "metadata": {},
   "outputs": [],
   "source": []
  },
  {
   "cell_type": "code",
   "execution_count": null,
   "metadata": {},
   "outputs": [],
   "source": [
    "# keeping column with NODES =1\n",
    "accre_cleaned=initial_data[accre_cleaned.NODES==1]"
   ]
  },
  {
   "cell_type": "code",
   "execution_count": null,
   "metadata": {},
   "outputs": [],
   "source": [
    "# keeping column with value for EXITCODE=0:0\n",
    "accre_cleaned=accre_cleaned[accre_cleaned.EXITCODE=='0:0']"
   ]
  },
  {
   "cell_type": "code",
   "execution_count": null,
   "metadata": {},
   "outputs": [],
   "source": [
    "accre_cleaned.shape"
   ]
  },
  {
   "cell_type": "code",
   "execution_count": null,
   "metadata": {},
   "outputs": [],
   "source": [
    "accre_cleaned.head()"
   ]
  },
  {
   "cell_type": "code",
   "execution_count": null,
   "metadata": {},
   "outputs": [],
   "source": [
    "#dummy=accre_cleaned.head(10000)"
   ]
  },
  {
   "cell_type": "code",
   "execution_count": null,
   "metadata": {},
   "outputs": [],
   "source": [
    "# keeping column with value for EXITCODE=0:0\n",
    "#accre_cleaned=accre_cleaned[accre_cleaned.EXITCODE=='0:0']"
   ]
  },
  {
   "cell_type": "code",
   "execution_count": null,
   "metadata": {},
   "outputs": [],
   "source": [
    "accre_cleaned.shape"
   ]
  },
  {
   "cell_type": "code",
   "execution_count": null,
   "metadata": {},
   "outputs": [],
   "source": [
    "accre_cleaned.ACCOUNT.nunique()"
   ]
  },
  {
   "cell_type": "code",
   "execution_count": null,
   "metadata": {},
   "outputs": [],
   "source": [
    "#calculating percent memory used\n",
    "def percent_used(x,y):\n",
    "    \"\"\"calculating percentage from two columns\"\"\"\n",
    "    return (y/x)*100"
   ]
  },
  {
   "cell_type": "code",
   "execution_count": null,
   "metadata": {},
   "outputs": [],
   "source": [
    "#grouping by account and agrregating by total REQMEM , USEDMEM , USEDTIME\n",
    "#accre_cleaned_sum=accre_cleaned.groupby('ACCOUNT').agg({'REQMEM':sum,'USEDMEM':sum,'USEDTIME':sum})\n"
   ]
  },
  {
   "cell_type": "code",
   "execution_count": null,
   "metadata": {},
   "outputs": [],
   "source": [
    "#accre_cleaned_sum.head()"
   ]
  },
  {
   "cell_type": "code",
   "execution_count": null,
   "metadata": {},
   "outputs": [],
   "source": [
    "#accre_cleaned_sum['TPUSED']=accre_cleaned_sum.apply(lambda row:percent_used(row['REQMEM'],row['USEDMEM']),axis=1)"
   ]
  },
  {
   "cell_type": "code",
   "execution_count": null,
   "metadata": {},
   "outputs": [],
   "source": [
    "#accre_cleaned_sum=accre_cleaned_sum.sort_values('TPUSED', ascending=False)"
   ]
  },
  {
   "cell_type": "code",
   "execution_count": null,
   "metadata": {},
   "outputs": [],
   "source": [
    "#accre_cleaned_sum"
   ]
  },
  {
   "cell_type": "code",
   "execution_count": null,
   "metadata": {},
   "outputs": [],
   "source": [
    "# Average requested and used memory, sum total of used memory\n",
    "#accre_cleaned_average= accre_cleaned.groupby('ACCOUNT')['REQMEM','USEDMEM','USEDTIME'].mean()\n",
    "\n",
    "d={'REQMEM':'AVREQMEM','USEDMEM':'AVUSEDMEM','USEDTIME':'SUMUSEDMEM'}\n",
    "accre_cleaned_average=accre_cleaned.groupby('ACCOUNT').agg({'REQMEM':'mean','USEDMEM':'mean','USEDTIME':'sum'}).rename(columns=d)"
   ]
  },
  {
   "cell_type": "code",
   "execution_count": null,
   "metadata": {},
   "outputs": [],
   "source": [
    "accre_cleaned_average.head()"
   ]
  },
  {
   "cell_type": "code",
   "execution_count": null,
   "metadata": {},
   "outputs": [],
   "source": [
    "accre_cleaned_average['AVPUSED']=accre_cleaned_average.apply(lambda row:percent_used(row['AVREQMEM'],row['AVUSEDMEM']),axis=1)"
   ]
  },
  {
   "cell_type": "code",
   "execution_count": null,
   "metadata": {},
   "outputs": [],
   "source": [
    "accre_cleaned_average=accre_cleaned_average.sort_values('AVPUSED', ascending=False)"
   ]
  },
  {
   "cell_type": "code",
   "execution_count": null,
   "metadata": {},
   "outputs": [],
   "source": [
    "accre_cleaned_average"
   ]
  },
  {
   "cell_type": "code",
   "execution_count": null,
   "metadata": {},
   "outputs": [],
   "source": [
    "#Merge REQTIME and USEDTIME column"
   ]
  },
  {
   "cell_type": "code",
   "execution_count": null,
   "metadata": {},
   "outputs": [],
   "source": [
    "#calculating weighted percent memory used\n",
    "#def weighted_percent_used(x,y):\n",
    "  #  return (x*y)/100"
   ]
  },
  {
   "cell_type": "code",
   "execution_count": null,
   "metadata": {},
   "outputs": [],
   "source": []
  }
 ],
 "metadata": {
  "kernelspec": {
   "display_name": "Python 3",
   "language": "python",
   "name": "python3"
  },
  "language_info": {
   "codemirror_mode": {
    "name": "ipython",
    "version": 3
   },
   "file_extension": ".py",
   "mimetype": "text/x-python",
   "name": "python",
   "nbconvert_exporter": "python",
   "pygments_lexer": "ipython3",
   "version": "3.7.3"
  }
 },
 "nbformat": 4,
 "nbformat_minor": 2
}
