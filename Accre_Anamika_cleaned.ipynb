{
 "cells": [
  {
   "cell_type": "code",
   "execution_count": 1,
   "metadata": {},
   "outputs": [],
   "source": [
    "import pandas as pd\n",
    "import numpy as np\n",
    "import matplotlib.pyplot as plt\n",
    "import seaborn as sns\n",
    "import scipy.stats as stats\n",
    "import statsmodels.api as sm\n",
    "%matplotlib inline"
   ]
  },
  {
   "cell_type": "code",
   "execution_count": 2,
   "metadata": {},
   "outputs": [],
   "source": [
    "accre_cleaned =pd.read_csv('initial_data.csv')"
   ]
  },
  {
   "cell_type": "code",
   "execution_count": 3,
   "metadata": {},
   "outputs": [
    {
     "data": {
      "text/plain": [
       "(3319256, 14)"
      ]
     },
     "execution_count": 3,
     "metadata": {},
     "output_type": "execute_result"
    }
   ],
   "source": [
    "accre_cleaned.shape"
   ]
  },
  {
   "cell_type": "code",
   "execution_count": 4,
   "metadata": {},
   "outputs": [
    {
     "name": "stdout",
     "output_type": "stream",
     "text": [
      "<class 'pandas.core.frame.DataFrame'>\n",
      "RangeIndex: 3319256 entries, 0 to 3319255\n",
      "Data columns (total 14 columns):\n",
      "JOBID        object\n",
      "ACCOUNT      object\n",
      "USER         object\n",
      "REQMEM       float64\n",
      "USEDMEM      float64\n",
      "REQTIME      int64\n",
      "USEDTIME     int64\n",
      "NODES        int64\n",
      "CPUS         int64\n",
      "PARTITION    object\n",
      "EXITCODE     object\n",
      "SUBMIT       object\n",
      "ID           int64\n",
      "Sub          float64\n",
      "dtypes: float64(3), int64(5), object(6)\n",
      "memory usage: 354.5+ MB\n"
     ]
    }
   ],
   "source": [
    "accre_cleaned.info()"
   ]
  },
  {
   "cell_type": "code",
   "execution_count": 5,
   "metadata": {},
   "outputs": [
    {
     "data": {
      "text/plain": [
       "0:0      3319151\n",
       "0:9           46\n",
       "1:0           31\n",
       "7:0            9\n",
       "0:125          6\n",
       "0:15           4\n",
       "2:0            4\n",
       "0:12           3\n",
       "11:0           1\n",
       "0:6            1\n",
       "Name: EXITCODE, dtype: int64"
      ]
     },
     "execution_count": 5,
     "metadata": {},
     "output_type": "execute_result"
    }
   ],
   "source": [
    "accre_cleaned['EXITCODE'].value_counts()"
   ]
  },
  {
   "cell_type": "code",
   "execution_count": 7,
   "metadata": {},
   "outputs": [],
   "source": [
    "# keeping column with value for EXITCODE=0:0\n",
    "accre_cleaned=accre_cleaned[accre_cleaned.EXITCODE=='0:0']"
   ]
  },
  {
   "cell_type": "code",
   "execution_count": 8,
   "metadata": {},
   "outputs": [
    {
     "data": {
      "text/plain": [
       "(3319151, 14)"
      ]
     },
     "execution_count": 8,
     "metadata": {},
     "output_type": "execute_result"
    }
   ],
   "source": [
    "accre_cleaned.shape"
   ]
  },
  {
   "cell_type": "code",
   "execution_count": 15,
   "metadata": {},
   "outputs": [
    {
     "ename": "KeyError",
     "evalue": "'Column not found: REQMEM'",
     "output_type": "error",
     "traceback": [
      "\u001b[1;31m---------------------------------------------------------------------------\u001b[0m",
      "\u001b[1;31mKeyError\u001b[0m                                  Traceback (most recent call last)",
      "\u001b[1;32m<ipython-input-15-0823c7616ac3>\u001b[0m in \u001b[0;36m<module>\u001b[1;34m\u001b[0m\n\u001b[1;32m----> 1\u001b[1;33m \u001b[0maccre_cleaned\u001b[0m\u001b[1;33m=\u001b[0m \u001b[0maccre_cleaned\u001b[0m\u001b[1;33m.\u001b[0m\u001b[0mgroupby\u001b[0m\u001b[1;33m(\u001b[0m\u001b[1;33m[\u001b[0m\u001b[1;34m'ACCOUNT'\u001b[0m\u001b[1;33m]\u001b[0m\u001b[1;33m)\u001b[0m\u001b[1;33m[\u001b[0m\u001b[1;34m'REQMEM'\u001b[0m\u001b[1;33m]\u001b[0m\u001b[1;33m.\u001b[0m\u001b[0mmean\u001b[0m\u001b[1;33m(\u001b[0m\u001b[1;33m)\u001b[0m\u001b[1;33m\u001b[0m\u001b[1;33m\u001b[0m\u001b[0m\n\u001b[0m",
      "\u001b[1;32m~\\Anaconda3\\lib\\site-packages\\pandas\\core\\base.py\u001b[0m in \u001b[0;36m__getitem__\u001b[1;34m(self, key)\u001b[0m\n\u001b[0;32m    273\u001b[0m         \u001b[1;32melse\u001b[0m\u001b[1;33m:\u001b[0m\u001b[1;33m\u001b[0m\u001b[1;33m\u001b[0m\u001b[0m\n\u001b[0;32m    274\u001b[0m             \u001b[1;32mif\u001b[0m \u001b[0mkey\u001b[0m \u001b[1;32mnot\u001b[0m \u001b[1;32min\u001b[0m \u001b[0mself\u001b[0m\u001b[1;33m.\u001b[0m\u001b[0mobj\u001b[0m\u001b[1;33m:\u001b[0m\u001b[1;33m\u001b[0m\u001b[1;33m\u001b[0m\u001b[0m\n\u001b[1;32m--> 275\u001b[1;33m                 \u001b[1;32mraise\u001b[0m \u001b[0mKeyError\u001b[0m\u001b[1;33m(\u001b[0m\u001b[1;34m\"Column not found: {key}\"\u001b[0m\u001b[1;33m.\u001b[0m\u001b[0mformat\u001b[0m\u001b[1;33m(\u001b[0m\u001b[0mkey\u001b[0m\u001b[1;33m=\u001b[0m\u001b[0mkey\u001b[0m\u001b[1;33m)\u001b[0m\u001b[1;33m)\u001b[0m\u001b[1;33m\u001b[0m\u001b[1;33m\u001b[0m\u001b[0m\n\u001b[0m\u001b[0;32m    276\u001b[0m             \u001b[1;32mreturn\u001b[0m \u001b[0mself\u001b[0m\u001b[1;33m.\u001b[0m\u001b[0m_gotitem\u001b[0m\u001b[1;33m(\u001b[0m\u001b[0mkey\u001b[0m\u001b[1;33m,\u001b[0m \u001b[0mndim\u001b[0m\u001b[1;33m=\u001b[0m\u001b[1;36m1\u001b[0m\u001b[1;33m)\u001b[0m\u001b[1;33m\u001b[0m\u001b[1;33m\u001b[0m\u001b[0m\n\u001b[0;32m    277\u001b[0m \u001b[1;33m\u001b[0m\u001b[0m\n",
      "\u001b[1;31mKeyError\u001b[0m: 'Column not found: REQMEM'"
     ]
    }
   ],
   "source": [
    "accre_cleaned= accre_cleaned.groupby(['ACCOUNT'])['REQMEM'].mean()"
   ]
  },
  {
   "cell_type": "code",
   "execution_count": 10,
   "metadata": {},
   "outputs": [
    {
     "data": {
      "text/html": [
       "<div>\n",
       "<style scoped>\n",
       "    .dataframe tbody tr th:only-of-type {\n",
       "        vertical-align: middle;\n",
       "    }\n",
       "\n",
       "    .dataframe tbody tr th {\n",
       "        vertical-align: top;\n",
       "    }\n",
       "\n",
       "    .dataframe thead th {\n",
       "        text-align: right;\n",
       "    }\n",
       "</style>\n",
       "<table border=\"1\" class=\"dataframe\">\n",
       "  <thead>\n",
       "    <tr style=\"text-align: right;\">\n",
       "      <th></th>\n",
       "      <th>JOBID</th>\n",
       "      <th>USER</th>\n",
       "      <th>REQMEM</th>\n",
       "      <th>USEDMEM</th>\n",
       "      <th>REQTIME</th>\n",
       "      <th>USEDTIME</th>\n",
       "      <th>NODES</th>\n",
       "      <th>CPUS</th>\n",
       "      <th>PARTITION</th>\n",
       "      <th>EXITCODE</th>\n",
       "      <th>SUBMIT</th>\n",
       "      <th>ID</th>\n",
       "      <th>Sub</th>\n",
       "    </tr>\n",
       "    <tr>\n",
       "      <th>ACCOUNT</th>\n",
       "      <th></th>\n",
       "      <th></th>\n",
       "      <th></th>\n",
       "      <th></th>\n",
       "      <th></th>\n",
       "      <th></th>\n",
       "      <th></th>\n",
       "      <th></th>\n",
       "      <th></th>\n",
       "      <th></th>\n",
       "      <th></th>\n",
       "      <th></th>\n",
       "      <th></th>\n",
       "    </tr>\n",
       "  </thead>\n",
       "  <tbody>\n",
       "    <tr>\n",
       "      <th>alkmene</th>\n",
       "      <td>81963</td>\n",
       "      <td>81963</td>\n",
       "      <td>81963</td>\n",
       "      <td>81963</td>\n",
       "      <td>81963</td>\n",
       "      <td>81963</td>\n",
       "      <td>81963</td>\n",
       "      <td>81963</td>\n",
       "      <td>81963</td>\n",
       "      <td>81963</td>\n",
       "      <td>81963</td>\n",
       "      <td>81963</td>\n",
       "      <td>0</td>\n",
       "    </tr>\n",
       "    <tr>\n",
       "      <th>almonds</th>\n",
       "      <td>88643</td>\n",
       "      <td>88643</td>\n",
       "      <td>88643</td>\n",
       "      <td>88643</td>\n",
       "      <td>88643</td>\n",
       "      <td>88643</td>\n",
       "      <td>88643</td>\n",
       "      <td>88643</td>\n",
       "      <td>88643</td>\n",
       "      <td>88643</td>\n",
       "      <td>88643</td>\n",
       "      <td>88643</td>\n",
       "      <td>88596</td>\n",
       "    </tr>\n",
       "    <tr>\n",
       "      <th>amaranth</th>\n",
       "      <td>711</td>\n",
       "      <td>711</td>\n",
       "      <td>711</td>\n",
       "      <td>711</td>\n",
       "      <td>711</td>\n",
       "      <td>711</td>\n",
       "      <td>711</td>\n",
       "      <td>711</td>\n",
       "      <td>711</td>\n",
       "      <td>711</td>\n",
       "      <td>711</td>\n",
       "      <td>711</td>\n",
       "      <td>549</td>\n",
       "    </tr>\n",
       "    <tr>\n",
       "      <th>antares</th>\n",
       "      <td>178900</td>\n",
       "      <td>178900</td>\n",
       "      <td>178900</td>\n",
       "      <td>178900</td>\n",
       "      <td>178900</td>\n",
       "      <td>178900</td>\n",
       "      <td>178900</td>\n",
       "      <td>178900</td>\n",
       "      <td>178900</td>\n",
       "      <td>178900</td>\n",
       "      <td>178900</td>\n",
       "      <td>178900</td>\n",
       "      <td>0</td>\n",
       "    </tr>\n",
       "    <tr>\n",
       "      <th>arra</th>\n",
       "      <td>1315</td>\n",
       "      <td>1315</td>\n",
       "      <td>1315</td>\n",
       "      <td>1315</td>\n",
       "      <td>1315</td>\n",
       "      <td>1315</td>\n",
       "      <td>1315</td>\n",
       "      <td>1315</td>\n",
       "      <td>1315</td>\n",
       "      <td>1315</td>\n",
       "      <td>1315</td>\n",
       "      <td>1315</td>\n",
       "      <td>1247</td>\n",
       "    </tr>\n",
       "  </tbody>\n",
       "</table>\n",
       "</div>"
      ],
      "text/plain": [
       "           JOBID    USER  REQMEM  USEDMEM  REQTIME  USEDTIME   NODES    CPUS  \\\n",
       "ACCOUNT                                                                        \n",
       "alkmene    81963   81963   81963    81963    81963     81963   81963   81963   \n",
       "almonds    88643   88643   88643    88643    88643     88643   88643   88643   \n",
       "amaranth     711     711     711      711      711       711     711     711   \n",
       "antares   178900  178900  178900   178900   178900    178900  178900  178900   \n",
       "arra        1315    1315    1315     1315     1315      1315    1315    1315   \n",
       "\n",
       "          PARTITION  EXITCODE  SUBMIT      ID    Sub  \n",
       "ACCOUNT                                               \n",
       "alkmene       81963     81963   81963   81963      0  \n",
       "almonds       88643     88643   88643   88643  88596  \n",
       "amaranth        711       711     711     711    549  \n",
       "antares      178900    178900  178900  178900      0  \n",
       "arra           1315      1315    1315    1315   1247  "
      ]
     },
     "execution_count": 10,
     "metadata": {},
     "output_type": "execute_result"
    }
   ],
   "source": []
  },
  {
   "cell_type": "code",
   "execution_count": null,
   "metadata": {},
   "outputs": [],
   "source": [
    "dummy=accre_cleaned.head(10000)"
   ]
  },
  {
   "cell_type": "code",
   "execution_count": null,
   "metadata": {},
   "outputs": [],
   "source": [
    "*dummy.rolling(on)"
   ]
  }
 ],
 "metadata": {
  "kernelspec": {
   "display_name": "Python 3",
   "language": "python",
   "name": "python3"
  },
  "language_info": {
   "codemirror_mode": {
    "name": "ipython",
    "version": 3
   },
   "file_extension": ".py",
   "mimetype": "text/x-python",
   "name": "python",
   "nbconvert_exporter": "python",
   "pygments_lexer": "ipython3",
   "version": "3.7.3"
  }
 },
 "nbformat": 4,
 "nbformat_minor": 2
}
