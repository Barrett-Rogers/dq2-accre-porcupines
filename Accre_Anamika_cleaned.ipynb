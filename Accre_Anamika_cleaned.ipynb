{
 "cells": [
  {
   "cell_type": "code",
   "execution_count": 136,
   "metadata": {},
   "outputs": [],
   "source": [
    "import pandas as pd\n",
    "import numpy as np\n",
    "import matplotlib.pyplot as plt\n",
    "import seaborn as sns\n",
    "import scipy.stats as stats\n",
    "import statsmodels.api as sm\n",
    "%matplotlib inline\n",
    "import plotly.express as px"
   ]
  },
  {
   "cell_type": "code",
   "execution_count": 137,
   "metadata": {},
   "outputs": [],
   "source": [
    "accre_data =pd.read_csv('initial_data.csv')"
   ]
  },
  {
   "cell_type": "code",
   "execution_count": 138,
   "metadata": {},
   "outputs": [
    {
     "data": {
      "text/plain": [
       "(3319256, 12)"
      ]
     },
     "execution_count": 138,
     "metadata": {},
     "output_type": "execute_result"
    }
   ],
   "source": [
    "accre_data.shape"
   ]
  },
  {
   "cell_type": "code",
   "execution_count": 139,
   "metadata": {},
   "outputs": [],
   "source": [
    "initial_data=accre_data.copy()"
   ]
  },
  {
   "cell_type": "code",
   "execution_count": 140,
   "metadata": {},
   "outputs": [
    {
     "data": {
      "text/plain": [
       "(3319256, 12)"
      ]
     },
     "execution_count": 140,
     "metadata": {},
     "output_type": "execute_result"
    }
   ],
   "source": [
    "initial_data.shape"
   ]
  },
  {
   "cell_type": "code",
   "execution_count": 141,
   "metadata": {},
   "outputs": [
    {
     "name": "stdout",
     "output_type": "stream",
     "text": [
      "<class 'pandas.core.frame.DataFrame'>\n",
      "RangeIndex: 3319256 entries, 0 to 3319255\n",
      "Data columns (total 12 columns):\n",
      "JOBID        object\n",
      "ACCOUNT      object\n",
      "USER         object\n",
      "REQMEM       float64\n",
      "USEDMEM      float64\n",
      "REQTIME      int64\n",
      "USEDTIME     int64\n",
      "NODES        int64\n",
      "CPUS         int64\n",
      "PARTITION    object\n",
      "EXITCODE     object\n",
      "SUBMIT       object\n",
      "dtypes: float64(2), int64(4), object(6)\n",
      "memory usage: 303.9+ MB\n"
     ]
    }
   ],
   "source": [
    "initial_data.info()"
   ]
  },
  {
   "cell_type": "code",
   "execution_count": 142,
   "metadata": {},
   "outputs": [
    {
     "data": {
      "text/html": [
       "<div>\n",
       "<style scoped>\n",
       "    .dataframe tbody tr th:only-of-type {\n",
       "        vertical-align: middle;\n",
       "    }\n",
       "\n",
       "    .dataframe tbody tr th {\n",
       "        vertical-align: top;\n",
       "    }\n",
       "\n",
       "    .dataframe thead th {\n",
       "        text-align: right;\n",
       "    }\n",
       "</style>\n",
       "<table border=\"1\" class=\"dataframe\">\n",
       "  <thead>\n",
       "    <tr style=\"text-align: right;\">\n",
       "      <th></th>\n",
       "      <th>JOBID</th>\n",
       "      <th>ACCOUNT</th>\n",
       "      <th>USER</th>\n",
       "      <th>REQMEM</th>\n",
       "      <th>USEDMEM</th>\n",
       "      <th>REQTIME</th>\n",
       "      <th>USEDTIME</th>\n",
       "      <th>NODES</th>\n",
       "      <th>CPUS</th>\n",
       "      <th>PARTITION</th>\n",
       "      <th>EXITCODE</th>\n",
       "      <th>SUBMIT</th>\n",
       "    </tr>\n",
       "  </thead>\n",
       "  <tbody>\n",
       "    <tr>\n",
       "      <th>0</th>\n",
       "      <td>6794220</td>\n",
       "      <td>laxtons</td>\n",
       "      <td>mikala</td>\n",
       "      <td>15488.0</td>\n",
       "      <td>7201.07</td>\n",
       "      <td>1209600</td>\n",
       "      <td>955970</td>\n",
       "      <td>1</td>\n",
       "      <td>16</td>\n",
       "      <td>production</td>\n",
       "      <td>0:0</td>\n",
       "      <td>2019-03-09T16:38:44</td>\n",
       "    </tr>\n",
       "    <tr>\n",
       "      <th>1</th>\n",
       "      <td>6983193_1880</td>\n",
       "      <td>discovery</td>\n",
       "      <td>serina</td>\n",
       "      <td>12288.0</td>\n",
       "      <td>6516.10</td>\n",
       "      <td>1188000</td>\n",
       "      <td>1070801</td>\n",
       "      <td>1</td>\n",
       "      <td>1</td>\n",
       "      <td>production</td>\n",
       "      <td>0:0</td>\n",
       "      <td>2019-03-07T18:39:59</td>\n",
       "    </tr>\n",
       "    <tr>\n",
       "      <th>2</th>\n",
       "      <td>7055502_1863</td>\n",
       "      <td>discovery</td>\n",
       "      <td>serina</td>\n",
       "      <td>12288.0</td>\n",
       "      <td>0.09</td>\n",
       "      <td>1188000</td>\n",
       "      <td>1153656</td>\n",
       "      <td>1</td>\n",
       "      <td>1</td>\n",
       "      <td>production</td>\n",
       "      <td>0:0</td>\n",
       "      <td>2019-03-11T10:06:06</td>\n",
       "    </tr>\n",
       "    <tr>\n",
       "      <th>3</th>\n",
       "      <td>7055502_1800</td>\n",
       "      <td>discovery</td>\n",
       "      <td>serina</td>\n",
       "      <td>12288.0</td>\n",
       "      <td>8333.82</td>\n",
       "      <td>1188000</td>\n",
       "      <td>1050659</td>\n",
       "      <td>1</td>\n",
       "      <td>1</td>\n",
       "      <td>production</td>\n",
       "      <td>0:0</td>\n",
       "      <td>2019-03-11T10:06:06</td>\n",
       "    </tr>\n",
       "    <tr>\n",
       "      <th>4</th>\n",
       "      <td>7055502_1806</td>\n",
       "      <td>discovery</td>\n",
       "      <td>serina</td>\n",
       "      <td>12288.0</td>\n",
       "      <td>8304.03</td>\n",
       "      <td>1188000</td>\n",
       "      <td>981826</td>\n",
       "      <td>1</td>\n",
       "      <td>1</td>\n",
       "      <td>production</td>\n",
       "      <td>0:0</td>\n",
       "      <td>2019-03-11T10:06:06</td>\n",
       "    </tr>\n",
       "  </tbody>\n",
       "</table>\n",
       "</div>"
      ],
      "text/plain": [
       "          JOBID    ACCOUNT    USER   REQMEM  USEDMEM  REQTIME  USEDTIME  \\\n",
       "0       6794220    laxtons  mikala  15488.0  7201.07  1209600    955970   \n",
       "1  6983193_1880  discovery  serina  12288.0  6516.10  1188000   1070801   \n",
       "2  7055502_1863  discovery  serina  12288.0     0.09  1188000   1153656   \n",
       "3  7055502_1800  discovery  serina  12288.0  8333.82  1188000   1050659   \n",
       "4  7055502_1806  discovery  serina  12288.0  8304.03  1188000    981826   \n",
       "\n",
       "   NODES  CPUS   PARTITION EXITCODE               SUBMIT  \n",
       "0      1    16  production      0:0  2019-03-09T16:38:44  \n",
       "1      1     1  production      0:0  2019-03-07T18:39:59  \n",
       "2      1     1  production      0:0  2019-03-11T10:06:06  \n",
       "3      1     1  production      0:0  2019-03-11T10:06:06  \n",
       "4      1     1  production      0:0  2019-03-11T10:06:06  "
      ]
     },
     "execution_count": 142,
     "metadata": {},
     "output_type": "execute_result"
    }
   ],
   "source": [
    "initial_data.head()"
   ]
  },
  {
   "cell_type": "code",
   "execution_count": 143,
   "metadata": {},
   "outputs": [
    {
     "name": "stdout",
     "output_type": "stream",
     "text": [
      "Wall time: 0 ns\n"
     ]
    }
   ],
   "source": [
    "%%time \n",
    "def array_jobs(job):\n",
    "    array_split=job.split('_')\n",
    "    if len(array_split)==2:\n",
    "        jobs=job#array_split\n",
    "    else:\n",
    "        jobs=0\n",
    "        \n",
    "    return jobs"
   ]
  },
  {
   "cell_type": "code",
   "execution_count": 144,
   "metadata": {},
   "outputs": [],
   "source": [
    "initial_data.JOBID=initial_data.JOBID.apply(array_jobs)"
   ]
  },
  {
   "cell_type": "code",
   "execution_count": 145,
   "metadata": {},
   "outputs": [
    {
     "data": {
      "text/html": [
       "<div>\n",
       "<style scoped>\n",
       "    .dataframe tbody tr th:only-of-type {\n",
       "        vertical-align: middle;\n",
       "    }\n",
       "\n",
       "    .dataframe tbody tr th {\n",
       "        vertical-align: top;\n",
       "    }\n",
       "\n",
       "    .dataframe thead th {\n",
       "        text-align: right;\n",
       "    }\n",
       "</style>\n",
       "<table border=\"1\" class=\"dataframe\">\n",
       "  <thead>\n",
       "    <tr style=\"text-align: right;\">\n",
       "      <th></th>\n",
       "      <th>JOBID</th>\n",
       "      <th>ACCOUNT</th>\n",
       "      <th>USER</th>\n",
       "      <th>REQMEM</th>\n",
       "      <th>USEDMEM</th>\n",
       "      <th>REQTIME</th>\n",
       "      <th>USEDTIME</th>\n",
       "      <th>NODES</th>\n",
       "      <th>CPUS</th>\n",
       "      <th>PARTITION</th>\n",
       "      <th>EXITCODE</th>\n",
       "      <th>SUBMIT</th>\n",
       "    </tr>\n",
       "  </thead>\n",
       "  <tbody>\n",
       "    <tr>\n",
       "      <th>0</th>\n",
       "      <td>0</td>\n",
       "      <td>laxtons</td>\n",
       "      <td>mikala</td>\n",
       "      <td>15488.0</td>\n",
       "      <td>7201.07</td>\n",
       "      <td>1209600</td>\n",
       "      <td>955970</td>\n",
       "      <td>1</td>\n",
       "      <td>16</td>\n",
       "      <td>production</td>\n",
       "      <td>0:0</td>\n",
       "      <td>2019-03-09T16:38:44</td>\n",
       "    </tr>\n",
       "    <tr>\n",
       "      <th>1</th>\n",
       "      <td>6983193_1880</td>\n",
       "      <td>discovery</td>\n",
       "      <td>serina</td>\n",
       "      <td>12288.0</td>\n",
       "      <td>6516.10</td>\n",
       "      <td>1188000</td>\n",
       "      <td>1070801</td>\n",
       "      <td>1</td>\n",
       "      <td>1</td>\n",
       "      <td>production</td>\n",
       "      <td>0:0</td>\n",
       "      <td>2019-03-07T18:39:59</td>\n",
       "    </tr>\n",
       "    <tr>\n",
       "      <th>2</th>\n",
       "      <td>7055502_1863</td>\n",
       "      <td>discovery</td>\n",
       "      <td>serina</td>\n",
       "      <td>12288.0</td>\n",
       "      <td>0.09</td>\n",
       "      <td>1188000</td>\n",
       "      <td>1153656</td>\n",
       "      <td>1</td>\n",
       "      <td>1</td>\n",
       "      <td>production</td>\n",
       "      <td>0:0</td>\n",
       "      <td>2019-03-11T10:06:06</td>\n",
       "    </tr>\n",
       "    <tr>\n",
       "      <th>3</th>\n",
       "      <td>7055502_1800</td>\n",
       "      <td>discovery</td>\n",
       "      <td>serina</td>\n",
       "      <td>12288.0</td>\n",
       "      <td>8333.82</td>\n",
       "      <td>1188000</td>\n",
       "      <td>1050659</td>\n",
       "      <td>1</td>\n",
       "      <td>1</td>\n",
       "      <td>production</td>\n",
       "      <td>0:0</td>\n",
       "      <td>2019-03-11T10:06:06</td>\n",
       "    </tr>\n",
       "    <tr>\n",
       "      <th>4</th>\n",
       "      <td>7055502_1806</td>\n",
       "      <td>discovery</td>\n",
       "      <td>serina</td>\n",
       "      <td>12288.0</td>\n",
       "      <td>8304.03</td>\n",
       "      <td>1188000</td>\n",
       "      <td>981826</td>\n",
       "      <td>1</td>\n",
       "      <td>1</td>\n",
       "      <td>production</td>\n",
       "      <td>0:0</td>\n",
       "      <td>2019-03-11T10:06:06</td>\n",
       "    </tr>\n",
       "  </tbody>\n",
       "</table>\n",
       "</div>"
      ],
      "text/plain": [
       "          JOBID    ACCOUNT    USER   REQMEM  USEDMEM  REQTIME  USEDTIME  \\\n",
       "0             0    laxtons  mikala  15488.0  7201.07  1209600    955970   \n",
       "1  6983193_1880  discovery  serina  12288.0  6516.10  1188000   1070801   \n",
       "2  7055502_1863  discovery  serina  12288.0     0.09  1188000   1153656   \n",
       "3  7055502_1800  discovery  serina  12288.0  8333.82  1188000   1050659   \n",
       "4  7055502_1806  discovery  serina  12288.0  8304.03  1188000    981826   \n",
       "\n",
       "   NODES  CPUS   PARTITION EXITCODE               SUBMIT  \n",
       "0      1    16  production      0:0  2019-03-09T16:38:44  \n",
       "1      1     1  production      0:0  2019-03-07T18:39:59  \n",
       "2      1     1  production      0:0  2019-03-11T10:06:06  \n",
       "3      1     1  production      0:0  2019-03-11T10:06:06  \n",
       "4      1     1  production      0:0  2019-03-11T10:06:06  "
      ]
     },
     "execution_count": 145,
     "metadata": {},
     "output_type": "execute_result"
    }
   ],
   "source": [
    "initial_data.head()"
   ]
  },
  {
   "cell_type": "code",
   "execution_count": 146,
   "metadata": {},
   "outputs": [],
   "source": [
    "initial_data.drop(initial_data[initial_data['JOBID']==0].index,inplace=True)"
   ]
  },
  {
   "cell_type": "code",
   "execution_count": 147,
   "metadata": {},
   "outputs": [
    {
     "data": {
      "text/html": [
       "<div>\n",
       "<style scoped>\n",
       "    .dataframe tbody tr th:only-of-type {\n",
       "        vertical-align: middle;\n",
       "    }\n",
       "\n",
       "    .dataframe tbody tr th {\n",
       "        vertical-align: top;\n",
       "    }\n",
       "\n",
       "    .dataframe thead th {\n",
       "        text-align: right;\n",
       "    }\n",
       "</style>\n",
       "<table border=\"1\" class=\"dataframe\">\n",
       "  <thead>\n",
       "    <tr style=\"text-align: right;\">\n",
       "      <th></th>\n",
       "      <th>JOBID</th>\n",
       "      <th>ACCOUNT</th>\n",
       "      <th>USER</th>\n",
       "      <th>REQMEM</th>\n",
       "      <th>USEDMEM</th>\n",
       "      <th>REQTIME</th>\n",
       "      <th>USEDTIME</th>\n",
       "      <th>NODES</th>\n",
       "      <th>CPUS</th>\n",
       "      <th>PARTITION</th>\n",
       "      <th>EXITCODE</th>\n",
       "      <th>SUBMIT</th>\n",
       "    </tr>\n",
       "  </thead>\n",
       "  <tbody>\n",
       "    <tr>\n",
       "      <th>1</th>\n",
       "      <td>6983193_1880</td>\n",
       "      <td>discovery</td>\n",
       "      <td>serina</td>\n",
       "      <td>12288.0</td>\n",
       "      <td>6516.10</td>\n",
       "      <td>1188000</td>\n",
       "      <td>1070801</td>\n",
       "      <td>1</td>\n",
       "      <td>1</td>\n",
       "      <td>production</td>\n",
       "      <td>0:0</td>\n",
       "      <td>2019-03-07T18:39:59</td>\n",
       "    </tr>\n",
       "    <tr>\n",
       "      <th>2</th>\n",
       "      <td>7055502_1863</td>\n",
       "      <td>discovery</td>\n",
       "      <td>serina</td>\n",
       "      <td>12288.0</td>\n",
       "      <td>0.09</td>\n",
       "      <td>1188000</td>\n",
       "      <td>1153656</td>\n",
       "      <td>1</td>\n",
       "      <td>1</td>\n",
       "      <td>production</td>\n",
       "      <td>0:0</td>\n",
       "      <td>2019-03-11T10:06:06</td>\n",
       "    </tr>\n",
       "    <tr>\n",
       "      <th>3</th>\n",
       "      <td>7055502_1800</td>\n",
       "      <td>discovery</td>\n",
       "      <td>serina</td>\n",
       "      <td>12288.0</td>\n",
       "      <td>8333.82</td>\n",
       "      <td>1188000</td>\n",
       "      <td>1050659</td>\n",
       "      <td>1</td>\n",
       "      <td>1</td>\n",
       "      <td>production</td>\n",
       "      <td>0:0</td>\n",
       "      <td>2019-03-11T10:06:06</td>\n",
       "    </tr>\n",
       "    <tr>\n",
       "      <th>4</th>\n",
       "      <td>7055502_1806</td>\n",
       "      <td>discovery</td>\n",
       "      <td>serina</td>\n",
       "      <td>12288.0</td>\n",
       "      <td>8304.03</td>\n",
       "      <td>1188000</td>\n",
       "      <td>981826</td>\n",
       "      <td>1</td>\n",
       "      <td>1</td>\n",
       "      <td>production</td>\n",
       "      <td>0:0</td>\n",
       "      <td>2019-03-11T10:06:06</td>\n",
       "    </tr>\n",
       "    <tr>\n",
       "      <th>5</th>\n",
       "      <td>7055502_1823</td>\n",
       "      <td>discovery</td>\n",
       "      <td>serina</td>\n",
       "      <td>12288.0</td>\n",
       "      <td>7693.11</td>\n",
       "      <td>1188000</td>\n",
       "      <td>789220</td>\n",
       "      <td>1</td>\n",
       "      <td>1</td>\n",
       "      <td>production</td>\n",
       "      <td>0:0</td>\n",
       "      <td>2019-03-11T10:06:06</td>\n",
       "    </tr>\n",
       "  </tbody>\n",
       "</table>\n",
       "</div>"
      ],
      "text/plain": [
       "          JOBID    ACCOUNT    USER   REQMEM  USEDMEM  REQTIME  USEDTIME  \\\n",
       "1  6983193_1880  discovery  serina  12288.0  6516.10  1188000   1070801   \n",
       "2  7055502_1863  discovery  serina  12288.0     0.09  1188000   1153656   \n",
       "3  7055502_1800  discovery  serina  12288.0  8333.82  1188000   1050659   \n",
       "4  7055502_1806  discovery  serina  12288.0  8304.03  1188000    981826   \n",
       "5  7055502_1823  discovery  serina  12288.0  7693.11  1188000    789220   \n",
       "\n",
       "   NODES  CPUS   PARTITION EXITCODE               SUBMIT  \n",
       "1      1     1  production      0:0  2019-03-07T18:39:59  \n",
       "2      1     1  production      0:0  2019-03-11T10:06:06  \n",
       "3      1     1  production      0:0  2019-03-11T10:06:06  \n",
       "4      1     1  production      0:0  2019-03-11T10:06:06  \n",
       "5      1     1  production      0:0  2019-03-11T10:06:06  "
      ]
     },
     "execution_count": 147,
     "metadata": {},
     "output_type": "execute_result"
    }
   ],
   "source": [
    "initial_data.head()"
   ]
  },
  {
   "cell_type": "code",
   "execution_count": 148,
   "metadata": {},
   "outputs": [
    {
     "data": {
      "text/plain": [
       "0:0    2575548\n",
       "Name: EXITCODE, dtype: int64"
      ]
     },
     "execution_count": 148,
     "metadata": {},
     "output_type": "execute_result"
    }
   ],
   "source": [
    "initial_data['EXITCODE'].value_counts()"
   ]
  },
  {
   "cell_type": "code",
   "execution_count": 149,
   "metadata": {},
   "outputs": [],
   "source": [
    "initial_data[['number','sub_number']]=initial_data.JOBID.str.split('_',expand=True)"
   ]
  },
  {
   "cell_type": "code",
   "execution_count": 150,
   "metadata": {},
   "outputs": [
    {
     "data": {
      "text/html": [
       "<div>\n",
       "<style scoped>\n",
       "    .dataframe tbody tr th:only-of-type {\n",
       "        vertical-align: middle;\n",
       "    }\n",
       "\n",
       "    .dataframe tbody tr th {\n",
       "        vertical-align: top;\n",
       "    }\n",
       "\n",
       "    .dataframe thead th {\n",
       "        text-align: right;\n",
       "    }\n",
       "</style>\n",
       "<table border=\"1\" class=\"dataframe\">\n",
       "  <thead>\n",
       "    <tr style=\"text-align: right;\">\n",
       "      <th></th>\n",
       "      <th>JOBID</th>\n",
       "      <th>ACCOUNT</th>\n",
       "      <th>USER</th>\n",
       "      <th>REQMEM</th>\n",
       "      <th>USEDMEM</th>\n",
       "      <th>REQTIME</th>\n",
       "      <th>USEDTIME</th>\n",
       "      <th>NODES</th>\n",
       "      <th>CPUS</th>\n",
       "      <th>PARTITION</th>\n",
       "      <th>EXITCODE</th>\n",
       "      <th>SUBMIT</th>\n",
       "      <th>number</th>\n",
       "      <th>sub_number</th>\n",
       "    </tr>\n",
       "  </thead>\n",
       "  <tbody>\n",
       "    <tr>\n",
       "      <th>1</th>\n",
       "      <td>6983193_1880</td>\n",
       "      <td>discovery</td>\n",
       "      <td>serina</td>\n",
       "      <td>12288.0</td>\n",
       "      <td>6516.10</td>\n",
       "      <td>1188000</td>\n",
       "      <td>1070801</td>\n",
       "      <td>1</td>\n",
       "      <td>1</td>\n",
       "      <td>production</td>\n",
       "      <td>0:0</td>\n",
       "      <td>2019-03-07T18:39:59</td>\n",
       "      <td>6983193</td>\n",
       "      <td>1880</td>\n",
       "    </tr>\n",
       "    <tr>\n",
       "      <th>2</th>\n",
       "      <td>7055502_1863</td>\n",
       "      <td>discovery</td>\n",
       "      <td>serina</td>\n",
       "      <td>12288.0</td>\n",
       "      <td>0.09</td>\n",
       "      <td>1188000</td>\n",
       "      <td>1153656</td>\n",
       "      <td>1</td>\n",
       "      <td>1</td>\n",
       "      <td>production</td>\n",
       "      <td>0:0</td>\n",
       "      <td>2019-03-11T10:06:06</td>\n",
       "      <td>7055502</td>\n",
       "      <td>1863</td>\n",
       "    </tr>\n",
       "    <tr>\n",
       "      <th>3</th>\n",
       "      <td>7055502_1800</td>\n",
       "      <td>discovery</td>\n",
       "      <td>serina</td>\n",
       "      <td>12288.0</td>\n",
       "      <td>8333.82</td>\n",
       "      <td>1188000</td>\n",
       "      <td>1050659</td>\n",
       "      <td>1</td>\n",
       "      <td>1</td>\n",
       "      <td>production</td>\n",
       "      <td>0:0</td>\n",
       "      <td>2019-03-11T10:06:06</td>\n",
       "      <td>7055502</td>\n",
       "      <td>1800</td>\n",
       "    </tr>\n",
       "    <tr>\n",
       "      <th>4</th>\n",
       "      <td>7055502_1806</td>\n",
       "      <td>discovery</td>\n",
       "      <td>serina</td>\n",
       "      <td>12288.0</td>\n",
       "      <td>8304.03</td>\n",
       "      <td>1188000</td>\n",
       "      <td>981826</td>\n",
       "      <td>1</td>\n",
       "      <td>1</td>\n",
       "      <td>production</td>\n",
       "      <td>0:0</td>\n",
       "      <td>2019-03-11T10:06:06</td>\n",
       "      <td>7055502</td>\n",
       "      <td>1806</td>\n",
       "    </tr>\n",
       "    <tr>\n",
       "      <th>5</th>\n",
       "      <td>7055502_1823</td>\n",
       "      <td>discovery</td>\n",
       "      <td>serina</td>\n",
       "      <td>12288.0</td>\n",
       "      <td>7693.11</td>\n",
       "      <td>1188000</td>\n",
       "      <td>789220</td>\n",
       "      <td>1</td>\n",
       "      <td>1</td>\n",
       "      <td>production</td>\n",
       "      <td>0:0</td>\n",
       "      <td>2019-03-11T10:06:06</td>\n",
       "      <td>7055502</td>\n",
       "      <td>1823</td>\n",
       "    </tr>\n",
       "  </tbody>\n",
       "</table>\n",
       "</div>"
      ],
      "text/plain": [
       "          JOBID    ACCOUNT    USER   REQMEM  USEDMEM  REQTIME  USEDTIME  \\\n",
       "1  6983193_1880  discovery  serina  12288.0  6516.10  1188000   1070801   \n",
       "2  7055502_1863  discovery  serina  12288.0     0.09  1188000   1153656   \n",
       "3  7055502_1800  discovery  serina  12288.0  8333.82  1188000   1050659   \n",
       "4  7055502_1806  discovery  serina  12288.0  8304.03  1188000    981826   \n",
       "5  7055502_1823  discovery  serina  12288.0  7693.11  1188000    789220   \n",
       "\n",
       "   NODES  CPUS   PARTITION EXITCODE               SUBMIT   number sub_number  \n",
       "1      1     1  production      0:0  2019-03-07T18:39:59  6983193       1880  \n",
       "2      1     1  production      0:0  2019-03-11T10:06:06  7055502       1863  \n",
       "3      1     1  production      0:0  2019-03-11T10:06:06  7055502       1800  \n",
       "4      1     1  production      0:0  2019-03-11T10:06:06  7055502       1806  \n",
       "5      1     1  production      0:0  2019-03-11T10:06:06  7055502       1823  "
      ]
     },
     "execution_count": 150,
     "metadata": {},
     "output_type": "execute_result"
    }
   ],
   "source": [
    "initial_data.head()"
   ]
  },
  {
   "cell_type": "code",
   "execution_count": 151,
   "metadata": {},
   "outputs": [
    {
     "data": {
      "text/plain": [
       "(2575548, 14)"
      ]
     },
     "execution_count": 151,
     "metadata": {},
     "output_type": "execute_result"
    }
   ],
   "source": [
    "initial_data.shape"
   ]
  },
  {
   "cell_type": "code",
   "execution_count": 152,
   "metadata": {},
   "outputs": [],
   "source": [
    "#give me only data with USEDTIME <300 i.e. 5 minutes\n",
    "initial_data=initial_data[initial_data.USEDTIME<300]"
   ]
  },
  {
   "cell_type": "code",
   "execution_count": 153,
   "metadata": {},
   "outputs": [
    {
     "data": {
      "text/plain": [
       "(696855, 14)"
      ]
     },
     "execution_count": 153,
     "metadata": {},
     "output_type": "execute_result"
    }
   ],
   "source": [
    "initial_data.shape"
   ]
  },
  {
   "cell_type": "code",
   "execution_count": 154,
   "metadata": {},
   "outputs": [],
   "source": [
    "initial_data=initial_data.groupby(['number','USER','EXITCODE'],as_index=False)[['JOBID']].count()"
   ]
  },
  {
   "cell_type": "code",
   "execution_count": 155,
   "metadata": {},
   "outputs": [
    {
     "name": "stdout",
     "output_type": "stream",
     "text": [
      "<class 'pandas.core.frame.DataFrame'>\n",
      "Int64Index: 17488 entries, 0 to 17487\n",
      "Data columns (total 4 columns):\n",
      "number      17488 non-null object\n",
      "USER        17488 non-null object\n",
      "EXITCODE    17488 non-null object\n",
      "JOBID       17488 non-null int64\n",
      "dtypes: int64(1), object(3)\n",
      "memory usage: 683.1+ KB\n"
     ]
    }
   ],
   "source": [
    "initial_data.info()"
   ]
  },
  {
   "cell_type": "code",
   "execution_count": 156,
   "metadata": {},
   "outputs": [
    {
     "data": {
      "text/html": [
       "<div>\n",
       "<style scoped>\n",
       "    .dataframe tbody tr th:only-of-type {\n",
       "        vertical-align: middle;\n",
       "    }\n",
       "\n",
       "    .dataframe tbody tr th {\n",
       "        vertical-align: top;\n",
       "    }\n",
       "\n",
       "    .dataframe thead th {\n",
       "        text-align: right;\n",
       "    }\n",
       "</style>\n",
       "<table border=\"1\" class=\"dataframe\">\n",
       "  <thead>\n",
       "    <tr style=\"text-align: right;\">\n",
       "      <th></th>\n",
       "      <th>number</th>\n",
       "      <th>USER</th>\n",
       "      <th>EXITCODE</th>\n",
       "      <th>JOBID</th>\n",
       "    </tr>\n",
       "  </thead>\n",
       "  <tbody>\n",
       "    <tr>\n",
       "      <th>0</th>\n",
       "      <td>10000883</td>\n",
       "      <td>boyce</td>\n",
       "      <td>0:0</td>\n",
       "      <td>6</td>\n",
       "    </tr>\n",
       "    <tr>\n",
       "      <th>1</th>\n",
       "      <td>10007652</td>\n",
       "      <td>stacey</td>\n",
       "      <td>0:0</td>\n",
       "      <td>1</td>\n",
       "    </tr>\n",
       "    <tr>\n",
       "      <th>2</th>\n",
       "      <td>10007726</td>\n",
       "      <td>stacey</td>\n",
       "      <td>0:0</td>\n",
       "      <td>2</td>\n",
       "    </tr>\n",
       "    <tr>\n",
       "      <th>3</th>\n",
       "      <td>10007826</td>\n",
       "      <td>gerrit</td>\n",
       "      <td>0:0</td>\n",
       "      <td>50</td>\n",
       "    </tr>\n",
       "    <tr>\n",
       "      <th>4</th>\n",
       "      <td>10008050</td>\n",
       "      <td>gerrit</td>\n",
       "      <td>0:0</td>\n",
       "      <td>50</td>\n",
       "    </tr>\n",
       "  </tbody>\n",
       "</table>\n",
       "</div>"
      ],
      "text/plain": [
       "     number    USER EXITCODE  JOBID\n",
       "0  10000883   boyce      0:0      6\n",
       "1  10007652  stacey      0:0      1\n",
       "2  10007726  stacey      0:0      2\n",
       "3  10007826  gerrit      0:0     50\n",
       "4  10008050  gerrit      0:0     50"
      ]
     },
     "execution_count": 156,
     "metadata": {},
     "output_type": "execute_result"
    }
   ],
   "source": [
    "#this is the users who commited <500 jobs that were <5 minutes.\n",
    "initial_data.head()"
   ]
  },
  {
   "cell_type": "code",
   "execution_count": 157,
   "metadata": {},
   "outputs": [],
   "source": [
    "initial_data=initial_data[initial_data.JOBID>500]"
   ]
  },
  {
   "cell_type": "code",
   "execution_count": 158,
   "metadata": {},
   "outputs": [
    {
     "data": {
      "text/plain": [
       "(177, 4)"
      ]
     },
     "execution_count": 158,
     "metadata": {},
     "output_type": "execute_result"
    }
   ],
   "source": [
    "initial_data.shape"
   ]
  },
  {
   "cell_type": "code",
   "execution_count": 159,
   "metadata": {},
   "outputs": [],
   "source": [
    "#This is the number of times each person committed that criteria\n",
    "user=initial_data.groupby('USER')[['number']].count()"
   ]
  },
  {
   "cell_type": "code",
   "execution_count": 160,
   "metadata": {},
   "outputs": [
    {
     "data": {
      "text/html": [
       "<div>\n",
       "<style scoped>\n",
       "    .dataframe tbody tr th:only-of-type {\n",
       "        vertical-align: middle;\n",
       "    }\n",
       "\n",
       "    .dataframe tbody tr th {\n",
       "        vertical-align: top;\n",
       "    }\n",
       "\n",
       "    .dataframe thead th {\n",
       "        text-align: right;\n",
       "    }\n",
       "</style>\n",
       "<table border=\"1\" class=\"dataframe\">\n",
       "  <thead>\n",
       "    <tr style=\"text-align: right;\">\n",
       "      <th></th>\n",
       "      <th>number</th>\n",
       "    </tr>\n",
       "    <tr>\n",
       "      <th>USER</th>\n",
       "      <th></th>\n",
       "    </tr>\n",
       "  </thead>\n",
       "  <tbody>\n",
       "    <tr>\n",
       "      <th>alf</th>\n",
       "      <td>3</td>\n",
       "    </tr>\n",
       "    <tr>\n",
       "      <th>alisson</th>\n",
       "      <td>1</td>\n",
       "    </tr>\n",
       "    <tr>\n",
       "      <th>archie</th>\n",
       "      <td>2</td>\n",
       "    </tr>\n",
       "    <tr>\n",
       "      <th>baylee</th>\n",
       "      <td>7</td>\n",
       "    </tr>\n",
       "    <tr>\n",
       "      <th>benson</th>\n",
       "      <td>19</td>\n",
       "    </tr>\n",
       "    <tr>\n",
       "      <th>boyce</th>\n",
       "      <td>31</td>\n",
       "    </tr>\n",
       "    <tr>\n",
       "      <th>brande</th>\n",
       "      <td>22</td>\n",
       "    </tr>\n",
       "    <tr>\n",
       "      <th>demarcus</th>\n",
       "      <td>7</td>\n",
       "    </tr>\n",
       "    <tr>\n",
       "      <th>hjalmar</th>\n",
       "      <td>2</td>\n",
       "    </tr>\n",
       "    <tr>\n",
       "      <th>jermaine</th>\n",
       "      <td>1</td>\n",
       "    </tr>\n",
       "    <tr>\n",
       "      <th>kaye</th>\n",
       "      <td>1</td>\n",
       "    </tr>\n",
       "    <tr>\n",
       "      <th>lashawn</th>\n",
       "      <td>2</td>\n",
       "    </tr>\n",
       "    <tr>\n",
       "      <th>macey</th>\n",
       "      <td>1</td>\n",
       "    </tr>\n",
       "    <tr>\n",
       "      <th>obie</th>\n",
       "      <td>3</td>\n",
       "    </tr>\n",
       "    <tr>\n",
       "      <th>osborne</th>\n",
       "      <td>1</td>\n",
       "    </tr>\n",
       "    <tr>\n",
       "      <th>pamelia</th>\n",
       "      <td>1</td>\n",
       "    </tr>\n",
       "    <tr>\n",
       "      <th>somer</th>\n",
       "      <td>1</td>\n",
       "    </tr>\n",
       "    <tr>\n",
       "      <th>stefanie</th>\n",
       "      <td>1</td>\n",
       "    </tr>\n",
       "    <tr>\n",
       "      <th>tegan</th>\n",
       "      <td>2</td>\n",
       "    </tr>\n",
       "    <tr>\n",
       "      <th>tommie</th>\n",
       "      <td>62</td>\n",
       "    </tr>\n",
       "    <tr>\n",
       "      <th>vaughn</th>\n",
       "      <td>1</td>\n",
       "    </tr>\n",
       "    <tr>\n",
       "      <th>whitley</th>\n",
       "      <td>6</td>\n",
       "    </tr>\n",
       "  </tbody>\n",
       "</table>\n",
       "</div>"
      ],
      "text/plain": [
       "          number\n",
       "USER            \n",
       "alf            3\n",
       "alisson        1\n",
       "archie         2\n",
       "baylee         7\n",
       "benson        19\n",
       "boyce         31\n",
       "brande        22\n",
       "demarcus       7\n",
       "hjalmar        2\n",
       "jermaine       1\n",
       "kaye           1\n",
       "lashawn        2\n",
       "macey          1\n",
       "obie           3\n",
       "osborne        1\n",
       "pamelia        1\n",
       "somer          1\n",
       "stefanie       1\n",
       "tegan          2\n",
       "tommie        62\n",
       "vaughn         1\n",
       "whitley        6"
      ]
     },
     "execution_count": 160,
     "metadata": {},
     "output_type": "execute_result"
    }
   ],
   "source": [
    "user"
   ]
  },
  {
   "cell_type": "code",
   "execution_count": 161,
   "metadata": {},
   "outputs": [],
   "source": [
    "exit_code=accre_data.copy()"
   ]
  },
  {
   "cell_type": "code",
   "execution_count": 162,
   "metadata": {},
   "outputs": [
    {
     "data": {
      "text/html": [
       "<div>\n",
       "<style scoped>\n",
       "    .dataframe tbody tr th:only-of-type {\n",
       "        vertical-align: middle;\n",
       "    }\n",
       "\n",
       "    .dataframe tbody tr th {\n",
       "        vertical-align: top;\n",
       "    }\n",
       "\n",
       "    .dataframe thead th {\n",
       "        text-align: right;\n",
       "    }\n",
       "</style>\n",
       "<table border=\"1\" class=\"dataframe\">\n",
       "  <thead>\n",
       "    <tr style=\"text-align: right;\">\n",
       "      <th></th>\n",
       "      <th>JOBID</th>\n",
       "      <th>ACCOUNT</th>\n",
       "      <th>USER</th>\n",
       "      <th>REQMEM</th>\n",
       "      <th>USEDMEM</th>\n",
       "      <th>REQTIME</th>\n",
       "      <th>USEDTIME</th>\n",
       "      <th>NODES</th>\n",
       "      <th>CPUS</th>\n",
       "      <th>PARTITION</th>\n",
       "      <th>EXITCODE</th>\n",
       "      <th>SUBMIT</th>\n",
       "    </tr>\n",
       "  </thead>\n",
       "  <tbody>\n",
       "    <tr>\n",
       "      <th>0</th>\n",
       "      <td>6794220</td>\n",
       "      <td>laxtons</td>\n",
       "      <td>mikala</td>\n",
       "      <td>15488.0</td>\n",
       "      <td>7201.07</td>\n",
       "      <td>1209600</td>\n",
       "      <td>955970</td>\n",
       "      <td>1</td>\n",
       "      <td>16</td>\n",
       "      <td>production</td>\n",
       "      <td>0:0</td>\n",
       "      <td>2019-03-09T16:38:44</td>\n",
       "    </tr>\n",
       "    <tr>\n",
       "      <th>1</th>\n",
       "      <td>6983193_1880</td>\n",
       "      <td>discovery</td>\n",
       "      <td>serina</td>\n",
       "      <td>12288.0</td>\n",
       "      <td>6516.10</td>\n",
       "      <td>1188000</td>\n",
       "      <td>1070801</td>\n",
       "      <td>1</td>\n",
       "      <td>1</td>\n",
       "      <td>production</td>\n",
       "      <td>0:0</td>\n",
       "      <td>2019-03-07T18:39:59</td>\n",
       "    </tr>\n",
       "    <tr>\n",
       "      <th>2</th>\n",
       "      <td>7055502_1863</td>\n",
       "      <td>discovery</td>\n",
       "      <td>serina</td>\n",
       "      <td>12288.0</td>\n",
       "      <td>0.09</td>\n",
       "      <td>1188000</td>\n",
       "      <td>1153656</td>\n",
       "      <td>1</td>\n",
       "      <td>1</td>\n",
       "      <td>production</td>\n",
       "      <td>0:0</td>\n",
       "      <td>2019-03-11T10:06:06</td>\n",
       "    </tr>\n",
       "    <tr>\n",
       "      <th>3</th>\n",
       "      <td>7055502_1800</td>\n",
       "      <td>discovery</td>\n",
       "      <td>serina</td>\n",
       "      <td>12288.0</td>\n",
       "      <td>8333.82</td>\n",
       "      <td>1188000</td>\n",
       "      <td>1050659</td>\n",
       "      <td>1</td>\n",
       "      <td>1</td>\n",
       "      <td>production</td>\n",
       "      <td>0:0</td>\n",
       "      <td>2019-03-11T10:06:06</td>\n",
       "    </tr>\n",
       "    <tr>\n",
       "      <th>4</th>\n",
       "      <td>7055502_1806</td>\n",
       "      <td>discovery</td>\n",
       "      <td>serina</td>\n",
       "      <td>12288.0</td>\n",
       "      <td>8304.03</td>\n",
       "      <td>1188000</td>\n",
       "      <td>981826</td>\n",
       "      <td>1</td>\n",
       "      <td>1</td>\n",
       "      <td>production</td>\n",
       "      <td>0:0</td>\n",
       "      <td>2019-03-11T10:06:06</td>\n",
       "    </tr>\n",
       "  </tbody>\n",
       "</table>\n",
       "</div>"
      ],
      "text/plain": [
       "          JOBID    ACCOUNT    USER   REQMEM  USEDMEM  REQTIME  USEDTIME  \\\n",
       "0       6794220    laxtons  mikala  15488.0  7201.07  1209600    955970   \n",
       "1  6983193_1880  discovery  serina  12288.0  6516.10  1188000   1070801   \n",
       "2  7055502_1863  discovery  serina  12288.0     0.09  1188000   1153656   \n",
       "3  7055502_1800  discovery  serina  12288.0  8333.82  1188000   1050659   \n",
       "4  7055502_1806  discovery  serina  12288.0  8304.03  1188000    981826   \n",
       "\n",
       "   NODES  CPUS   PARTITION EXITCODE               SUBMIT  \n",
       "0      1    16  production      0:0  2019-03-09T16:38:44  \n",
       "1      1     1  production      0:0  2019-03-07T18:39:59  \n",
       "2      1     1  production      0:0  2019-03-11T10:06:06  \n",
       "3      1     1  production      0:0  2019-03-11T10:06:06  \n",
       "4      1     1  production      0:0  2019-03-11T10:06:06  "
      ]
     },
     "execution_count": 162,
     "metadata": {},
     "output_type": "execute_result"
    }
   ],
   "source": [
    "exit_code.head()"
   ]
  },
  {
   "cell_type": "code",
   "execution_count": 163,
   "metadata": {},
   "outputs": [],
   "source": [
    "#how many jobs were unsuccessful. i.e. exitcode not equal '0:0'\n",
    "exit_code=exit_code[exit_code.EXITCODE!='0:0']\n"
   ]
  },
  {
   "cell_type": "code",
   "execution_count": 164,
   "metadata": {},
   "outputs": [
    {
     "data": {
      "text/html": [
       "<div>\n",
       "<style scoped>\n",
       "    .dataframe tbody tr th:only-of-type {\n",
       "        vertical-align: middle;\n",
       "    }\n",
       "\n",
       "    .dataframe tbody tr th {\n",
       "        vertical-align: top;\n",
       "    }\n",
       "\n",
       "    .dataframe thead th {\n",
       "        text-align: right;\n",
       "    }\n",
       "</style>\n",
       "<table border=\"1\" class=\"dataframe\">\n",
       "  <thead>\n",
       "    <tr style=\"text-align: right;\">\n",
       "      <th></th>\n",
       "      <th>JOBID</th>\n",
       "      <th>ACCOUNT</th>\n",
       "      <th>USER</th>\n",
       "      <th>REQMEM</th>\n",
       "      <th>USEDMEM</th>\n",
       "      <th>REQTIME</th>\n",
       "      <th>USEDTIME</th>\n",
       "      <th>NODES</th>\n",
       "      <th>CPUS</th>\n",
       "      <th>PARTITION</th>\n",
       "      <th>EXITCODE</th>\n",
       "      <th>SUBMIT</th>\n",
       "    </tr>\n",
       "  </thead>\n",
       "  <tbody>\n",
       "    <tr>\n",
       "      <th>16652</th>\n",
       "      <td>7269184</td>\n",
       "      <td>atemoyas</td>\n",
       "      <td>benson</td>\n",
       "      <td>1024.0</td>\n",
       "      <td>1023.83</td>\n",
       "      <td>1500</td>\n",
       "      <td>1435</td>\n",
       "      <td>1</td>\n",
       "      <td>1</td>\n",
       "      <td>production</td>\n",
       "      <td>0:125</td>\n",
       "      <td>2019-03-21T18:38:42</td>\n",
       "    </tr>\n",
       "    <tr>\n",
       "      <th>23910</th>\n",
       "      <td>7281699</td>\n",
       "      <td>pinole</td>\n",
       "      <td>christa</td>\n",
       "      <td>1024.0</td>\n",
       "      <td>430.72</td>\n",
       "      <td>1800</td>\n",
       "      <td>41</td>\n",
       "      <td>2</td>\n",
       "      <td>1</td>\n",
       "      <td>production</td>\n",
       "      <td>7:0</td>\n",
       "      <td>2019-03-22T08:37:35</td>\n",
       "    </tr>\n",
       "    <tr>\n",
       "      <th>24000</th>\n",
       "      <td>7281822</td>\n",
       "      <td>pinole</td>\n",
       "      <td>christa</td>\n",
       "      <td>6144.0</td>\n",
       "      <td>0.00</td>\n",
       "      <td>1800</td>\n",
       "      <td>22</td>\n",
       "      <td>1</td>\n",
       "      <td>1</td>\n",
       "      <td>production</td>\n",
       "      <td>7:0</td>\n",
       "      <td>2019-03-22T08:47:42</td>\n",
       "    </tr>\n",
       "    <tr>\n",
       "      <th>24274</th>\n",
       "      <td>7282440</td>\n",
       "      <td>blood</td>\n",
       "      <td>jonnie</td>\n",
       "      <td>12288.0</td>\n",
       "      <td>0.18</td>\n",
       "      <td>1800</td>\n",
       "      <td>19</td>\n",
       "      <td>2</td>\n",
       "      <td>1</td>\n",
       "      <td>production</td>\n",
       "      <td>7:0</td>\n",
       "      <td>2019-03-22T09:36:29</td>\n",
       "    </tr>\n",
       "    <tr>\n",
       "      <th>24394</th>\n",
       "      <td>7282671</td>\n",
       "      <td>pinole</td>\n",
       "      <td>christa</td>\n",
       "      <td>1024.0</td>\n",
       "      <td>0.16</td>\n",
       "      <td>1800</td>\n",
       "      <td>31</td>\n",
       "      <td>2</td>\n",
       "      <td>1</td>\n",
       "      <td>production</td>\n",
       "      <td>7:0</td>\n",
       "      <td>2019-03-22T10:06:30</td>\n",
       "    </tr>\n",
       "  </tbody>\n",
       "</table>\n",
       "</div>"
      ],
      "text/plain": [
       "         JOBID   ACCOUNT     USER   REQMEM  USEDMEM  REQTIME  USEDTIME  NODES  \\\n",
       "16652  7269184  atemoyas   benson   1024.0  1023.83     1500      1435      1   \n",
       "23910  7281699    pinole  christa   1024.0   430.72     1800        41      2   \n",
       "24000  7281822    pinole  christa   6144.0     0.00     1800        22      1   \n",
       "24274  7282440     blood   jonnie  12288.0     0.18     1800        19      2   \n",
       "24394  7282671    pinole  christa   1024.0     0.16     1800        31      2   \n",
       "\n",
       "       CPUS   PARTITION EXITCODE               SUBMIT  \n",
       "16652     1  production    0:125  2019-03-21T18:38:42  \n",
       "23910     1  production      7:0  2019-03-22T08:37:35  \n",
       "24000     1  production      7:0  2019-03-22T08:47:42  \n",
       "24274     1  production      7:0  2019-03-22T09:36:29  \n",
       "24394     1  production      7:0  2019-03-22T10:06:30  "
      ]
     },
     "execution_count": 164,
     "metadata": {},
     "output_type": "execute_result"
    }
   ],
   "source": [
    "exit_code.head()\n"
   ]
  },
  {
   "cell_type": "code",
   "execution_count": 165,
   "metadata": {},
   "outputs": [
    {
     "data": {
      "text/plain": [
       "(105, 12)"
      ]
     },
     "execution_count": 165,
     "metadata": {},
     "output_type": "execute_result"
    }
   ],
   "source": [
    "exit_code.shape"
   ]
  },
  {
   "cell_type": "code",
   "execution_count": 166,
   "metadata": {},
   "outputs": [
    {
     "data": {
      "text/html": [
       "<div>\n",
       "<style scoped>\n",
       "    .dataframe tbody tr th:only-of-type {\n",
       "        vertical-align: middle;\n",
       "    }\n",
       "\n",
       "    .dataframe tbody tr th {\n",
       "        vertical-align: top;\n",
       "    }\n",
       "\n",
       "    .dataframe thead th {\n",
       "        text-align: right;\n",
       "    }\n",
       "</style>\n",
       "<table border=\"1\" class=\"dataframe\">\n",
       "  <thead>\n",
       "    <tr style=\"text-align: right;\">\n",
       "      <th></th>\n",
       "      <th></th>\n",
       "      <th>JOBID</th>\n",
       "    </tr>\n",
       "    <tr>\n",
       "      <th>ACCOUNT</th>\n",
       "      <th>USER</th>\n",
       "      <th></th>\n",
       "    </tr>\n",
       "  </thead>\n",
       "  <tbody>\n",
       "    <tr>\n",
       "      <th>atemoyas</th>\n",
       "      <th>benson</th>\n",
       "      <td>1</td>\n",
       "    </tr>\n",
       "    <tr>\n",
       "      <th>baby</th>\n",
       "      <th>christina</th>\n",
       "      <td>1</td>\n",
       "    </tr>\n",
       "    <tr>\n",
       "      <th>blood</th>\n",
       "      <th>jonnie</th>\n",
       "      <td>4</td>\n",
       "    </tr>\n",
       "    <tr>\n",
       "      <th>carrot</th>\n",
       "      <th>ari</th>\n",
       "      <td>1</td>\n",
       "    </tr>\n",
       "    <tr>\n",
       "      <th>cep</th>\n",
       "      <th>tremaine</th>\n",
       "      <td>1</td>\n",
       "    </tr>\n",
       "    <tr>\n",
       "      <th>cepuna</th>\n",
       "      <th>luvinia</th>\n",
       "      <td>1</td>\n",
       "    </tr>\n",
       "    <tr>\n",
       "      <th>chanterelle</th>\n",
       "      <th>adalyn</th>\n",
       "      <td>2</td>\n",
       "    </tr>\n",
       "    <tr>\n",
       "      <th>durondeau</th>\n",
       "      <th>ginger</th>\n",
       "      <td>9</td>\n",
       "    </tr>\n",
       "    <tr>\n",
       "      <th>forelle</th>\n",
       "      <th>cleva</th>\n",
       "      <td>5</td>\n",
       "    </tr>\n",
       "    <tr>\n",
       "      <th>kumquat</th>\n",
       "      <th>icey</th>\n",
       "      <td>5</td>\n",
       "    </tr>\n",
       "    <tr>\n",
       "      <th>laxtons</th>\n",
       "      <th>otis</th>\n",
       "      <td>12</td>\n",
       "    </tr>\n",
       "    <tr>\n",
       "      <th>melogold</th>\n",
       "      <th>destin</th>\n",
       "      <td>23</td>\n",
       "    </tr>\n",
       "    <tr>\n",
       "      <th>milwa</th>\n",
       "      <th>charlotte</th>\n",
       "      <td>1</td>\n",
       "    </tr>\n",
       "    <tr>\n",
       "      <th>mixed</th>\n",
       "      <th>tavaris</th>\n",
       "      <td>5</td>\n",
       "    </tr>\n",
       "    <tr>\n",
       "      <th>morita</th>\n",
       "      <th>collins</th>\n",
       "      <td>3</td>\n",
       "    </tr>\n",
       "    <tr>\n",
       "      <th rowspan=\"3\" valign=\"top\">pecans</th>\n",
       "      <th>acie</th>\n",
       "      <td>5</td>\n",
       "    </tr>\n",
       "    <tr>\n",
       "      <th>shiela</th>\n",
       "      <td>2</td>\n",
       "    </tr>\n",
       "    <tr>\n",
       "      <th>suzy</th>\n",
       "      <td>4</td>\n",
       "    </tr>\n",
       "    <tr>\n",
       "      <th>pinole</th>\n",
       "      <th>christa</th>\n",
       "      <td>5</td>\n",
       "    </tr>\n",
       "    <tr>\n",
       "      <th>president</th>\n",
       "      <th>diandra</th>\n",
       "      <td>1</td>\n",
       "    </tr>\n",
       "    <tr>\n",
       "      <th>stalk</th>\n",
       "      <th>wava</th>\n",
       "      <td>2</td>\n",
       "    </tr>\n",
       "    <tr>\n",
       "      <th>sunburst</th>\n",
       "      <th>belia</th>\n",
       "      <td>8</td>\n",
       "    </tr>\n",
       "    <tr>\n",
       "      <th>turban</th>\n",
       "      <th>andra</th>\n",
       "      <td>4</td>\n",
       "    </tr>\n",
       "  </tbody>\n",
       "</table>\n",
       "</div>"
      ],
      "text/plain": [
       "                       JOBID\n",
       "ACCOUNT     USER            \n",
       "atemoyas    benson         1\n",
       "baby        christina      1\n",
       "blood       jonnie         4\n",
       "carrot      ari            1\n",
       "cep         tremaine       1\n",
       "cepuna      luvinia        1\n",
       "chanterelle adalyn         2\n",
       "durondeau   ginger         9\n",
       "forelle     cleva          5\n",
       "kumquat     icey           5\n",
       "laxtons     otis          12\n",
       "melogold    destin        23\n",
       "milwa       charlotte      1\n",
       "mixed       tavaris        5\n",
       "morita      collins        3\n",
       "pecans      acie           5\n",
       "            shiela         2\n",
       "            suzy           4\n",
       "pinole      christa        5\n",
       "president   diandra        1\n",
       "stalk       wava           2\n",
       "sunburst    belia          8\n",
       "turban      andra          4"
      ]
     },
     "execution_count": 166,
     "metadata": {},
     "output_type": "execute_result"
    }
   ],
   "source": [
    "#shows the accounts and user of each account and how many jobs they committed that failed. \n",
    "exit_code.groupby(['ACCOUNT','USER'])[['JOBID']].count()"
   ]
  },
  {
   "cell_type": "code",
   "execution_count": 167,
   "metadata": {},
   "outputs": [],
   "source": [
    "#bring in the clean data again and work on part-2 of question one. Answering the within 4 hours mark\n",
    "within_4_hours=accre_data.copy()"
   ]
  },
  {
   "cell_type": "code",
   "execution_count": 168,
   "metadata": {},
   "outputs": [
    {
     "data": {
      "text/plain": [
       "(3319256, 12)"
      ]
     },
     "execution_count": 168,
     "metadata": {},
     "output_type": "execute_result"
    }
   ],
   "source": [
    "\n",
    "within_4_hours.shape"
   ]
  },
  {
   "cell_type": "code",
   "execution_count": 169,
   "metadata": {},
   "outputs": [
    {
     "data": {
      "text/html": [
       "<div>\n",
       "<style scoped>\n",
       "    .dataframe tbody tr th:only-of-type {\n",
       "        vertical-align: middle;\n",
       "    }\n",
       "\n",
       "    .dataframe tbody tr th {\n",
       "        vertical-align: top;\n",
       "    }\n",
       "\n",
       "    .dataframe thead th {\n",
       "        text-align: right;\n",
       "    }\n",
       "</style>\n",
       "<table border=\"1\" class=\"dataframe\">\n",
       "  <thead>\n",
       "    <tr style=\"text-align: right;\">\n",
       "      <th></th>\n",
       "      <th>JOBID</th>\n",
       "      <th>ACCOUNT</th>\n",
       "      <th>USER</th>\n",
       "      <th>REQMEM</th>\n",
       "      <th>USEDMEM</th>\n",
       "      <th>REQTIME</th>\n",
       "      <th>USEDTIME</th>\n",
       "      <th>NODES</th>\n",
       "      <th>CPUS</th>\n",
       "      <th>PARTITION</th>\n",
       "      <th>EXITCODE</th>\n",
       "      <th>SUBMIT</th>\n",
       "    </tr>\n",
       "  </thead>\n",
       "  <tbody>\n",
       "    <tr>\n",
       "      <th>0</th>\n",
       "      <td>6794220</td>\n",
       "      <td>laxtons</td>\n",
       "      <td>mikala</td>\n",
       "      <td>15488.0</td>\n",
       "      <td>7201.07</td>\n",
       "      <td>1209600</td>\n",
       "      <td>955970</td>\n",
       "      <td>1</td>\n",
       "      <td>16</td>\n",
       "      <td>production</td>\n",
       "      <td>0:0</td>\n",
       "      <td>2019-03-09T16:38:44</td>\n",
       "    </tr>\n",
       "    <tr>\n",
       "      <th>1</th>\n",
       "      <td>6983193_1880</td>\n",
       "      <td>discovery</td>\n",
       "      <td>serina</td>\n",
       "      <td>12288.0</td>\n",
       "      <td>6516.10</td>\n",
       "      <td>1188000</td>\n",
       "      <td>1070801</td>\n",
       "      <td>1</td>\n",
       "      <td>1</td>\n",
       "      <td>production</td>\n",
       "      <td>0:0</td>\n",
       "      <td>2019-03-07T18:39:59</td>\n",
       "    </tr>\n",
       "    <tr>\n",
       "      <th>2</th>\n",
       "      <td>7055502_1863</td>\n",
       "      <td>discovery</td>\n",
       "      <td>serina</td>\n",
       "      <td>12288.0</td>\n",
       "      <td>0.09</td>\n",
       "      <td>1188000</td>\n",
       "      <td>1153656</td>\n",
       "      <td>1</td>\n",
       "      <td>1</td>\n",
       "      <td>production</td>\n",
       "      <td>0:0</td>\n",
       "      <td>2019-03-11T10:06:06</td>\n",
       "    </tr>\n",
       "    <tr>\n",
       "      <th>3</th>\n",
       "      <td>7055502_1800</td>\n",
       "      <td>discovery</td>\n",
       "      <td>serina</td>\n",
       "      <td>12288.0</td>\n",
       "      <td>8333.82</td>\n",
       "      <td>1188000</td>\n",
       "      <td>1050659</td>\n",
       "      <td>1</td>\n",
       "      <td>1</td>\n",
       "      <td>production</td>\n",
       "      <td>0:0</td>\n",
       "      <td>2019-03-11T10:06:06</td>\n",
       "    </tr>\n",
       "    <tr>\n",
       "      <th>4</th>\n",
       "      <td>7055502_1806</td>\n",
       "      <td>discovery</td>\n",
       "      <td>serina</td>\n",
       "      <td>12288.0</td>\n",
       "      <td>8304.03</td>\n",
       "      <td>1188000</td>\n",
       "      <td>981826</td>\n",
       "      <td>1</td>\n",
       "      <td>1</td>\n",
       "      <td>production</td>\n",
       "      <td>0:0</td>\n",
       "      <td>2019-03-11T10:06:06</td>\n",
       "    </tr>\n",
       "  </tbody>\n",
       "</table>\n",
       "</div>"
      ],
      "text/plain": [
       "          JOBID    ACCOUNT    USER   REQMEM  USEDMEM  REQTIME  USEDTIME  \\\n",
       "0       6794220    laxtons  mikala  15488.0  7201.07  1209600    955970   \n",
       "1  6983193_1880  discovery  serina  12288.0  6516.10  1188000   1070801   \n",
       "2  7055502_1863  discovery  serina  12288.0     0.09  1188000   1153656   \n",
       "3  7055502_1800  discovery  serina  12288.0  8333.82  1188000   1050659   \n",
       "4  7055502_1806  discovery  serina  12288.0  8304.03  1188000    981826   \n",
       "\n",
       "   NODES  CPUS   PARTITION EXITCODE               SUBMIT  \n",
       "0      1    16  production      0:0  2019-03-09T16:38:44  \n",
       "1      1     1  production      0:0  2019-03-07T18:39:59  \n",
       "2      1     1  production      0:0  2019-03-11T10:06:06  \n",
       "3      1     1  production      0:0  2019-03-11T10:06:06  \n",
       "4      1     1  production      0:0  2019-03-11T10:06:06  "
      ]
     },
     "execution_count": 169,
     "metadata": {},
     "output_type": "execute_result"
    }
   ],
   "source": [
    "within_4_hours.head()"
   ]
  },
  {
   "cell_type": "code",
   "execution_count": 170,
   "metadata": {},
   "outputs": [],
   "source": [
    "#converted the submit section to datetime type\n",
    "within_4_hours['SUBMIT']=pd.to_datetime(within_4_hours.SUBMIT)"
   ]
  },
  {
   "cell_type": "code",
   "execution_count": 171,
   "metadata": {},
   "outputs": [
    {
     "data": {
      "text/html": [
       "<div>\n",
       "<style scoped>\n",
       "    .dataframe tbody tr th:only-of-type {\n",
       "        vertical-align: middle;\n",
       "    }\n",
       "\n",
       "    .dataframe tbody tr th {\n",
       "        vertical-align: top;\n",
       "    }\n",
       "\n",
       "    .dataframe thead th {\n",
       "        text-align: right;\n",
       "    }\n",
       "</style>\n",
       "<table border=\"1\" class=\"dataframe\">\n",
       "  <thead>\n",
       "    <tr style=\"text-align: right;\">\n",
       "      <th></th>\n",
       "      <th>JOBID</th>\n",
       "      <th>ACCOUNT</th>\n",
       "      <th>USER</th>\n",
       "      <th>REQMEM</th>\n",
       "      <th>USEDMEM</th>\n",
       "      <th>REQTIME</th>\n",
       "      <th>USEDTIME</th>\n",
       "      <th>NODES</th>\n",
       "      <th>CPUS</th>\n",
       "      <th>PARTITION</th>\n",
       "      <th>EXITCODE</th>\n",
       "      <th>SUBMIT</th>\n",
       "    </tr>\n",
       "  </thead>\n",
       "  <tbody>\n",
       "    <tr>\n",
       "      <th>0</th>\n",
       "      <td>6794220</td>\n",
       "      <td>laxtons</td>\n",
       "      <td>mikala</td>\n",
       "      <td>15488.0</td>\n",
       "      <td>7201.07</td>\n",
       "      <td>1209600</td>\n",
       "      <td>955970</td>\n",
       "      <td>1</td>\n",
       "      <td>16</td>\n",
       "      <td>production</td>\n",
       "      <td>0:0</td>\n",
       "      <td>2019-03-09 16:38:44</td>\n",
       "    </tr>\n",
       "    <tr>\n",
       "      <th>1</th>\n",
       "      <td>6983193_1880</td>\n",
       "      <td>discovery</td>\n",
       "      <td>serina</td>\n",
       "      <td>12288.0</td>\n",
       "      <td>6516.10</td>\n",
       "      <td>1188000</td>\n",
       "      <td>1070801</td>\n",
       "      <td>1</td>\n",
       "      <td>1</td>\n",
       "      <td>production</td>\n",
       "      <td>0:0</td>\n",
       "      <td>2019-03-07 18:39:59</td>\n",
       "    </tr>\n",
       "  </tbody>\n",
       "</table>\n",
       "</div>"
      ],
      "text/plain": [
       "          JOBID    ACCOUNT    USER   REQMEM  USEDMEM  REQTIME  USEDTIME  \\\n",
       "0       6794220    laxtons  mikala  15488.0  7201.07  1209600    955970   \n",
       "1  6983193_1880  discovery  serina  12288.0  6516.10  1188000   1070801   \n",
       "\n",
       "   NODES  CPUS   PARTITION EXITCODE              SUBMIT  \n",
       "0      1    16  production      0:0 2019-03-09 16:38:44  \n",
       "1      1     1  production      0:0 2019-03-07 18:39:59  "
      ]
     },
     "execution_count": 171,
     "metadata": {},
     "output_type": "execute_result"
    }
   ],
   "source": [
    "within_4_hours.head(2)"
   ]
  },
  {
   "cell_type": "code",
   "execution_count": 172,
   "metadata": {},
   "outputs": [
    {
     "name": "stdout",
     "output_type": "stream",
     "text": [
      "<class 'pandas.core.frame.DataFrame'>\n",
      "RangeIndex: 3319256 entries, 0 to 3319255\n",
      "Data columns (total 12 columns):\n",
      "JOBID        object\n",
      "ACCOUNT      object\n",
      "USER         object\n",
      "REQMEM       float64\n",
      "USEDMEM      float64\n",
      "REQTIME      int64\n",
      "USEDTIME     int64\n",
      "NODES        int64\n",
      "CPUS         int64\n",
      "PARTITION    object\n",
      "EXITCODE     object\n",
      "SUBMIT       datetime64[ns]\n",
      "dtypes: datetime64[ns](1), float64(2), int64(4), object(5)\n",
      "memory usage: 303.9+ MB\n"
     ]
    }
   ],
   "source": [
    "within_4_hours.info()"
   ]
  },
  {
   "cell_type": "code",
   "execution_count": 173,
   "metadata": {},
   "outputs": [],
   "source": [
    "rolling_jobs=within_4_hours[within_4_hours.USEDTIME<300]"
   ]
  },
  {
   "cell_type": "code",
   "execution_count": 174,
   "metadata": {},
   "outputs": [
    {
     "data": {
      "text/plain": [
       "(822925, 12)"
      ]
     },
     "execution_count": 174,
     "metadata": {},
     "output_type": "execute_result"
    }
   ],
   "source": [
    "rolling_jobs.shape"
   ]
  },
  {
   "cell_type": "code",
   "execution_count": 175,
   "metadata": {},
   "outputs": [],
   "source": [
    "rolling_jobs=rolling_jobs.sort_values('SUBMIT')"
   ]
  },
  {
   "cell_type": "code",
   "execution_count": 176,
   "metadata": {},
   "outputs": [],
   "source": [
    "#rolling_jobs=within_4_hours.groupby('USER').rolling(on='SUBMIT',window='4H').JOBID.count()\n",
    "rolling_jobs=rolling_jobs.groupby('USER').rolling(on='SUBMIT',window='4h').JOBID.count()"
   ]
  },
  {
   "cell_type": "code",
   "execution_count": 177,
   "metadata": {},
   "outputs": [
    {
     "data": {
      "text/plain": [
       "(822925,)"
      ]
     },
     "execution_count": 177,
     "metadata": {},
     "output_type": "execute_result"
    }
   ],
   "source": [
    "rolling_jobs.shape"
   ]
  },
  {
   "cell_type": "code",
   "execution_count": 178,
   "metadata": {},
   "outputs": [
    {
     "data": {
      "text/plain": [
       "USER     SUBMIT             \n",
       "abigail  2019-03-26 15:27:33    1.0\n",
       "         2019-03-27 03:38:27    1.0\n",
       "         2019-03-27 11:13:51    1.0\n",
       "         2019-03-27 11:20:34    2.0\n",
       "         2019-03-29 11:57:09    1.0\n",
       "Name: JOBID, dtype: float64"
      ]
     },
     "execution_count": 178,
     "metadata": {},
     "output_type": "execute_result"
    }
   ],
   "source": [
    "\n",
    "rolling_jobs.head()"
   ]
  },
  {
   "cell_type": "code",
   "execution_count": 179,
   "metadata": {},
   "outputs": [],
   "source": [
    "rolling_jobs=rolling_jobs[rolling_jobs>500]"
   ]
  },
  {
   "cell_type": "code",
   "execution_count": 180,
   "metadata": {},
   "outputs": [
    {
     "data": {
      "text/plain": [
       "USER     SUBMIT             \n",
       "adelina  2019-04-04 14:38:14    501.0\n",
       "         2019-04-04 14:38:14    502.0\n",
       "         2019-04-04 14:38:14    503.0\n",
       "         2019-04-04 14:38:14    504.0\n",
       "         2019-04-04 14:38:15    505.0\n",
       "Name: JOBID, dtype: float64"
      ]
     },
     "execution_count": 180,
     "metadata": {},
     "output_type": "execute_result"
    }
   ],
   "source": [
    "rolling_jobs.head()"
   ]
  },
  {
   "cell_type": "code",
   "execution_count": 181,
   "metadata": {},
   "outputs": [
    {
     "data": {
      "text/plain": [
       "(542007,)"
      ]
     },
     "execution_count": 181,
     "metadata": {},
     "output_type": "execute_result"
    }
   ],
   "source": [
    "rolling_jobs.shape"
   ]
  },
  {
   "cell_type": "code",
   "execution_count": 182,
   "metadata": {},
   "outputs": [],
   "source": [
    "#convert rolling jobs to dataframe\n",
    "rolling_data=pd.DataFrame(rolling_jobs)"
   ]
  },
  {
   "cell_type": "code",
   "execution_count": 183,
   "metadata": {},
   "outputs": [],
   "source": [
    "#this answers the question 1 part 2. the number of users who committed small jobs at short time within 4 hours\n",
    "d={'JOBID':'JOB_COUNT'}\n",
    "rolling_data=rolling_data.groupby('USER')[['JOBID']].max().rename(columns=d)"
   ]
  },
  {
   "cell_type": "code",
   "execution_count": 184,
   "metadata": {},
   "outputs": [
    {
     "data": {
      "text/html": [
       "<div>\n",
       "<style scoped>\n",
       "    .dataframe tbody tr th:only-of-type {\n",
       "        vertical-align: middle;\n",
       "    }\n",
       "\n",
       "    .dataframe tbody tr th {\n",
       "        vertical-align: top;\n",
       "    }\n",
       "\n",
       "    .dataframe thead th {\n",
       "        text-align: right;\n",
       "    }\n",
       "</style>\n",
       "<table border=\"1\" class=\"dataframe\">\n",
       "  <thead>\n",
       "    <tr style=\"text-align: right;\">\n",
       "      <th></th>\n",
       "      <th>JOB_COUNT</th>\n",
       "    </tr>\n",
       "    <tr>\n",
       "      <th>USER</th>\n",
       "      <th></th>\n",
       "    </tr>\n",
       "  </thead>\n",
       "  <tbody>\n",
       "    <tr>\n",
       "      <th>demarcus</th>\n",
       "      <td>23759.0</td>\n",
       "    </tr>\n",
       "    <tr>\n",
       "      <th>whitley</th>\n",
       "      <td>21015.0</td>\n",
       "    </tr>\n",
       "    <tr>\n",
       "      <th>mikala</th>\n",
       "      <td>13259.0</td>\n",
       "    </tr>\n",
       "    <tr>\n",
       "      <th>benson</th>\n",
       "      <td>12287.0</td>\n",
       "    </tr>\n",
       "    <tr>\n",
       "      <th>baylee</th>\n",
       "      <td>10729.0</td>\n",
       "    </tr>\n",
       "    <tr>\n",
       "      <th>leva</th>\n",
       "      <td>8100.0</td>\n",
       "    </tr>\n",
       "    <tr>\n",
       "      <th>boyce</th>\n",
       "      <td>7648.0</td>\n",
       "    </tr>\n",
       "    <tr>\n",
       "      <th>brande</th>\n",
       "      <td>7167.0</td>\n",
       "    </tr>\n",
       "    <tr>\n",
       "      <th>shiela</th>\n",
       "      <td>6363.0</td>\n",
       "    </tr>\n",
       "    <tr>\n",
       "      <th>tommie</th>\n",
       "      <td>4994.0</td>\n",
       "    </tr>\n",
       "    <tr>\n",
       "      <th>adelina</th>\n",
       "      <td>3279.0</td>\n",
       "    </tr>\n",
       "    <tr>\n",
       "      <th>somer</th>\n",
       "      <td>3245.0</td>\n",
       "    </tr>\n",
       "    <tr>\n",
       "      <th>jermaine</th>\n",
       "      <td>2965.0</td>\n",
       "    </tr>\n",
       "    <tr>\n",
       "      <th>archie</th>\n",
       "      <td>2468.0</td>\n",
       "    </tr>\n",
       "    <tr>\n",
       "      <th>pamelia</th>\n",
       "      <td>2436.0</td>\n",
       "    </tr>\n",
       "    <tr>\n",
       "      <th>gemma</th>\n",
       "      <td>2428.0</td>\n",
       "    </tr>\n",
       "    <tr>\n",
       "      <th>stacey</th>\n",
       "      <td>2417.0</td>\n",
       "    </tr>\n",
       "    <tr>\n",
       "      <th>leaner</th>\n",
       "      <td>2318.0</td>\n",
       "    </tr>\n",
       "    <tr>\n",
       "      <th>jones</th>\n",
       "      <td>2285.0</td>\n",
       "    </tr>\n",
       "    <tr>\n",
       "      <th>ressie</th>\n",
       "      <td>2118.0</td>\n",
       "    </tr>\n",
       "    <tr>\n",
       "      <th>alf</th>\n",
       "      <td>2000.0</td>\n",
       "    </tr>\n",
       "    <tr>\n",
       "      <th>osborne</th>\n",
       "      <td>1604.0</td>\n",
       "    </tr>\n",
       "    <tr>\n",
       "      <th>lashawn</th>\n",
       "      <td>1487.0</td>\n",
       "    </tr>\n",
       "    <tr>\n",
       "      <th>aileen</th>\n",
       "      <td>1484.0</td>\n",
       "    </tr>\n",
       "    <tr>\n",
       "      <th>kaye</th>\n",
       "      <td>1343.0</td>\n",
       "    </tr>\n",
       "    <tr>\n",
       "      <th>obie</th>\n",
       "      <td>1260.0</td>\n",
       "    </tr>\n",
       "    <tr>\n",
       "      <th>hjalmar</th>\n",
       "      <td>1109.0</td>\n",
       "    </tr>\n",
       "    <tr>\n",
       "      <th>monna</th>\n",
       "      <td>1047.0</td>\n",
       "    </tr>\n",
       "    <tr>\n",
       "      <th>tegan</th>\n",
       "      <td>1036.0</td>\n",
       "    </tr>\n",
       "    <tr>\n",
       "      <th>docia</th>\n",
       "      <td>954.0</td>\n",
       "    </tr>\n",
       "    <tr>\n",
       "      <th>stanley</th>\n",
       "      <td>947.0</td>\n",
       "    </tr>\n",
       "    <tr>\n",
       "      <th>lyman</th>\n",
       "      <td>930.0</td>\n",
       "    </tr>\n",
       "    <tr>\n",
       "      <th>milford</th>\n",
       "      <td>920.0</td>\n",
       "    </tr>\n",
       "    <tr>\n",
       "      <th>kalen</th>\n",
       "      <td>761.0</td>\n",
       "    </tr>\n",
       "    <tr>\n",
       "      <th>jamey</th>\n",
       "      <td>758.0</td>\n",
       "    </tr>\n",
       "    <tr>\n",
       "      <th>jabbar</th>\n",
       "      <td>737.0</td>\n",
       "    </tr>\n",
       "    <tr>\n",
       "      <th>alisson</th>\n",
       "      <td>733.0</td>\n",
       "    </tr>\n",
       "    <tr>\n",
       "      <th>alene</th>\n",
       "      <td>718.0</td>\n",
       "    </tr>\n",
       "    <tr>\n",
       "      <th>vaughn</th>\n",
       "      <td>703.0</td>\n",
       "    </tr>\n",
       "    <tr>\n",
       "      <th>callie</th>\n",
       "      <td>671.0</td>\n",
       "    </tr>\n",
       "    <tr>\n",
       "      <th>tamekia</th>\n",
       "      <td>652.0</td>\n",
       "    </tr>\n",
       "    <tr>\n",
       "      <th>stefanie</th>\n",
       "      <td>650.0</td>\n",
       "    </tr>\n",
       "    <tr>\n",
       "      <th>macey</th>\n",
       "      <td>643.0</td>\n",
       "    </tr>\n",
       "    <tr>\n",
       "      <th>olan</th>\n",
       "      <td>631.0</td>\n",
       "    </tr>\n",
       "    <tr>\n",
       "      <th>jayleen</th>\n",
       "      <td>603.0</td>\n",
       "    </tr>\n",
       "    <tr>\n",
       "      <th>jolette</th>\n",
       "      <td>519.0</td>\n",
       "    </tr>\n",
       "    <tr>\n",
       "      <th>treena</th>\n",
       "      <td>506.0</td>\n",
       "    </tr>\n",
       "  </tbody>\n",
       "</table>\n",
       "</div>"
      ],
      "text/plain": [
       "          JOB_COUNT\n",
       "USER               \n",
       "demarcus    23759.0\n",
       "whitley     21015.0\n",
       "mikala      13259.0\n",
       "benson      12287.0\n",
       "baylee      10729.0\n",
       "leva         8100.0\n",
       "boyce        7648.0\n",
       "brande       7167.0\n",
       "shiela       6363.0\n",
       "tommie       4994.0\n",
       "adelina      3279.0\n",
       "somer        3245.0\n",
       "jermaine     2965.0\n",
       "archie       2468.0\n",
       "pamelia      2436.0\n",
       "gemma        2428.0\n",
       "stacey       2417.0\n",
       "leaner       2318.0\n",
       "jones        2285.0\n",
       "ressie       2118.0\n",
       "alf          2000.0\n",
       "osborne      1604.0\n",
       "lashawn      1487.0\n",
       "aileen       1484.0\n",
       "kaye         1343.0\n",
       "obie         1260.0\n",
       "hjalmar      1109.0\n",
       "monna        1047.0\n",
       "tegan        1036.0\n",
       "docia         954.0\n",
       "stanley       947.0\n",
       "lyman         930.0\n",
       "milford       920.0\n",
       "kalen         761.0\n",
       "jamey         758.0\n",
       "jabbar        737.0\n",
       "alisson       733.0\n",
       "alene         718.0\n",
       "vaughn        703.0\n",
       "callie        671.0\n",
       "tamekia       652.0\n",
       "stefanie      650.0\n",
       "macey         643.0\n",
       "olan          631.0\n",
       "jayleen       603.0\n",
       "jolette       519.0\n",
       "treena        506.0"
      ]
     },
     "execution_count": 184,
     "metadata": {},
     "output_type": "execute_result"
    }
   ],
   "source": [
    "#the highest number of jobs that this user ever submited within a 4 hour period i.e job_count\n",
    "rolling_data.sort_values(by='JOB_COUNT', ascending=False)#ascending=false does greater to least"
   ]
  },
  {
   "cell_type": "code",
   "execution_count": 185,
   "metadata": {},
   "outputs": [
    {
     "data": {
      "text/plain": [
       "JOB_COUNT    47\n",
       "dtype: int64"
      ]
     },
     "execution_count": 185,
     "metadata": {},
     "output_type": "execute_result"
    }
   ],
   "source": [
    "\n",
    "rolling_data.count()"
   ]
  },
  {
   "cell_type": "markdown",
   "metadata": {},
   "source": [
    "# Question 3"
   ]
  },
  {
   "cell_type": "code",
   "execution_count": 186,
   "metadata": {},
   "outputs": [],
   "source": [
    "# starting Question 3\n",
    "accre_cleaned=accre_data.copy()"
   ]
  },
  {
   "cell_type": "code",
   "execution_count": 187,
   "metadata": {},
   "outputs": [],
   "source": [
    "# keeping column with NODES =1\n",
    "accre_cleaned=accre_cleaned[accre_cleaned.NODES==1]"
   ]
  },
  {
   "cell_type": "code",
   "execution_count": 188,
   "metadata": {},
   "outputs": [],
   "source": [
    "# keeping column with value for EXITCODE=0:0\n",
    "accre_cleaned=accre_cleaned[accre_cleaned.EXITCODE=='0:0']"
   ]
  },
  {
   "cell_type": "code",
   "execution_count": 189,
   "metadata": {},
   "outputs": [
    {
     "data": {
      "text/plain": [
       "(3315147, 12)"
      ]
     },
     "execution_count": 189,
     "metadata": {},
     "output_type": "execute_result"
    }
   ],
   "source": [
    "accre_cleaned.shape"
   ]
  },
  {
   "cell_type": "code",
   "execution_count": 190,
   "metadata": {},
   "outputs": [
    {
     "data": {
      "text/html": [
       "<div>\n",
       "<style scoped>\n",
       "    .dataframe tbody tr th:only-of-type {\n",
       "        vertical-align: middle;\n",
       "    }\n",
       "\n",
       "    .dataframe tbody tr th {\n",
       "        vertical-align: top;\n",
       "    }\n",
       "\n",
       "    .dataframe thead th {\n",
       "        text-align: right;\n",
       "    }\n",
       "</style>\n",
       "<table border=\"1\" class=\"dataframe\">\n",
       "  <thead>\n",
       "    <tr style=\"text-align: right;\">\n",
       "      <th></th>\n",
       "      <th>JOBID</th>\n",
       "      <th>ACCOUNT</th>\n",
       "      <th>USER</th>\n",
       "      <th>REQMEM</th>\n",
       "      <th>USEDMEM</th>\n",
       "      <th>REQTIME</th>\n",
       "      <th>USEDTIME</th>\n",
       "      <th>NODES</th>\n",
       "      <th>CPUS</th>\n",
       "      <th>PARTITION</th>\n",
       "      <th>EXITCODE</th>\n",
       "      <th>SUBMIT</th>\n",
       "    </tr>\n",
       "  </thead>\n",
       "  <tbody>\n",
       "    <tr>\n",
       "      <th>0</th>\n",
       "      <td>6794220</td>\n",
       "      <td>laxtons</td>\n",
       "      <td>mikala</td>\n",
       "      <td>15488.0</td>\n",
       "      <td>7201.07</td>\n",
       "      <td>1209600</td>\n",
       "      <td>955970</td>\n",
       "      <td>1</td>\n",
       "      <td>16</td>\n",
       "      <td>production</td>\n",
       "      <td>0:0</td>\n",
       "      <td>2019-03-09T16:38:44</td>\n",
       "    </tr>\n",
       "    <tr>\n",
       "      <th>1</th>\n",
       "      <td>6983193_1880</td>\n",
       "      <td>discovery</td>\n",
       "      <td>serina</td>\n",
       "      <td>12288.0</td>\n",
       "      <td>6516.10</td>\n",
       "      <td>1188000</td>\n",
       "      <td>1070801</td>\n",
       "      <td>1</td>\n",
       "      <td>1</td>\n",
       "      <td>production</td>\n",
       "      <td>0:0</td>\n",
       "      <td>2019-03-07T18:39:59</td>\n",
       "    </tr>\n",
       "    <tr>\n",
       "      <th>2</th>\n",
       "      <td>7055502_1863</td>\n",
       "      <td>discovery</td>\n",
       "      <td>serina</td>\n",
       "      <td>12288.0</td>\n",
       "      <td>0.09</td>\n",
       "      <td>1188000</td>\n",
       "      <td>1153656</td>\n",
       "      <td>1</td>\n",
       "      <td>1</td>\n",
       "      <td>production</td>\n",
       "      <td>0:0</td>\n",
       "      <td>2019-03-11T10:06:06</td>\n",
       "    </tr>\n",
       "    <tr>\n",
       "      <th>3</th>\n",
       "      <td>7055502_1800</td>\n",
       "      <td>discovery</td>\n",
       "      <td>serina</td>\n",
       "      <td>12288.0</td>\n",
       "      <td>8333.82</td>\n",
       "      <td>1188000</td>\n",
       "      <td>1050659</td>\n",
       "      <td>1</td>\n",
       "      <td>1</td>\n",
       "      <td>production</td>\n",
       "      <td>0:0</td>\n",
       "      <td>2019-03-11T10:06:06</td>\n",
       "    </tr>\n",
       "    <tr>\n",
       "      <th>4</th>\n",
       "      <td>7055502_1806</td>\n",
       "      <td>discovery</td>\n",
       "      <td>serina</td>\n",
       "      <td>12288.0</td>\n",
       "      <td>8304.03</td>\n",
       "      <td>1188000</td>\n",
       "      <td>981826</td>\n",
       "      <td>1</td>\n",
       "      <td>1</td>\n",
       "      <td>production</td>\n",
       "      <td>0:0</td>\n",
       "      <td>2019-03-11T10:06:06</td>\n",
       "    </tr>\n",
       "  </tbody>\n",
       "</table>\n",
       "</div>"
      ],
      "text/plain": [
       "          JOBID    ACCOUNT    USER   REQMEM  USEDMEM  REQTIME  USEDTIME  \\\n",
       "0       6794220    laxtons  mikala  15488.0  7201.07  1209600    955970   \n",
       "1  6983193_1880  discovery  serina  12288.0  6516.10  1188000   1070801   \n",
       "2  7055502_1863  discovery  serina  12288.0     0.09  1188000   1153656   \n",
       "3  7055502_1800  discovery  serina  12288.0  8333.82  1188000   1050659   \n",
       "4  7055502_1806  discovery  serina  12288.0  8304.03  1188000    981826   \n",
       "\n",
       "   NODES  CPUS   PARTITION EXITCODE               SUBMIT  \n",
       "0      1    16  production      0:0  2019-03-09T16:38:44  \n",
       "1      1     1  production      0:0  2019-03-07T18:39:59  \n",
       "2      1     1  production      0:0  2019-03-11T10:06:06  \n",
       "3      1     1  production      0:0  2019-03-11T10:06:06  \n",
       "4      1     1  production      0:0  2019-03-11T10:06:06  "
      ]
     },
     "execution_count": 190,
     "metadata": {},
     "output_type": "execute_result"
    }
   ],
   "source": [
    "accre_cleaned.head()"
   ]
  },
  {
   "cell_type": "code",
   "execution_count": 191,
   "metadata": {},
   "outputs": [],
   "source": [
    "#dummy=accre_cleaned.head(10000)"
   ]
  },
  {
   "cell_type": "code",
   "execution_count": 192,
   "metadata": {},
   "outputs": [],
   "source": [
    "# keeping column with value for EXITCODE=0:0\n",
    "#accre_cleaned=accre_cleaned[accre_cleaned.EXITCODE=='0:0']"
   ]
  },
  {
   "cell_type": "code",
   "execution_count": 193,
   "metadata": {},
   "outputs": [
    {
     "data": {
      "text/plain": [
       "(3315147, 12)"
      ]
     },
     "execution_count": 193,
     "metadata": {},
     "output_type": "execute_result"
    }
   ],
   "source": [
    "accre_cleaned.shape"
   ]
  },
  {
   "cell_type": "code",
   "execution_count": 194,
   "metadata": {},
   "outputs": [
    {
     "data": {
      "text/plain": [
       "111"
      ]
     },
     "execution_count": 194,
     "metadata": {},
     "output_type": "execute_result"
    }
   ],
   "source": [
    "accre_cleaned.ACCOUNT.nunique()"
   ]
  },
  {
   "cell_type": "code",
   "execution_count": 195,
   "metadata": {},
   "outputs": [],
   "source": [
    "#calculating percent memory used\n",
    "def percent_used(x,y):\n",
    "    \"\"\"calculating percentage from two columns\"\"\"\n",
    "    return (y/x)*100"
   ]
  },
  {
   "cell_type": "code",
   "execution_count": 196,
   "metadata": {},
   "outputs": [],
   "source": [
    "#grouping by account and agrregating by total REQMEM , USEDMEM , USEDTIME\n",
    "#accre_cleaned_sum=accre_cleaned.groupby('ACCOUNT').agg({'REQMEM':sum,'USEDMEM':sum,'USEDTIME':sum})\n"
   ]
  },
  {
   "cell_type": "code",
   "execution_count": 197,
   "metadata": {},
   "outputs": [],
   "source": [
    "#accre_cleaned_sum.head()"
   ]
  },
  {
   "cell_type": "code",
   "execution_count": 198,
   "metadata": {},
   "outputs": [],
   "source": [
    "#accre_cleaned_sum['TPUSED']=accre_cleaned_sum.apply(lambda row:percent_used(row['REQMEM'],row['USEDMEM']),axis=1)"
   ]
  },
  {
   "cell_type": "code",
   "execution_count": 199,
   "metadata": {},
   "outputs": [],
   "source": [
    "#accre_cleaned_sum=accre_cleaned_sum.sort_values('TPUSED', ascending=False)"
   ]
  },
  {
   "cell_type": "code",
   "execution_count": 200,
   "metadata": {},
   "outputs": [
    {
     "data": {
      "text/plain": [
       "(3315147, 12)"
      ]
     },
     "execution_count": 200,
     "metadata": {},
     "output_type": "execute_result"
    }
   ],
   "source": [
    "accre_cleaned.shape"
   ]
  },
  {
   "cell_type": "code",
   "execution_count": 201,
   "metadata": {},
   "outputs": [],
   "source": [
    "# Average requested and used memory, sum total of used memory\n",
    "#accre_cleaned_average= accre_cleaned.groupby('ACCOUNT')['REQMEM','USEDMEM','USEDTIME'].mean()\n",
    "\n",
    "d={'REQMEM':'AVREQMEM','USEDMEM':'AVUSEDMEM'}\n",
    "accre_cleaned_average=accre_cleaned.groupby('ACCOUNT',as_index=False).agg({'REQMEM':'mean','USEDMEM':'mean'}).rename(columns=d)"
   ]
  },
  {
   "cell_type": "code",
   "execution_count": 202,
   "metadata": {},
   "outputs": [
    {
     "data": {
      "text/html": [
       "<div>\n",
       "<style scoped>\n",
       "    .dataframe tbody tr th:only-of-type {\n",
       "        vertical-align: middle;\n",
       "    }\n",
       "\n",
       "    .dataframe tbody tr th {\n",
       "        vertical-align: top;\n",
       "    }\n",
       "\n",
       "    .dataframe thead th {\n",
       "        text-align: right;\n",
       "    }\n",
       "</style>\n",
       "<table border=\"1\" class=\"dataframe\">\n",
       "  <thead>\n",
       "    <tr style=\"text-align: right;\">\n",
       "      <th></th>\n",
       "      <th>ACCOUNT</th>\n",
       "      <th>AVREQMEM</th>\n",
       "      <th>AVUSEDMEM</th>\n",
       "    </tr>\n",
       "  </thead>\n",
       "  <tbody>\n",
       "    <tr>\n",
       "      <th>0</th>\n",
       "      <td>alkmene</td>\n",
       "      <td>11553.681629</td>\n",
       "      <td>3550.096961</td>\n",
       "    </tr>\n",
       "    <tr>\n",
       "      <th>1</th>\n",
       "      <td>almonds</td>\n",
       "      <td>4593.089043</td>\n",
       "      <td>692.240520</td>\n",
       "    </tr>\n",
       "    <tr>\n",
       "      <th>2</th>\n",
       "      <td>amaranth</td>\n",
       "      <td>9409.086170</td>\n",
       "      <td>772.543185</td>\n",
       "    </tr>\n",
       "    <tr>\n",
       "      <th>3</th>\n",
       "      <td>antares</td>\n",
       "      <td>6040.981151</td>\n",
       "      <td>1165.408642</td>\n",
       "    </tr>\n",
       "    <tr>\n",
       "      <th>4</th>\n",
       "      <td>arra</td>\n",
       "      <td>9580.331210</td>\n",
       "      <td>3989.739413</td>\n",
       "    </tr>\n",
       "  </tbody>\n",
       "</table>\n",
       "</div>"
      ],
      "text/plain": [
       "    ACCOUNT      AVREQMEM    AVUSEDMEM\n",
       "0   alkmene  11553.681629  3550.096961\n",
       "1   almonds   4593.089043   692.240520\n",
       "2  amaranth   9409.086170   772.543185\n",
       "3   antares   6040.981151  1165.408642\n",
       "4      arra   9580.331210  3989.739413"
      ]
     },
     "execution_count": 202,
     "metadata": {},
     "output_type": "execute_result"
    }
   ],
   "source": [
    "accre_cleaned_average.head()"
   ]
  },
  {
   "cell_type": "code",
   "execution_count": 203,
   "metadata": {},
   "outputs": [],
   "source": [
    "accre_cleaned_average['PERCENTUSED']=accre_cleaned_average.apply(lambda row:percent_used(row['AVREQMEM'],row['AVUSEDMEM']),axis=1)"
   ]
  },
  {
   "cell_type": "code",
   "execution_count": 205,
   "metadata": {},
   "outputs": [],
   "source": [
    "accre_cleaned_average=accre_cleaned_average.sort_values('PERCENTUSED', ascending=False).reset_index(drop=True)"
   ]
  },
  {
   "cell_type": "code",
   "execution_count": 206,
   "metadata": {},
   "outputs": [],
   "source": [
    "#accre_cleaned_average"
   ]
  },
  {
   "cell_type": "code",
   "execution_count": 207,
   "metadata": {},
   "outputs": [],
   "source": [
    "#Dropping Account having average percent higher then 100\n",
    "accre_cleaned_average_drop=accre_cleaned_average.loc[accre_cleaned_average['PERCENTUSED']<100.01]"
   ]
  },
  {
   "cell_type": "code",
   "execution_count": 208,
   "metadata": {},
   "outputs": [
    {
     "data": {
      "text/plain": [
       "(110, 4)"
      ]
     },
     "execution_count": 208,
     "metadata": {},
     "output_type": "execute_result"
    }
   ],
   "source": [
    "accre_cleaned_average_drop.shape"
   ]
  },
  {
   "cell_type": "code",
   "execution_count": 209,
   "metadata": {},
   "outputs": [],
   "source": [
    "#rounding decimal places to 2\n",
    "accre_cleaned_average_drop=accre_cleaned_average_drop.round({'AVREQMEM':2,'AVUSEDMEM':2,'PERCENTUSED':2})"
   ]
  },
  {
   "cell_type": "code",
   "execution_count": 210,
   "metadata": {},
   "outputs": [
    {
     "data": {
      "text/html": [
       "<div>\n",
       "<style scoped>\n",
       "    .dataframe tbody tr th:only-of-type {\n",
       "        vertical-align: middle;\n",
       "    }\n",
       "\n",
       "    .dataframe tbody tr th {\n",
       "        vertical-align: top;\n",
       "    }\n",
       "\n",
       "    .dataframe thead th {\n",
       "        text-align: right;\n",
       "    }\n",
       "</style>\n",
       "<table border=\"1\" class=\"dataframe\">\n",
       "  <thead>\n",
       "    <tr style=\"text-align: right;\">\n",
       "      <th></th>\n",
       "      <th>ACCOUNT</th>\n",
       "      <th>AVREQMEM</th>\n",
       "      <th>AVUSEDMEM</th>\n",
       "      <th>PERCENTUSED</th>\n",
       "    </tr>\n",
       "  </thead>\n",
       "  <tbody>\n",
       "    <tr>\n",
       "      <th>1</th>\n",
       "      <td>shiny</td>\n",
       "      <td>15387.55</td>\n",
       "      <td>13863.00</td>\n",
       "      <td>90.09</td>\n",
       "    </tr>\n",
       "    <tr>\n",
       "      <th>2</th>\n",
       "      <td>cep</td>\n",
       "      <td>18928.33</td>\n",
       "      <td>15767.74</td>\n",
       "      <td>83.30</td>\n",
       "    </tr>\n",
       "    <tr>\n",
       "      <th>3</th>\n",
       "      <td>spring</td>\n",
       "      <td>10775.94</td>\n",
       "      <td>8696.35</td>\n",
       "      <td>80.70</td>\n",
       "    </tr>\n",
       "    <tr>\n",
       "      <th>4</th>\n",
       "      <td>shell</td>\n",
       "      <td>14297.60</td>\n",
       "      <td>9286.89</td>\n",
       "      <td>64.95</td>\n",
       "    </tr>\n",
       "    <tr>\n",
       "      <th>5</th>\n",
       "      <td>blackberries</td>\n",
       "      <td>4029.22</td>\n",
       "      <td>2332.06</td>\n",
       "      <td>57.88</td>\n",
       "    </tr>\n",
       "    <tr>\n",
       "      <th>6</th>\n",
       "      <td>winged</td>\n",
       "      <td>15075.02</td>\n",
       "      <td>8389.15</td>\n",
       "      <td>55.65</td>\n",
       "    </tr>\n",
       "    <tr>\n",
       "      <th>7</th>\n",
       "      <td>mixed</td>\n",
       "      <td>8060.60</td>\n",
       "      <td>4436.10</td>\n",
       "      <td>55.03</td>\n",
       "    </tr>\n",
       "    <tr>\n",
       "      <th>8</th>\n",
       "      <td>large</td>\n",
       "      <td>1581.97</td>\n",
       "      <td>850.68</td>\n",
       "      <td>53.77</td>\n",
       "    </tr>\n",
       "    <tr>\n",
       "      <th>9</th>\n",
       "      <td>opo</td>\n",
       "      <td>10240.00</td>\n",
       "      <td>5368.16</td>\n",
       "      <td>52.42</td>\n",
       "    </tr>\n",
       "    <tr>\n",
       "      <th>10</th>\n",
       "      <td>kinnow</td>\n",
       "      <td>15580.59</td>\n",
       "      <td>7709.81</td>\n",
       "      <td>49.48</td>\n",
       "    </tr>\n",
       "    <tr>\n",
       "      <th>11</th>\n",
       "      <td>pecans</td>\n",
       "      <td>8069.89</td>\n",
       "      <td>3632.56</td>\n",
       "      <td>45.01</td>\n",
       "    </tr>\n",
       "    <tr>\n",
       "      <th>12</th>\n",
       "      <td>arra</td>\n",
       "      <td>9580.33</td>\n",
       "      <td>3989.74</td>\n",
       "      <td>41.65</td>\n",
       "    </tr>\n",
       "    <tr>\n",
       "      <th>13</th>\n",
       "      <td>leaves</td>\n",
       "      <td>2610.11</td>\n",
       "      <td>1083.15</td>\n",
       "      <td>41.50</td>\n",
       "    </tr>\n",
       "    <tr>\n",
       "      <th>14</th>\n",
       "      <td>discovery</td>\n",
       "      <td>10535.87</td>\n",
       "      <td>4300.24</td>\n",
       "      <td>40.82</td>\n",
       "    </tr>\n",
       "    <tr>\n",
       "      <th>15</th>\n",
       "      <td>polk</td>\n",
       "      <td>35818.19</td>\n",
       "      <td>14459.22</td>\n",
       "      <td>40.37</td>\n",
       "    </tr>\n",
       "    <tr>\n",
       "      <th>16</th>\n",
       "      <td>brazilnuts</td>\n",
       "      <td>15993.81</td>\n",
       "      <td>6251.13</td>\n",
       "      <td>39.08</td>\n",
       "    </tr>\n",
       "    <tr>\n",
       "      <th>17</th>\n",
       "      <td>hass</td>\n",
       "      <td>4188.33</td>\n",
       "      <td>1597.04</td>\n",
       "      <td>38.13</td>\n",
       "    </tr>\n",
       "    <tr>\n",
       "      <th>18</th>\n",
       "      <td>strawberries</td>\n",
       "      <td>4118.58</td>\n",
       "      <td>1446.30</td>\n",
       "      <td>35.12</td>\n",
       "    </tr>\n",
       "    <tr>\n",
       "      <th>19</th>\n",
       "      <td>wax</td>\n",
       "      <td>8989.66</td>\n",
       "      <td>3156.77</td>\n",
       "      <td>35.12</td>\n",
       "    </tr>\n",
       "    <tr>\n",
       "      <th>20</th>\n",
       "      <td>fava</td>\n",
       "      <td>2048.00</td>\n",
       "      <td>717.13</td>\n",
       "      <td>35.02</td>\n",
       "    </tr>\n",
       "    <tr>\n",
       "      <th>21</th>\n",
       "      <td>horn</td>\n",
       "      <td>6253.10</td>\n",
       "      <td>2186.44</td>\n",
       "      <td>34.97</td>\n",
       "    </tr>\n",
       "    <tr>\n",
       "      <th>22</th>\n",
       "      <td>enoki</td>\n",
       "      <td>2549.46</td>\n",
       "      <td>871.98</td>\n",
       "      <td>34.20</td>\n",
       "    </tr>\n",
       "    <tr>\n",
       "      <th>23</th>\n",
       "      <td>crab</td>\n",
       "      <td>4382.38</td>\n",
       "      <td>1482.05</td>\n",
       "      <td>33.82</td>\n",
       "    </tr>\n",
       "    <tr>\n",
       "      <th>24</th>\n",
       "      <td>alkmene</td>\n",
       "      <td>11553.68</td>\n",
       "      <td>3550.10</td>\n",
       "      <td>30.73</td>\n",
       "    </tr>\n",
       "    <tr>\n",
       "      <th>25</th>\n",
       "      <td>seeded</td>\n",
       "      <td>7178.99</td>\n",
       "      <td>2125.55</td>\n",
       "      <td>29.61</td>\n",
       "    </tr>\n",
       "    <tr>\n",
       "      <th>26</th>\n",
       "      <td>fiddlehead</td>\n",
       "      <td>19456.00</td>\n",
       "      <td>5636.60</td>\n",
       "      <td>28.97</td>\n",
       "    </tr>\n",
       "    <tr>\n",
       "      <th>27</th>\n",
       "      <td>flamingo</td>\n",
       "      <td>3369.20</td>\n",
       "      <td>948.40</td>\n",
       "      <td>28.15</td>\n",
       "    </tr>\n",
       "    <tr>\n",
       "      <th>28</th>\n",
       "      <td>morita</td>\n",
       "      <td>61707.13</td>\n",
       "      <td>17024.66</td>\n",
       "      <td>27.59</td>\n",
       "    </tr>\n",
       "    <tr>\n",
       "      <th>29</th>\n",
       "      <td>president</td>\n",
       "      <td>6795.86</td>\n",
       "      <td>1837.03</td>\n",
       "      <td>27.03</td>\n",
       "    </tr>\n",
       "    <tr>\n",
       "      <th>30</th>\n",
       "      <td>clara</td>\n",
       "      <td>7241.19</td>\n",
       "      <td>1944.21</td>\n",
       "      <td>26.85</td>\n",
       "    </tr>\n",
       "    <tr>\n",
       "      <th>...</th>\n",
       "      <td>...</td>\n",
       "      <td>...</td>\n",
       "      <td>...</td>\n",
       "      <td>...</td>\n",
       "    </tr>\n",
       "    <tr>\n",
       "      <th>81</th>\n",
       "      <td>durondeau</td>\n",
       "      <td>4096.00</td>\n",
       "      <td>146.53</td>\n",
       "      <td>3.58</td>\n",
       "    </tr>\n",
       "    <tr>\n",
       "      <th>82</th>\n",
       "      <td>ingrid</td>\n",
       "      <td>1024.77</td>\n",
       "      <td>34.39</td>\n",
       "      <td>3.36</td>\n",
       "    </tr>\n",
       "    <tr>\n",
       "      <th>83</th>\n",
       "      <td>texas</td>\n",
       "      <td>6854.65</td>\n",
       "      <td>208.83</td>\n",
       "      <td>3.05</td>\n",
       "    </tr>\n",
       "    <tr>\n",
       "      <th>84</th>\n",
       "      <td>carrot</td>\n",
       "      <td>10496.75</td>\n",
       "      <td>303.36</td>\n",
       "      <td>2.89</td>\n",
       "    </tr>\n",
       "    <tr>\n",
       "      <th>85</th>\n",
       "      <td>pasilla</td>\n",
       "      <td>13174.07</td>\n",
       "      <td>378.21</td>\n",
       "      <td>2.87</td>\n",
       "    </tr>\n",
       "    <tr>\n",
       "      <th>86</th>\n",
       "      <td>regal</td>\n",
       "      <td>520.98</td>\n",
       "      <td>14.26</td>\n",
       "      <td>2.74</td>\n",
       "    </tr>\n",
       "    <tr>\n",
       "      <th>87</th>\n",
       "      <td>key</td>\n",
       "      <td>1066.99</td>\n",
       "      <td>28.11</td>\n",
       "      <td>2.63</td>\n",
       "    </tr>\n",
       "    <tr>\n",
       "      <th>88</th>\n",
       "      <td>crowns</td>\n",
       "      <td>2542.93</td>\n",
       "      <td>61.81</td>\n",
       "      <td>2.43</td>\n",
       "    </tr>\n",
       "    <tr>\n",
       "      <th>89</th>\n",
       "      <td>nino</td>\n",
       "      <td>16936.63</td>\n",
       "      <td>343.42</td>\n",
       "      <td>2.03</td>\n",
       "    </tr>\n",
       "    <tr>\n",
       "      <th>90</th>\n",
       "      <td>pinole</td>\n",
       "      <td>2030.68</td>\n",
       "      <td>35.58</td>\n",
       "      <td>1.75</td>\n",
       "    </tr>\n",
       "    <tr>\n",
       "      <th>91</th>\n",
       "      <td>with</td>\n",
       "      <td>1800.00</td>\n",
       "      <td>31.47</td>\n",
       "      <td>1.75</td>\n",
       "    </tr>\n",
       "    <tr>\n",
       "      <th>92</th>\n",
       "      <td>stalk</td>\n",
       "      <td>14692.61</td>\n",
       "      <td>255.85</td>\n",
       "      <td>1.74</td>\n",
       "    </tr>\n",
       "    <tr>\n",
       "      <th>93</th>\n",
       "      <td>sunburst</td>\n",
       "      <td>12656.28</td>\n",
       "      <td>204.20</td>\n",
       "      <td>1.61</td>\n",
       "    </tr>\n",
       "    <tr>\n",
       "      <th>94</th>\n",
       "      <td>dill</td>\n",
       "      <td>1887.41</td>\n",
       "      <td>28.26</td>\n",
       "      <td>1.50</td>\n",
       "    </tr>\n",
       "    <tr>\n",
       "      <th>95</th>\n",
       "      <td>burro</td>\n",
       "      <td>11812.21</td>\n",
       "      <td>107.09</td>\n",
       "      <td>0.91</td>\n",
       "    </tr>\n",
       "    <tr>\n",
       "      <th>96</th>\n",
       "      <td>thomcord</td>\n",
       "      <td>2047.16</td>\n",
       "      <td>17.83</td>\n",
       "      <td>0.87</td>\n",
       "    </tr>\n",
       "    <tr>\n",
       "      <th>97</th>\n",
       "      <td>round</td>\n",
       "      <td>9517.18</td>\n",
       "      <td>78.10</td>\n",
       "      <td>0.82</td>\n",
       "    </tr>\n",
       "    <tr>\n",
       "      <th>98</th>\n",
       "      <td>bulk</td>\n",
       "      <td>8187.24</td>\n",
       "      <td>60.69</td>\n",
       "      <td>0.74</td>\n",
       "    </tr>\n",
       "    <tr>\n",
       "      <th>99</th>\n",
       "      <td>summer</td>\n",
       "      <td>17647.51</td>\n",
       "      <td>51.13</td>\n",
       "      <td>0.29</td>\n",
       "    </tr>\n",
       "    <tr>\n",
       "      <th>100</th>\n",
       "      <td>baby</td>\n",
       "      <td>1024.00</td>\n",
       "      <td>2.74</td>\n",
       "      <td>0.27</td>\n",
       "    </tr>\n",
       "    <tr>\n",
       "      <th>101</th>\n",
       "      <td>bay</td>\n",
       "      <td>1706.67</td>\n",
       "      <td>4.22</td>\n",
       "      <td>0.25</td>\n",
       "    </tr>\n",
       "    <tr>\n",
       "      <th>102</th>\n",
       "      <td>india</td>\n",
       "      <td>11878.40</td>\n",
       "      <td>22.54</td>\n",
       "      <td>0.19</td>\n",
       "    </tr>\n",
       "    <tr>\n",
       "      <th>103</th>\n",
       "      <td>fairchild</td>\n",
       "      <td>1026.10</td>\n",
       "      <td>1.33</td>\n",
       "      <td>0.13</td>\n",
       "    </tr>\n",
       "    <tr>\n",
       "      <th>104</th>\n",
       "      <td>shallots</td>\n",
       "      <td>1024.00</td>\n",
       "      <td>0.62</td>\n",
       "      <td>0.06</td>\n",
       "    </tr>\n",
       "    <tr>\n",
       "      <th>105</th>\n",
       "      <td>quelites</td>\n",
       "      <td>16384.00</td>\n",
       "      <td>4.27</td>\n",
       "      <td>0.03</td>\n",
       "    </tr>\n",
       "    <tr>\n",
       "      <th>106</th>\n",
       "      <td>mignonette</td>\n",
       "      <td>12800.00</td>\n",
       "      <td>1.17</td>\n",
       "      <td>0.01</td>\n",
       "    </tr>\n",
       "    <tr>\n",
       "      <th>107</th>\n",
       "      <td>minnewashta</td>\n",
       "      <td>4000.00</td>\n",
       "      <td>0.06</td>\n",
       "      <td>0.00</td>\n",
       "    </tr>\n",
       "    <tr>\n",
       "      <th>108</th>\n",
       "      <td>sunflower</td>\n",
       "      <td>1536.00</td>\n",
       "      <td>0.00</td>\n",
       "      <td>0.00</td>\n",
       "    </tr>\n",
       "    <tr>\n",
       "      <th>109</th>\n",
       "      <td>sugranineteen</td>\n",
       "      <td>2048.00</td>\n",
       "      <td>0.00</td>\n",
       "      <td>0.00</td>\n",
       "    </tr>\n",
       "    <tr>\n",
       "      <th>110</th>\n",
       "      <td>golden</td>\n",
       "      <td>2048.00</td>\n",
       "      <td>0.00</td>\n",
       "      <td>0.00</td>\n",
       "    </tr>\n",
       "  </tbody>\n",
       "</table>\n",
       "<p>110 rows × 4 columns</p>\n",
       "</div>"
      ],
      "text/plain": [
       "           ACCOUNT  AVREQMEM  AVUSEDMEM  PERCENTUSED\n",
       "1            shiny  15387.55   13863.00        90.09\n",
       "2              cep  18928.33   15767.74        83.30\n",
       "3           spring  10775.94    8696.35        80.70\n",
       "4            shell  14297.60    9286.89        64.95\n",
       "5     blackberries   4029.22    2332.06        57.88\n",
       "6           winged  15075.02    8389.15        55.65\n",
       "7            mixed   8060.60    4436.10        55.03\n",
       "8            large   1581.97     850.68        53.77\n",
       "9              opo  10240.00    5368.16        52.42\n",
       "10          kinnow  15580.59    7709.81        49.48\n",
       "11          pecans   8069.89    3632.56        45.01\n",
       "12            arra   9580.33    3989.74        41.65\n",
       "13          leaves   2610.11    1083.15        41.50\n",
       "14       discovery  10535.87    4300.24        40.82\n",
       "15            polk  35818.19   14459.22        40.37\n",
       "16      brazilnuts  15993.81    6251.13        39.08\n",
       "17            hass   4188.33    1597.04        38.13\n",
       "18    strawberries   4118.58    1446.30        35.12\n",
       "19             wax   8989.66    3156.77        35.12\n",
       "20            fava   2048.00     717.13        35.02\n",
       "21            horn   6253.10    2186.44        34.97\n",
       "22           enoki   2549.46     871.98        34.20\n",
       "23            crab   4382.38    1482.05        33.82\n",
       "24         alkmene  11553.68    3550.10        30.73\n",
       "25          seeded   7178.99    2125.55        29.61\n",
       "26      fiddlehead  19456.00    5636.60        28.97\n",
       "27        flamingo   3369.20     948.40        28.15\n",
       "28          morita  61707.13   17024.66        27.59\n",
       "29       president   6795.86    1837.03        27.03\n",
       "30           clara   7241.19    1944.21        26.85\n",
       "..             ...       ...        ...          ...\n",
       "81       durondeau   4096.00     146.53         3.58\n",
       "82          ingrid   1024.77      34.39         3.36\n",
       "83           texas   6854.65     208.83         3.05\n",
       "84          carrot  10496.75     303.36         2.89\n",
       "85         pasilla  13174.07     378.21         2.87\n",
       "86           regal    520.98      14.26         2.74\n",
       "87             key   1066.99      28.11         2.63\n",
       "88          crowns   2542.93      61.81         2.43\n",
       "89            nino  16936.63     343.42         2.03\n",
       "90          pinole   2030.68      35.58         1.75\n",
       "91            with   1800.00      31.47         1.75\n",
       "92           stalk  14692.61     255.85         1.74\n",
       "93        sunburst  12656.28     204.20         1.61\n",
       "94            dill   1887.41      28.26         1.50\n",
       "95           burro  11812.21     107.09         0.91\n",
       "96        thomcord   2047.16      17.83         0.87\n",
       "97           round   9517.18      78.10         0.82\n",
       "98            bulk   8187.24      60.69         0.74\n",
       "99          summer  17647.51      51.13         0.29\n",
       "100           baby   1024.00       2.74         0.27\n",
       "101            bay   1706.67       4.22         0.25\n",
       "102          india  11878.40      22.54         0.19\n",
       "103      fairchild   1026.10       1.33         0.13\n",
       "104       shallots   1024.00       0.62         0.06\n",
       "105       quelites  16384.00       4.27         0.03\n",
       "106     mignonette  12800.00       1.17         0.01\n",
       "107    minnewashta   4000.00       0.06         0.00\n",
       "108      sunflower   1536.00       0.00         0.00\n",
       "109  sugranineteen   2048.00       0.00         0.00\n",
       "110         golden   2048.00       0.00         0.00\n",
       "\n",
       "[110 rows x 4 columns]"
      ]
     },
     "execution_count": 210,
     "metadata": {},
     "output_type": "execute_result"
    }
   ],
   "source": [
    "#shows the table with average percent used by each group\n",
    "accre_cleaned_average_drop"
   ]
  },
  {
   "cell_type": "code",
   "execution_count": 211,
   "metadata": {},
   "outputs": [],
   "source": [
    "#table(ax, accre_cleaned_average, rowLabels=['']*accre_cleaned_average.shape[0],loc='center')"
   ]
  },
  {
   "cell_type": "code",
   "execution_count": 212,
   "metadata": {},
   "outputs": [],
   "source": [
    "#plt.bar(accre_cleaned_average['ACCOUNT'],accre_cleaned_average['AVPUSED']) \n",
    "\n",
    "#plt.figure( figsize=(110, 10), dpi=250)"
   ]
  },
  {
   "cell_type": "code",
   "execution_count": 213,
   "metadata": {},
   "outputs": [],
   "source": [
    "def ranking(column):\n",
    "    if column['PERCENTUSED']>=49.99:\n",
    "        val='High'\n",
    "    elif column['PERCENTUSED']>=29.99:\n",
    "        val='Medium'\n",
    "    else:\n",
    "        val='Low'\n",
    "    return val\n",
    "\n"
   ]
  },
  {
   "cell_type": "code",
   "execution_count": 214,
   "metadata": {},
   "outputs": [],
   "source": [
    "#accre_cleaned_average_drop['Group_Ranking']=accre_cleaned_average_drop.apply(ranking,axis=1)"
   ]
  },
  {
   "cell_type": "code",
   "execution_count": 215,
   "metadata": {},
   "outputs": [
    {
     "data": {
      "text/html": [
       "<div>\n",
       "<style scoped>\n",
       "    .dataframe tbody tr th:only-of-type {\n",
       "        vertical-align: middle;\n",
       "    }\n",
       "\n",
       "    .dataframe tbody tr th {\n",
       "        vertical-align: top;\n",
       "    }\n",
       "\n",
       "    .dataframe thead th {\n",
       "        text-align: right;\n",
       "    }\n",
       "</style>\n",
       "<table border=\"1\" class=\"dataframe\">\n",
       "  <thead>\n",
       "    <tr style=\"text-align: right;\">\n",
       "      <th></th>\n",
       "      <th>ACCOUNT</th>\n",
       "      <th>AVREQMEM</th>\n",
       "      <th>AVUSEDMEM</th>\n",
       "      <th>PERCENTUSED</th>\n",
       "    </tr>\n",
       "  </thead>\n",
       "  <tbody>\n",
       "    <tr>\n",
       "      <th>106</th>\n",
       "      <td>mignonette</td>\n",
       "      <td>12800.0</td>\n",
       "      <td>1.17</td>\n",
       "      <td>0.01</td>\n",
       "    </tr>\n",
       "    <tr>\n",
       "      <th>107</th>\n",
       "      <td>minnewashta</td>\n",
       "      <td>4000.0</td>\n",
       "      <td>0.06</td>\n",
       "      <td>0.00</td>\n",
       "    </tr>\n",
       "    <tr>\n",
       "      <th>108</th>\n",
       "      <td>sunflower</td>\n",
       "      <td>1536.0</td>\n",
       "      <td>0.00</td>\n",
       "      <td>0.00</td>\n",
       "    </tr>\n",
       "    <tr>\n",
       "      <th>109</th>\n",
       "      <td>sugranineteen</td>\n",
       "      <td>2048.0</td>\n",
       "      <td>0.00</td>\n",
       "      <td>0.00</td>\n",
       "    </tr>\n",
       "    <tr>\n",
       "      <th>110</th>\n",
       "      <td>golden</td>\n",
       "      <td>2048.0</td>\n",
       "      <td>0.00</td>\n",
       "      <td>0.00</td>\n",
       "    </tr>\n",
       "  </tbody>\n",
       "</table>\n",
       "</div>"
      ],
      "text/plain": [
       "           ACCOUNT  AVREQMEM  AVUSEDMEM  PERCENTUSED\n",
       "106     mignonette   12800.0       1.17         0.01\n",
       "107    minnewashta    4000.0       0.06         0.00\n",
       "108      sunflower    1536.0       0.00         0.00\n",
       "109  sugranineteen    2048.0       0.00         0.00\n",
       "110         golden    2048.0       0.00         0.00"
      ]
     },
     "execution_count": 215,
     "metadata": {},
     "output_type": "execute_result"
    }
   ],
   "source": [
    "accre_cleaned_average_drop.tail()"
   ]
  },
  {
   "cell_type": "code",
   "execution_count": 216,
   "metadata": {},
   "outputs": [],
   "source": [
    "#pivoted=accre_cleaned_average_drop.pivot(index ='ACCOUNT',columns='Group_Ranking',values='PERCENTUSED')\\\n",
    "  #                           .reset_index()\n"
   ]
  },
  {
   "cell_type": "code",
   "execution_count": 217,
   "metadata": {},
   "outputs": [],
   "source": [
    "#pivoted.columns.name=None\n",
    "#print(pivoted)"
   ]
  },
  {
   "cell_type": "code",
   "execution_count": 218,
   "metadata": {},
   "outputs": [],
   "source": [
    "#accre_cleaned_average.groupby(['Group_Ranking','ACCOUNT','PERCENTUSED'])['PERCENTUSED'].count()"
   ]
  },
  {
   "cell_type": "code",
   "execution_count": 219,
   "metadata": {},
   "outputs": [],
   "source": [
    "high=accre_cleaned_average_drop.loc[accre_cleaned_average_drop['PERCENTUSED']>10]"
   ]
  },
  {
   "cell_type": "code",
   "execution_count": 220,
   "metadata": {},
   "outputs": [
    {
     "name": "stdout",
     "output_type": "stream",
     "text": [
      "         ACCOUNT  AVREQMEM  AVUSEDMEM  PERCENTUSED\n",
      "1          shiny  15387.55   13863.00        90.09\n",
      "2            cep  18928.33   15767.74        83.30\n",
      "3         spring  10775.94    8696.35        80.70\n",
      "4          shell  14297.60    9286.89        64.95\n",
      "5   blackberries   4029.22    2332.06        57.88\n",
      "6         winged  15075.02    8389.15        55.65\n",
      "7          mixed   8060.60    4436.10        55.03\n",
      "8          large   1581.97     850.68        53.77\n",
      "9            opo  10240.00    5368.16        52.42\n",
      "10        kinnow  15580.59    7709.81        49.48\n",
      "11        pecans   8069.89    3632.56        45.01\n",
      "12          arra   9580.33    3989.74        41.65\n",
      "13        leaves   2610.11    1083.15        41.50\n",
      "14     discovery  10535.87    4300.24        40.82\n",
      "15          polk  35818.19   14459.22        40.37\n",
      "16    brazilnuts  15993.81    6251.13        39.08\n",
      "17          hass   4188.33    1597.04        38.13\n",
      "18  strawberries   4118.58    1446.30        35.12\n",
      "19           wax   8989.66    3156.77        35.12\n",
      "20          fava   2048.00     717.13        35.02\n",
      "21          horn   6253.10    2186.44        34.97\n",
      "22         enoki   2549.46     871.98        34.20\n",
      "23          crab   4382.38    1482.05        33.82\n",
      "24       alkmene  11553.68    3550.10        30.73\n",
      "25        seeded   7178.99    2125.55        29.61\n",
      "26    fiddlehead  19456.00    5636.60        28.97\n",
      "27      flamingo   3369.20     948.40        28.15\n",
      "28        morita  61707.13   17024.66        27.59\n",
      "29     president   6795.86    1837.03        27.03\n",
      "30         clara   7241.19    1944.21        26.85\n",
      "31         mamey   3594.89     958.50        26.66\n",
      "32     josephine   3050.67     761.05        24.95\n",
      "33   horseradish   5222.77    1272.32        24.36\n",
      "34      melogold   7032.31    1706.46        24.27\n",
      "35       plumcot  10279.30    2369.42        23.05\n",
      "36          mung   5120.55    1179.82        23.04\n",
      "37      cocktail   2710.47     618.01        22.80\n",
      "38            st  12103.41    2677.39        22.12\n",
      "39         cn121  16328.66    3546.21        21.72\n",
      "40         fresh  20315.72    4190.31        20.63\n",
      "41       antares   6040.98    1165.41        19.29\n",
      "42       lychees  13892.13    2615.49        18.83\n",
      "43       kumquat   4356.93     805.03        18.48\n",
      "44       treviso   9365.46    1600.44        17.09\n",
      "45       francis   5738.62     957.54        16.69\n",
      "46        turban   2363.08     369.23        15.62\n",
      "47         sweet   2883.47     446.04        15.47\n",
      "48    sommerfeld   6238.98     960.45        15.39\n",
      "49       almonds   4593.09     692.24        15.07\n",
      "50      virginia   2280.24     287.27        12.60\n",
      "51        emmons   9924.92    1151.52        11.60\n",
      "52   chanterelle   4654.49     524.84        11.28\n",
      "53        orange  19024.28    2029.22        10.67\n"
     ]
    }
   ],
   "source": [
    "print(high)"
   ]
  },
  {
   "cell_type": "code",
   "execution_count": 221,
   "metadata": {},
   "outputs": [],
   "source": [
    "low=accre_cleaned_average_drop.loc[accre_cleaned_average['PERCENTUSED']<9.99].reset_index(drop=True)"
   ]
  },
  {
   "cell_type": "code",
   "execution_count": 222,
   "metadata": {},
   "outputs": [
    {
     "name": "stdout",
     "output_type": "stream",
     "text": [
      "          ACCOUNT  AVREQMEM  AVUSEDMEM  PERCENTUSED\n",
      "0          jicama   1509.73     149.83         9.92\n",
      "1            bell   5570.97     549.49         9.86\n",
      "2           basil  10479.77    1032.84         9.86\n",
      "3        pioppino   3462.04     339.63         9.81\n",
      "4        atemoyas   2526.57     244.35         9.67\n",
      "5          mickey   9857.47     927.57         9.41\n",
      "6           white   4915.20     453.80         9.23\n",
      "7       champagne  14785.58    1360.78         9.20\n",
      "8          garlic  16164.85    1487.67         9.20\n",
      "9        maltaise   5010.92     459.96         9.18\n",
      "10         pinova   8440.40     755.83         8.95\n",
      "11          lollo   1927.53     168.51         8.74\n",
      "12       amaranth   9409.09     772.54         8.21\n",
      "13         casaba   2722.91     216.73         7.96\n",
      "14         cepuna  12892.16     972.35         7.54\n",
      "15       galangal  11747.63     790.13         6.73\n",
      "16         celery   6430.95     419.57         6.52\n",
      "17            foo  12288.00     794.18         6.46\n",
      "18          lemon  12581.32     745.62         5.93\n",
      "19          onion  12013.32     676.69         5.63\n",
      "20          mache  12932.85     646.69         5.00\n",
      "21        laxtons   2953.31     143.27         4.85\n",
      "22           tree  16592.98     699.33         4.21\n",
      "23       bertanne    614.40      25.75         4.19\n",
      "24     portabella   2245.83      88.75         3.95\n",
      "25        malanga  11463.89     447.81         3.91\n",
      "26         medium   8633.48     310.93         3.60\n",
      "27      durondeau   4096.00     146.53         3.58\n",
      "28         ingrid   1024.77      34.39         3.36\n",
      "29          texas   6854.65     208.83         3.05\n",
      "30         carrot  10496.75     303.36         2.89\n",
      "31        pasilla  13174.07     378.21         2.87\n",
      "32          regal    520.98      14.26         2.74\n",
      "33            key   1066.99      28.11         2.63\n",
      "34         crowns   2542.93      61.81         2.43\n",
      "35           nino  16936.63     343.42         2.03\n",
      "36         pinole   2030.68      35.58         1.75\n",
      "37           with   1800.00      31.47         1.75\n",
      "38          stalk  14692.61     255.85         1.74\n",
      "39       sunburst  12656.28     204.20         1.61\n",
      "40           dill   1887.41      28.26         1.50\n",
      "41          burro  11812.21     107.09         0.91\n",
      "42       thomcord   2047.16      17.83         0.87\n",
      "43          round   9517.18      78.10         0.82\n",
      "44           bulk   8187.24      60.69         0.74\n",
      "45         summer  17647.51      51.13         0.29\n",
      "46           baby   1024.00       2.74         0.27\n",
      "47            bay   1706.67       4.22         0.25\n",
      "48          india  11878.40      22.54         0.19\n",
      "49      fairchild   1026.10       1.33         0.13\n",
      "50       shallots   1024.00       0.62         0.06\n",
      "51       quelites  16384.00       4.27         0.03\n",
      "52     mignonette  12800.00       1.17         0.01\n",
      "53    minnewashta   4000.00       0.06         0.00\n",
      "54      sunflower   1536.00       0.00         0.00\n",
      "55  sugranineteen   2048.00       0.00         0.00\n",
      "56         golden   2048.00       0.00         0.00\n"
     ]
    }
   ],
   "source": [
    "print(low)"
   ]
  },
  {
   "cell_type": "code",
   "execution_count": 223,
   "metadata": {},
   "outputs": [
    {
     "data": {
      "image/png": "[encoded data removed]",
      "text/plain": [
       "<Figure size 576x2430 with 1 Axes>"
      ]
     },
     "metadata": {
      "needs_background": "light"
     },
     "output_type": "display_data"
    }
   ],
   "source": [
    "# Creating table gor accounts using more than 10%\n",
    "import six\n",
    "def render_mpl_table(data, col_width=12, row_height=0.625, font_size=14,\n",
    "                     header_color='#40466e', row_colors=['#f1f1f2', 'w'], edge_color='w',\n",
    "                     bbox=[0, 0, 1, 1], header_columns=0,\n",
    "                     ax=None, **kwargs):\n",
    "    if ax is None:\n",
    "        size = (np.array(data.shape[::-1]) + np.array([0, 1])) * np.array([col_width, row_height])\n",
    "        fig, ax = plt.subplots(figsize=size)\n",
    "        ax.axis('off')\n",
    "\n",
    "    mpl_table = ax.table(cellText=data.values, bbox=bbox, colLabels=data.columns, **kwargs)\n",
    "\n",
    "    mpl_table.auto_set_font_size(False)\n",
    "    mpl_table.set_fontsize(font_size)\n",
    "\n",
    "    for k, cell in  six.iteritems(mpl_table._cells):\n",
    "        cell.set_edgecolor(edge_color)\n",
    "        if k[0] == 0 or k[1] < header_columns:\n",
    "            cell.set_text_props(weight='bold', color='w')\n",
    "            cell.set_facecolor(header_color)\n",
    "        else:\n",
    "            cell.set_facecolor(row_colors[k[0]%len(row_colors) ])\n",
    "    return ax\n",
    "render_mpl_table(high, header_columns=0, col_width=2.0)\n",
    "plt.savefig('table_high.png');"
   ]
  },
  {
   "cell_type": "code",
   "execution_count": 224,
   "metadata": {},
   "outputs": [
    {
     "data": {
      "image/png": "[encoded data removed]",
      "text/plain": [
       "<Figure size 576x2610 with 1 Axes>"
      ]
     },
     "metadata": {
      "needs_background": "light"
     },
     "output_type": "display_data"
    }
   ],
   "source": [
    "# Creating table for accounts using more less 10%\n",
    "import six\n",
    "def render_mpl_table(data, col_width=12, row_height=0.625, font_size=14,\n",
    "                     header_color='#40466e', row_colors=['#f1f1f2', 'w'], edge_color='w',\n",
    "                     bbox=[0, 0, 1, 1], header_columns=0,\n",
    "                     ax=None, **kwargs):\n",
    "    if ax is None:\n",
    "        size = (np.array(data.shape[::-1]) + np.array([0, 1])) * np.array([col_width, row_height])\n",
    "        fig, ax = plt.subplots(figsize=size)\n",
    "        ax.axis('off')\n",
    "\n",
    "    mpl_table = ax.table(cellText=data.values, bbox=bbox, colLabels=data.columns, **kwargs)\n",
    "\n",
    "    mpl_table.auto_set_font_size(False)\n",
    "    mpl_table.set_fontsize(font_size)\n",
    "\n",
    "    for k, cell in  six.iteritems(mpl_table._cells):\n",
    "        cell.set_edgecolor(edge_color)\n",
    "        if k[0] == 0 or k[1] < header_columns:\n",
    "            cell.set_text_props(weight='bold', color='w')\n",
    "            cell.set_facecolor(header_color)\n",
    "        else:\n",
    "            cell.set_facecolor(row_colors[k[0]%len(row_colors) ])\n",
    "    return ax\n",
    "render_mpl_table(low, header_columns=0, col_width=2.0)\n",
    "plt.savefig('table_low.png');"
   ]
  },
  {
   "cell_type": "code",
   "execution_count": 236,
   "metadata": {},
   "outputs": [
    {
     "ename": "SyntaxError",
     "evalue": "invalid syntax (<ipython-input-236-4ce2a38e017d>, line 3)",
     "output_type": "error",
     "traceback": [
      "\u001b[1;36m  File \u001b[1;32m\"<ipython-input-236-4ce2a38e017d>\"\u001b[1;36m, line \u001b[1;32m3\u001b[0m\n\u001b[1;33m    fig=px.bar(data, x='ACCOUNT',y='PERCENTUSED', color='PERCENTUSED'_d,\u001b[0m\n\u001b[1;37m                                                                      ^\u001b[0m\n\u001b[1;31mSyntaxError\u001b[0m\u001b[1;31m:\u001b[0m invalid syntax\n"
     ]
    }
   ],
   "source": [
    "data=accre_cleaned_average_drop.loc[accre_cleaned_average_drop['PERCENTUSED']>=50]\n",
    "\n",
    "fig=px.bar(data, x='ACCOUNT',y='PERCENTUSED', color='PERCENTUSED'_d,\n",
    "          labels={'ACCOUNT':'Group','PERCENTUSED':'Percentage'})\n",
    "fig.update_layout(title='Top Nine Memory User Groups')\n",
    "\n",
    "fig.show();"
   ]
  },
  {
   "cell_type": "code",
   "execution_count": 226,
   "metadata": {},
   "outputs": [
    {
     "data": {
      "application/vnd.plotly.v1+json": {
       "config": {
        "plotlyServerURL": "https://plot.ly"
       },
       "data": [
        {
         "alignmentgroup": "True",
         "hoverlabel": {
          "namelength": 0
         },
         "hovertemplate": "Group=%{x}<br>Percentage=%{marker.color}",
         "legendgroup": "",
         "marker": {
          "color": [
           90.09,
           83.3,
           80.7,
           64.95,
           57.88,
           55.65,
           55.03,
           53.77,
           52.42,
           49.48,
           45.01,
           41.65,
           41.5,
           40.82,
           40.37,
           39.08,
           38.13,
           35.12,
           35.12,
           35.02,
           34.97,
           34.2,
           33.82,
           30.73,
           29.61,
           28.97,
           28.15,
           27.59,
           27.03,
           26.85,
           26.66,
           24.95,
           24.36,
           24.27,
           23.05,
           23.04,
           22.8,
           22.12,
           21.72,
           20.63,
           19.29,
           18.83,
           18.48,
           17.09,
           16.69,
           15.62,
           15.47,
           15.39,
           15.07,
           12.6,
           11.6,
           11.28,
           10.67,
           9.92,
           9.86,
           9.86,
           9.81,
           9.67,
           9.41,
           9.23,
           9.2,
           9.2,
           9.18,
           8.95,
           8.74,
           8.21,
           7.96,
           7.54,
           6.73,
           6.52,
           6.46,
           5.93,
           5.63,
           5,
           4.85,
           4.21,
           4.19,
           3.95,
           3.91,
           3.6,
           3.58,
           3.36,
           3.05,
           2.89,
           2.87,
           2.74,
           2.63,
           2.43,
           2.03,
           1.75,
           1.75,
           1.74,
           1.61,
           1.5,
           0.91,
           0.87,
           0.82,
           0.74,
           0.29,
           0.27,
           0.25,
           0.19,
           0.13,
           0.06,
           0.03,
           0.01,
           0,
           0,
           0,
           0
          ],
          "coloraxis": "coloraxis"
         },
         "name": "",
         "offsetgroup": "",
         "orientation": "v",
         "showlegend": false,
         "textposition": "auto",
         "type": "bar",
         "x": [
          "shiny",
          "cep",
          "spring",
          "shell",
          "blackberries",
          "winged",
          "mixed",
          "large",
          "opo",
          "kinnow",
          "pecans",
          "arra",
          "leaves",
          "discovery",
          "polk",
          "brazilnuts",
          "hass",
          "strawberries",
          "wax",
          "fava",
          "horn",
          "enoki",
          "crab",
          "alkmene",
          "seeded",
          "fiddlehead",
          "flamingo",
          "morita",
          "president",
          "clara",
          "mamey",
          "josephine",
          "horseradish",
          "melogold",
          "plumcot",
          "mung",
          "cocktail",
          "st",
          "cn121",
          "fresh",
          "antares",
          "lychees",
          "kumquat",
          "treviso",
          "francis",
          "turban",
          "sweet",
          "sommerfeld",
          "almonds",
          "virginia",
          "emmons",
          "chanterelle",
          "orange",
          "jicama",
          "bell",
          "basil",
          "pioppino",
          "atemoyas",
          "mickey",
          "white",
          "champagne",
          "garlic",
          "maltaise",
          "pinova",
          "lollo",
          "amaranth",
          "casaba",
          "cepuna",
          "galangal",
          "celery",
          "foo",
          "lemon",
          "onion",
          "mache",
          "laxtons",
          "tree",
          "bertanne",
          "portabella",
          "malanga",
          "medium",
          "durondeau",
          "ingrid",
          "texas",
          "carrot",
          "pasilla",
          "regal",
          "key",
          "crowns",
          "nino",
          "pinole",
          "with",
          "stalk",
          "sunburst",
          "dill",
          "burro",
          "thomcord",
          "round",
          "bulk",
          "summer",
          "baby",
          "bay",
          "india",
          "fairchild",
          "shallots",
          "quelites",
          "mignonette",
          "minnewashta",
          "sunflower",
          "sugranineteen",
          "golden"
         ],
         "xaxis": "x",
         "y": [
          90.09,
          83.3,
          80.7,
          64.95,
          57.88,
          55.65,
          55.03,
          53.77,
          52.42,
          49.48,
          45.01,
          41.65,
          41.5,
          40.82,
          40.37,
          39.08,
          38.13,
          35.12,
          35.12,
          35.02,
          34.97,
          34.2,
          33.82,
          30.73,
          29.61,
          28.97,
          28.15,
          27.59,
          27.03,
          26.85,
          26.66,
          24.95,
          24.36,
          24.27,
          23.05,
          23.04,
          22.8,
          22.12,
          21.72,
          20.63,
          19.29,
          18.83,
          18.48,
          17.09,
          16.69,
          15.62,
          15.47,
          15.39,
          15.07,
          12.6,
          11.6,
          11.28,
          10.67,
          9.92,
          9.86,
          9.86,
          9.81,
          9.67,
          9.41,
          9.23,
          9.2,
          9.2,
          9.18,
          8.95,
          8.74,
          8.21,
          7.96,
          7.54,
          6.73,
          6.52,
          6.46,
          5.93,
          5.63,
          5,
          4.85,
          4.21,
          4.19,
          3.95,
          3.91,
          3.6,
          3.58,
          3.36,
          3.05,
          2.89,
          2.87,
          2.74,
          2.63,
          2.43,
          2.03,
          1.75,
          1.75,
          1.74,
          1.61,
          1.5,
          0.91,
          0.87,
          0.82,
          0.74,
          0.29,
          0.27,
          0.25,
          0.19,
          0.13,
          0.06,
          0.03,
          0.01,
          0,
          0,
          0,
          0
         ],
         "yaxis": "y"
        }
       ],
       "layout": {
        "barmode": "relative",
        "coloraxis": {
         "colorbar": {
          "title": {
           "text": "Percentage"
          }
         },
         "colorscale": [
          [
           0,
           "#0d0887"
          ],
          [
           0.1111111111111111,
           "#46039f"
          ],
          [
           0.2222222222222222,
           "#7201a8"
          ],
          [
           0.3333333333333333,
           "#9c179e"
          ],
          [
           0.4444444444444444,
           "#bd3786"
          ],
          [
           0.5555555555555556,
           "#d8576b"
          ],
          [
           0.6666666666666666,
           "#ed7953"
          ],
          [
           0.7777777777777778,
           "#fb9f3a"
          ],
          [
           0.8888888888888888,
           "#fdca26"
          ],
          [
           1,
           "#f0f921"
          ]
         ]
        },
        "height": 600,
        "legend": {
         "tracegroupgap": 0
        },
        "margin": {
         "t": 60
        },
        "template": {
         "data": {
          "bar": [
           {
            "error_x": {
             "color": "#2a3f5f"
            },
            "error_y": {
             "color": "#2a3f5f"
            },
            "marker": {
             "line": {
              "color": "#E5ECF6",
              "width": 0.5
             }
            },
            "type": "bar"
           }
          ],
          "barpolar": [
           {
            "marker": {
             "line": {
              "color": "#E5ECF6",
              "width": 0.5
             }
            },
            "type": "barpolar"
           }
          ],
          "carpet": [
           {
            "aaxis": {
             "endlinecolor": "#2a3f5f",
             "gridcolor": "white",
             "linecolor": "white",
             "minorgridcolor": "white",
             "startlinecolor": "#2a3f5f"
            },
            "baxis": {
             "endlinecolor": "#2a3f5f",
             "gridcolor": "white",
             "linecolor": "white",
             "minorgridcolor": "white",
             "startlinecolor": "#2a3f5f"
            },
            "type": "carpet"
           }
          ],
          "choropleth": [
           {
            "colorbar": {
             "outlinewidth": 0,
             "ticks": ""
            },
            "type": "choropleth"
           }
          ],
          "contour": [
           {
            "colorbar": {
             "outlinewidth": 0,
             "ticks": ""
            },
            "colorscale": [
             [
              0,
              "#0d0887"
             ],
             [
              0.1111111111111111,
              "#46039f"
             ],
             [
              0.2222222222222222,
              "#7201a8"
             ],
             [
              0.3333333333333333,
              "#9c179e"
             ],
             [
              0.4444444444444444,
              "#bd3786"
             ],
             [
              0.5555555555555556,
              "#d8576b"
             ],
             [
              0.6666666666666666,
              "#ed7953"
             ],
             [
              0.7777777777777778,
              "#fb9f3a"
             ],
             [
              0.8888888888888888,
              "#fdca26"
             ],
             [
              1,
              "#f0f921"
             ]
            ],
            "type": "contour"
           }
          ],
          "contourcarpet": [
           {
            "colorbar": {
             "outlinewidth": 0,
             "ticks": ""
            },
            "type": "contourcarpet"
           }
          ],
          "heatmap": [
           {
            "colorbar": {
             "outlinewidth": 0,
             "ticks": ""
            },
            "colorscale": [
             [
              0,
              "#0d0887"
             ],
             [
              0.1111111111111111,
              "#46039f"
             ],
             [
              0.2222222222222222,
              "#7201a8"
             ],
             [
              0.3333333333333333,
              "#9c179e"
             ],
             [
              0.4444444444444444,
              "#bd3786"
             ],
             [
              0.5555555555555556,
              "#d8576b"
             ],
             [
              0.6666666666666666,
              "#ed7953"
             ],
             [
              0.7777777777777778,
              "#fb9f3a"
             ],
             [
              0.8888888888888888,
              "#fdca26"
             ],
             [
              1,
              "#f0f921"
             ]
            ],
            "type": "heatmap"
           }
          ],
          "heatmapgl": [
           {
            "colorbar": {
             "outlinewidth": 0,
             "ticks": ""
            },
            "colorscale": [
             [
              0,
              "#0d0887"
             ],
             [
              0.1111111111111111,
              "#46039f"
             ],
             [
              0.2222222222222222,
              "#7201a8"
             ],
             [
              0.3333333333333333,
              "#9c179e"
             ],
             [
              0.4444444444444444,
              "#bd3786"
             ],
             [
              0.5555555555555556,
              "#d8576b"
             ],
             [
              0.6666666666666666,
              "#ed7953"
             ],
             [
              0.7777777777777778,
              "#fb9f3a"
             ],
             [
              0.8888888888888888,
              "#fdca26"
             ],
             [
              1,
              "#f0f921"
             ]
            ],
            "type": "heatmapgl"
           }
          ],
          "histogram": [
           {
            "marker": {
             "colorbar": {
              "outlinewidth": 0,
              "ticks": ""
             }
            },
            "type": "histogram"
           }
          ],
          "histogram2d": [
           {
            "colorbar": {
             "outlinewidth": 0,
             "ticks": ""
            },
            "colorscale": [
             [
              0,
              "#0d0887"
             ],
             [
              0.1111111111111111,
              "#46039f"
             ],
             [
              0.2222222222222222,
              "#7201a8"
             ],
             [
              0.3333333333333333,
              "#9c179e"
             ],
             [
              0.4444444444444444,
              "#bd3786"
             ],
             [
              0.5555555555555556,
              "#d8576b"
             ],
             [
              0.6666666666666666,
              "#ed7953"
             ],
             [
              0.7777777777777778,
              "#fb9f3a"
             ],
             [
              0.8888888888888888,
              "#fdca26"
             ],
             [
              1,
              "#f0f921"
             ]
            ],
            "type": "histogram2d"
           }
          ],
          "histogram2dcontour": [
           {
            "colorbar": {
             "outlinewidth": 0,
             "ticks": ""
            },
            "colorscale": [
             [
              0,
              "#0d0887"
             ],
             [
              0.1111111111111111,
              "#46039f"
             ],
             [
              0.2222222222222222,
              "#7201a8"
             ],
             [
              0.3333333333333333,
              "#9c179e"
             ],
             [
              0.4444444444444444,
              "#bd3786"
             ],
             [
              0.5555555555555556,
              "#d8576b"
             ],
             [
              0.6666666666666666,
              "#ed7953"
             ],
             [
              0.7777777777777778,
              "#fb9f3a"
             ],
             [
              0.8888888888888888,
              "#fdca26"
             ],
             [
              1,
              "#f0f921"
             ]
            ],
            "type": "histogram2dcontour"
           }
          ],
          "mesh3d": [
           {
            "colorbar": {
             "outlinewidth": 0,
             "ticks": ""
            },
            "type": "mesh3d"
           }
          ],
          "parcoords": [
           {
            "line": {
             "colorbar": {
              "outlinewidth": 0,
              "ticks": ""
             }
            },
            "type": "parcoords"
           }
          ],
          "scatter": [
           {
            "marker": {
             "colorbar": {
              "outlinewidth": 0,
              "ticks": ""
             }
            },
            "type": "scatter"
           }
          ],
          "scatter3d": [
           {
            "line": {
             "colorbar": {
              "outlinewidth": 0,
              "ticks": ""
             }
            },
            "marker": {
             "colorbar": {
              "outlinewidth": 0,
              "ticks": ""
             }
            },
            "type": "scatter3d"
           }
          ],
          "scattercarpet": [
           {
            "marker": {
             "colorbar": {
              "outlinewidth": 0,
              "ticks": ""
             }
            },
            "type": "scattercarpet"
           }
          ],
          "scattergeo": [
           {
            "marker": {
             "colorbar": {
              "outlinewidth": 0,
              "ticks": ""
             }
            },
            "type": "scattergeo"
           }
          ],
          "scattergl": [
           {
            "marker": {
             "colorbar": {
              "outlinewidth": 0,
              "ticks": ""
             }
            },
            "type": "scattergl"
           }
          ],
          "scattermapbox": [
           {
            "marker": {
             "colorbar": {
              "outlinewidth": 0,
              "ticks": ""
             }
            },
            "type": "scattermapbox"
           }
          ],
          "scatterpolar": [
           {
            "marker": {
             "colorbar": {
              "outlinewidth": 0,
              "ticks": ""
             }
            },
            "type": "scatterpolar"
           }
          ],
          "scatterpolargl": [
           {
            "marker": {
             "colorbar": {
              "outlinewidth": 0,
              "ticks": ""
             }
            },
            "type": "scatterpolargl"
           }
          ],
          "scatterternary": [
           {
            "marker": {
             "colorbar": {
              "outlinewidth": 0,
              "ticks": ""
             }
            },
            "type": "scatterternary"
           }
          ],
          "surface": [
           {
            "colorbar": {
             "outlinewidth": 0,
             "ticks": ""
            },
            "colorscale": [
             [
              0,
              "#0d0887"
             ],
             [
              0.1111111111111111,
              "#46039f"
             ],
             [
              0.2222222222222222,
              "#7201a8"
             ],
             [
              0.3333333333333333,
              "#9c179e"
             ],
             [
              0.4444444444444444,
              "#bd3786"
             ],
             [
              0.5555555555555556,
              "#d8576b"
             ],
             [
              0.6666666666666666,
              "#ed7953"
             ],
             [
              0.7777777777777778,
              "#fb9f3a"
             ],
             [
              0.8888888888888888,
              "#fdca26"
             ],
             [
              1,
              "#f0f921"
             ]
            ],
            "type": "surface"
           }
          ],
          "table": [
           {
            "cells": {
             "fill": {
              "color": "#EBF0F8"
             },
             "line": {
              "color": "white"
             }
            },
            "header": {
             "fill": {
              "color": "#C8D4E3"
             },
             "line": {
              "color": "white"
             }
            },
            "type": "table"
           }
          ]
         },
         "layout": {
          "annotationdefaults": {
           "arrowcolor": "#2a3f5f",
           "arrowhead": 0,
           "arrowwidth": 1
          },
          "colorscale": {
           "diverging": [
            [
             0,
             "#8e0152"
            ],
            [
             0.1,
             "#c51b7d"
            ],
            [
             0.2,
             "#de77ae"
            ],
            [
             0.3,
             "#f1b6da"
            ],
            [
             0.4,
             "#fde0ef"
            ],
            [
             0.5,
             "#f7f7f7"
            ],
            [
             0.6,
             "#e6f5d0"
            ],
            [
             0.7,
             "#b8e186"
            ],
            [
             0.8,
             "#7fbc41"
            ],
            [
             0.9,
             "#4d9221"
            ],
            [
             1,
             "#276419"
            ]
           ],
           "sequential": [
            [
             0,
             "#0d0887"
            ],
            [
             0.1111111111111111,
             "#46039f"
            ],
            [
             0.2222222222222222,
             "#7201a8"
            ],
            [
             0.3333333333333333,
             "#9c179e"
            ],
            [
             0.4444444444444444,
             "#bd3786"
            ],
            [
             0.5555555555555556,
             "#d8576b"
            ],
            [
             0.6666666666666666,
             "#ed7953"
            ],
            [
             0.7777777777777778,
             "#fb9f3a"
            ],
            [
             0.8888888888888888,
             "#fdca26"
            ],
            [
             1,
             "#f0f921"
            ]
           ],
           "sequentialminus": [
            [
             0,
             "#0d0887"
            ],
            [
             0.1111111111111111,
             "#46039f"
            ],
            [
             0.2222222222222222,
             "#7201a8"
            ],
            [
             0.3333333333333333,
             "#9c179e"
            ],
            [
             0.4444444444444444,
             "#bd3786"
            ],
            [
             0.5555555555555556,
             "#d8576b"
            ],
            [
             0.6666666666666666,
             "#ed7953"
            ],
            [
             0.7777777777777778,
             "#fb9f3a"
            ],
            [
             0.8888888888888888,
             "#fdca26"
            ],
            [
             1,
             "#f0f921"
            ]
           ]
          },
          "colorway": [
           "#636efa",
           "#EF553B",
           "#00cc96",
           "#ab63fa",
           "#FFA15A",
           "#19d3f3",
           "#FF6692",
           "#B6E880",
           "#FF97FF",
           "#FECB52"
          ],
          "font": {
           "color": "#2a3f5f"
          },
          "geo": {
           "bgcolor": "white",
           "lakecolor": "white",
           "landcolor": "#E5ECF6",
           "showlakes": true,
           "showland": true,
           "subunitcolor": "white"
          },
          "hoverlabel": {
           "align": "left"
          },
          "hovermode": "closest",
          "mapbox": {
           "style": "light"
          },
          "paper_bgcolor": "white",
          "plot_bgcolor": "#E5ECF6",
          "polar": {
           "angularaxis": {
            "gridcolor": "white",
            "linecolor": "white",
            "ticks": ""
           },
           "bgcolor": "#E5ECF6",
           "radialaxis": {
            "gridcolor": "white",
            "linecolor": "white",
            "ticks": ""
           }
          },
          "scene": {
           "xaxis": {
            "backgroundcolor": "#E5ECF6",
            "gridcolor": "white",
            "gridwidth": 2,
            "linecolor": "white",
            "showbackground": true,
            "ticks": "",
            "zerolinecolor": "white"
           },
           "yaxis": {
            "backgroundcolor": "#E5ECF6",
            "gridcolor": "white",
            "gridwidth": 2,
            "linecolor": "white",
            "showbackground": true,
            "ticks": "",
            "zerolinecolor": "white"
           },
           "zaxis": {
            "backgroundcolor": "#E5ECF6",
            "gridcolor": "white",
            "gridwidth": 2,
            "linecolor": "white",
            "showbackground": true,
            "ticks": "",
            "zerolinecolor": "white"
           }
          },
          "shapedefaults": {
           "line": {
            "color": "#2a3f5f"
           }
          },
          "ternary": {
           "aaxis": {
            "gridcolor": "white",
            "linecolor": "white",
            "ticks": ""
           },
           "baxis": {
            "gridcolor": "white",
            "linecolor": "white",
            "ticks": ""
           },
           "bgcolor": "#E5ECF6",
           "caxis": {
            "gridcolor": "white",
            "linecolor": "white",
            "ticks": ""
           }
          },
          "title": {
           "x": 0.05
          },
          "xaxis": {
           "automargin": true,
           "gridcolor": "white",
           "linecolor": "white",
           "ticks": "",
           "zerolinecolor": "white",
           "zerolinewidth": 2
          },
          "yaxis": {
           "automargin": true,
           "gridcolor": "white",
           "linecolor": "white",
           "ticks": "",
           "zerolinecolor": "white",
           "zerolinewidth": 2
          }
         }
        },
        "title": {
         "text": "Percent Memory Used by Groups"
        },
        "xaxis": {
         "anchor": "y",
         "domain": [
          0,
          0.98
         ],
         "title": {
          "text": "Group"
         }
        },
        "yaxis": {
         "anchor": "x",
         "domain": [
          0,
          1
         ],
         "title": {
          "text": "Percentage"
         }
        }
       }
      },
      "text/html": [
       "<div>\n",
       "        \n",
       "        \n",
       "            <div id=\"4d2b05ae-84fb-4535-8869-ca2c58ef5bb1\" class=\"plotly-graph-div\" style=\"height:600px; width:100%;\"></div>\n",
       "            <script type=\"text/javascript\">\n",
       "                require([\"plotly\"], function(Plotly) {\n",
       "                    window.PLOTLYENV=window.PLOTLYENV || {};\n",
       "                    \n",
       "                if (document.getElementById(\"4d2b05ae-84fb-4535-8869-ca2c58ef5bb1\")) {\n",
       "                    Plotly.newPlot(\n",
       "                        '4d2b05ae-84fb-4535-8869-ca2c58ef5bb1',\n",
       "                        [{\"alignmentgroup\": \"True\", \"hoverlabel\": {\"namelength\": 0}, \"hovertemplate\": \"Group=%{x}<br>Percentage=%{marker.color}\", \"legendgroup\": \"\", \"marker\": {\"color\": [90.09, 83.3, 80.7, 64.95, 57.88, 55.65, 55.03, 53.77, 52.42, 49.48, 45.01, 41.65, 41.5, 40.82, 40.37, 39.08, 38.13, 35.12, 35.12, 35.02, 34.97, 34.2, 33.82, 30.73, 29.61, 28.97, 28.15, 27.59, 27.03, 26.85, 26.66, 24.95, 24.36, 24.27, 23.05, 23.04, 22.8, 22.12, 21.72, 20.63, 19.29, 18.83, 18.48, 17.09, 16.69, 15.62, 15.47, 15.39, 15.07, 12.6, 11.6, 11.28, 10.67, 9.92, 9.86, 9.86, 9.81, 9.67, 9.41, 9.23, 9.2, 9.2, 9.18, 8.95, 8.74, 8.21, 7.96, 7.54, 6.73, 6.52, 6.46, 5.93, 5.63, 5.0, 4.85, 4.21, 4.19, 3.95, 3.91, 3.6, 3.58, 3.36, 3.05, 2.89, 2.87, 2.74, 2.63, 2.43, 2.03, 1.75, 1.75, 1.74, 1.61, 1.5, 0.91, 0.87, 0.82, 0.74, 0.29, 0.27, 0.25, 0.19, 0.13, 0.06, 0.03, 0.01, 0.0, 0.0, 0.0, 0.0], \"coloraxis\": \"coloraxis\"}, \"name\": \"\", \"offsetgroup\": \"\", \"orientation\": \"v\", \"showlegend\": false, \"textposition\": \"auto\", \"type\": \"bar\", \"x\": [\"shiny\", \"cep\", \"spring\", \"shell\", \"blackberries\", \"winged\", \"mixed\", \"large\", \"opo\", \"kinnow\", \"pecans\", \"arra\", \"leaves\", \"discovery\", \"polk\", \"brazilnuts\", \"hass\", \"strawberries\", \"wax\", \"fava\", \"horn\", \"enoki\", \"crab\", \"alkmene\", \"seeded\", \"fiddlehead\", \"flamingo\", \"morita\", \"president\", \"clara\", \"mamey\", \"josephine\", \"horseradish\", \"melogold\", \"plumcot\", \"mung\", \"cocktail\", \"st\", \"cn121\", \"fresh\", \"antares\", \"lychees\", \"kumquat\", \"treviso\", \"francis\", \"turban\", \"sweet\", \"sommerfeld\", \"almonds\", \"virginia\", \"emmons\", \"chanterelle\", \"orange\", \"jicama\", \"bell\", \"basil\", \"pioppino\", \"atemoyas\", \"mickey\", \"white\", \"champagne\", \"garlic\", \"maltaise\", \"pinova\", \"lollo\", \"amaranth\", \"casaba\", \"cepuna\", \"galangal\", \"celery\", \"foo\", \"lemon\", \"onion\", \"mache\", \"laxtons\", \"tree\", \"bertanne\", \"portabella\", \"malanga\", \"medium\", \"durondeau\", \"ingrid\", \"texas\", \"carrot\", \"pasilla\", \"regal\", \"key\", \"crowns\", \"nino\", \"pinole\", \"with\", \"stalk\", \"sunburst\", \"dill\", \"burro\", \"thomcord\", \"round\", \"bulk\", \"summer\", \"baby\", \"bay\", \"india\", \"fairchild\", \"shallots\", \"quelites\", \"mignonette\", \"minnewashta\", \"sunflower\", \"sugranineteen\", \"golden\"], \"xaxis\": \"x\", \"y\": [90.09, 83.3, 80.7, 64.95, 57.88, 55.65, 55.03, 53.77, 52.42, 49.48, 45.01, 41.65, 41.5, 40.82, 40.37, 39.08, 38.13, 35.12, 35.12, 35.02, 34.97, 34.2, 33.82, 30.73, 29.61, 28.97, 28.15, 27.59, 27.03, 26.85, 26.66, 24.95, 24.36, 24.27, 23.05, 23.04, 22.8, 22.12, 21.72, 20.63, 19.29, 18.83, 18.48, 17.09, 16.69, 15.62, 15.47, 15.39, 15.07, 12.6, 11.6, 11.28, 10.67, 9.92, 9.86, 9.86, 9.81, 9.67, 9.41, 9.23, 9.2, 9.2, 9.18, 8.95, 8.74, 8.21, 7.96, 7.54, 6.73, 6.52, 6.46, 5.93, 5.63, 5.0, 4.85, 4.21, 4.19, 3.95, 3.91, 3.6, 3.58, 3.36, 3.05, 2.89, 2.87, 2.74, 2.63, 2.43, 2.03, 1.75, 1.75, 1.74, 1.61, 1.5, 0.91, 0.87, 0.82, 0.74, 0.29, 0.27, 0.25, 0.19, 0.13, 0.06, 0.03, 0.01, 0.0, 0.0, 0.0, 0.0], \"yaxis\": \"y\"}],\n",
       "                        {\"barmode\": \"relative\", \"coloraxis\": {\"colorbar\": {\"title\": {\"text\": \"Percentage\"}}, \"colorscale\": [[0.0, \"#0d0887\"], [0.1111111111111111, \"#46039f\"], [0.2222222222222222, \"#7201a8\"], [0.3333333333333333, \"#9c179e\"], [0.4444444444444444, \"#bd3786\"], [0.5555555555555556, \"#d8576b\"], [0.6666666666666666, \"#ed7953\"], [0.7777777777777778, \"#fb9f3a\"], [0.8888888888888888, \"#fdca26\"], [1.0, \"#f0f921\"]]}, \"height\": 600, \"legend\": {\"tracegroupgap\": 0}, \"margin\": {\"t\": 60}, \"template\": {\"data\": {\"bar\": [{\"error_x\": {\"color\": \"#2a3f5f\"}, \"error_y\": {\"color\": \"#2a3f5f\"}, \"marker\": {\"line\": {\"color\": \"#E5ECF6\", \"width\": 0.5}}, \"type\": \"bar\"}], \"barpolar\": [{\"marker\": {\"line\": {\"color\": \"#E5ECF6\", \"width\": 0.5}}, \"type\": \"barpolar\"}], \"carpet\": [{\"aaxis\": {\"endlinecolor\": \"#2a3f5f\", \"gridcolor\": \"white\", \"linecolor\": \"white\", \"minorgridcolor\": \"white\", \"startlinecolor\": \"#2a3f5f\"}, \"baxis\": {\"endlinecolor\": \"#2a3f5f\", \"gridcolor\": \"white\", \"linecolor\": \"white\", \"minorgridcolor\": \"white\", \"startlinecolor\": \"#2a3f5f\"}, \"type\": \"carpet\"}], \"choropleth\": [{\"colorbar\": {\"outlinewidth\": 0, \"ticks\": \"\"}, \"type\": \"choropleth\"}], \"contour\": [{\"colorbar\": {\"outlinewidth\": 0, \"ticks\": \"\"}, \"colorscale\": [[0.0, \"#0d0887\"], [0.1111111111111111, \"#46039f\"], [0.2222222222222222, \"#7201a8\"], [0.3333333333333333, \"#9c179e\"], [0.4444444444444444, \"#bd3786\"], [0.5555555555555556, \"#d8576b\"], [0.6666666666666666, \"#ed7953\"], [0.7777777777777778, \"#fb9f3a\"], [0.8888888888888888, \"#fdca26\"], [1.0, \"#f0f921\"]], \"type\": \"contour\"}], \"contourcarpet\": [{\"colorbar\": {\"outlinewidth\": 0, \"ticks\": \"\"}, \"type\": \"contourcarpet\"}], \"heatmap\": [{\"colorbar\": {\"outlinewidth\": 0, \"ticks\": \"\"}, \"colorscale\": [[0.0, \"#0d0887\"], [0.1111111111111111, \"#46039f\"], [0.2222222222222222, \"#7201a8\"], [0.3333333333333333, \"#9c179e\"], [0.4444444444444444, \"#bd3786\"], [0.5555555555555556, \"#d8576b\"], [0.6666666666666666, \"#ed7953\"], [0.7777777777777778, \"#fb9f3a\"], [0.8888888888888888, \"#fdca26\"], [1.0, \"#f0f921\"]], \"type\": \"heatmap\"}], \"heatmapgl\": [{\"colorbar\": {\"outlinewidth\": 0, \"ticks\": \"\"}, \"colorscale\": [[0.0, \"#0d0887\"], [0.1111111111111111, \"#46039f\"], [0.2222222222222222, \"#7201a8\"], [0.3333333333333333, \"#9c179e\"], [0.4444444444444444, \"#bd3786\"], [0.5555555555555556, \"#d8576b\"], [0.6666666666666666, \"#ed7953\"], [0.7777777777777778, \"#fb9f3a\"], [0.8888888888888888, \"#fdca26\"], [1.0, \"#f0f921\"]], \"type\": \"heatmapgl\"}], \"histogram\": [{\"marker\": {\"colorbar\": {\"outlinewidth\": 0, \"ticks\": \"\"}}, \"type\": \"histogram\"}], \"histogram2d\": [{\"colorbar\": {\"outlinewidth\": 0, \"ticks\": \"\"}, \"colorscale\": [[0.0, \"#0d0887\"], [0.1111111111111111, \"#46039f\"], [0.2222222222222222, \"#7201a8\"], [0.3333333333333333, \"#9c179e\"], [0.4444444444444444, \"#bd3786\"], [0.5555555555555556, \"#d8576b\"], [0.6666666666666666, \"#ed7953\"], [0.7777777777777778, \"#fb9f3a\"], [0.8888888888888888, \"#fdca26\"], [1.0, \"#f0f921\"]], \"type\": \"histogram2d\"}], \"histogram2dcontour\": [{\"colorbar\": {\"outlinewidth\": 0, \"ticks\": \"\"}, \"colorscale\": [[0.0, \"#0d0887\"], [0.1111111111111111, \"#46039f\"], [0.2222222222222222, \"#7201a8\"], [0.3333333333333333, \"#9c179e\"], [0.4444444444444444, \"#bd3786\"], [0.5555555555555556, \"#d8576b\"], [0.6666666666666666, \"#ed7953\"], [0.7777777777777778, \"#fb9f3a\"], [0.8888888888888888, \"#fdca26\"], [1.0, \"#f0f921\"]], \"type\": \"histogram2dcontour\"}], \"mesh3d\": [{\"colorbar\": {\"outlinewidth\": 0, \"ticks\": \"\"}, \"type\": \"mesh3d\"}], \"parcoords\": [{\"line\": {\"colorbar\": {\"outlinewidth\": 0, \"ticks\": \"\"}}, \"type\": \"parcoords\"}], \"scatter\": [{\"marker\": {\"colorbar\": {\"outlinewidth\": 0, \"ticks\": \"\"}}, \"type\": \"scatter\"}], \"scatter3d\": [{\"line\": {\"colorbar\": {\"outlinewidth\": 0, \"ticks\": \"\"}}, \"marker\": {\"colorbar\": {\"outlinewidth\": 0, \"ticks\": \"\"}}, \"type\": \"scatter3d\"}], \"scattercarpet\": [{\"marker\": {\"colorbar\": {\"outlinewidth\": 0, \"ticks\": \"\"}}, \"type\": \"scattercarpet\"}], \"scattergeo\": [{\"marker\": {\"colorbar\": {\"outlinewidth\": 0, \"ticks\": \"\"}}, \"type\": \"scattergeo\"}], \"scattergl\": [{\"marker\": {\"colorbar\": {\"outlinewidth\": 0, \"ticks\": \"\"}}, \"type\": \"scattergl\"}], \"scattermapbox\": [{\"marker\": {\"colorbar\": {\"outlinewidth\": 0, \"ticks\": \"\"}}, \"type\": \"scattermapbox\"}], \"scatterpolar\": [{\"marker\": {\"colorbar\": {\"outlinewidth\": 0, \"ticks\": \"\"}}, \"type\": \"scatterpolar\"}], \"scatterpolargl\": [{\"marker\": {\"colorbar\": {\"outlinewidth\": 0, \"ticks\": \"\"}}, \"type\": \"scatterpolargl\"}], \"scatterternary\": [{\"marker\": {\"colorbar\": {\"outlinewidth\": 0, \"ticks\": \"\"}}, \"type\": \"scatterternary\"}], \"surface\": [{\"colorbar\": {\"outlinewidth\": 0, \"ticks\": \"\"}, \"colorscale\": [[0.0, \"#0d0887\"], [0.1111111111111111, \"#46039f\"], [0.2222222222222222, \"#7201a8\"], [0.3333333333333333, \"#9c179e\"], [0.4444444444444444, \"#bd3786\"], [0.5555555555555556, \"#d8576b\"], [0.6666666666666666, \"#ed7953\"], [0.7777777777777778, \"#fb9f3a\"], [0.8888888888888888, \"#fdca26\"], [1.0, \"#f0f921\"]], \"type\": \"surface\"}], \"table\": [{\"cells\": {\"fill\": {\"color\": \"#EBF0F8\"}, \"line\": {\"color\": \"white\"}}, \"header\": {\"fill\": {\"color\": \"#C8D4E3\"}, \"line\": {\"color\": \"white\"}}, \"type\": \"table\"}]}, \"layout\": {\"annotationdefaults\": {\"arrowcolor\": \"#2a3f5f\", \"arrowhead\": 0, \"arrowwidth\": 1}, \"colorscale\": {\"diverging\": [[0, \"#8e0152\"], [0.1, \"#c51b7d\"], [0.2, \"#de77ae\"], [0.3, \"#f1b6da\"], [0.4, \"#fde0ef\"], [0.5, \"#f7f7f7\"], [0.6, \"#e6f5d0\"], [0.7, \"#b8e186\"], [0.8, \"#7fbc41\"], [0.9, \"#4d9221\"], [1, \"#276419\"]], \"sequential\": [[0.0, \"#0d0887\"], [0.1111111111111111, \"#46039f\"], [0.2222222222222222, \"#7201a8\"], [0.3333333333333333, \"#9c179e\"], [0.4444444444444444, \"#bd3786\"], [0.5555555555555556, \"#d8576b\"], [0.6666666666666666, \"#ed7953\"], [0.7777777777777778, \"#fb9f3a\"], [0.8888888888888888, \"#fdca26\"], [1.0, \"#f0f921\"]], \"sequentialminus\": [[0.0, \"#0d0887\"], [0.1111111111111111, \"#46039f\"], [0.2222222222222222, \"#7201a8\"], [0.3333333333333333, \"#9c179e\"], [0.4444444444444444, \"#bd3786\"], [0.5555555555555556, \"#d8576b\"], [0.6666666666666666, \"#ed7953\"], [0.7777777777777778, \"#fb9f3a\"], [0.8888888888888888, \"#fdca26\"], [1.0, \"#f0f921\"]]}, \"colorway\": [\"#636efa\", \"#EF553B\", \"#00cc96\", \"#ab63fa\", \"#FFA15A\", \"#19d3f3\", \"#FF6692\", \"#B6E880\", \"#FF97FF\", \"#FECB52\"], \"font\": {\"color\": \"#2a3f5f\"}, \"geo\": {\"bgcolor\": \"white\", \"lakecolor\": \"white\", \"landcolor\": \"#E5ECF6\", \"showlakes\": true, \"showland\": true, \"subunitcolor\": \"white\"}, \"hoverlabel\": {\"align\": \"left\"}, \"hovermode\": \"closest\", \"mapbox\": {\"style\": \"light\"}, \"paper_bgcolor\": \"white\", \"plot_bgcolor\": \"#E5ECF6\", \"polar\": {\"angularaxis\": {\"gridcolor\": \"white\", \"linecolor\": \"white\", \"ticks\": \"\"}, \"bgcolor\": \"#E5ECF6\", \"radialaxis\": {\"gridcolor\": \"white\", \"linecolor\": \"white\", \"ticks\": \"\"}}, \"scene\": {\"xaxis\": {\"backgroundcolor\": \"#E5ECF6\", \"gridcolor\": \"white\", \"gridwidth\": 2, \"linecolor\": \"white\", \"showbackground\": true, \"ticks\": \"\", \"zerolinecolor\": \"white\"}, \"yaxis\": {\"backgroundcolor\": \"#E5ECF6\", \"gridcolor\": \"white\", \"gridwidth\": 2, \"linecolor\": \"white\", \"showbackground\": true, \"ticks\": \"\", \"zerolinecolor\": \"white\"}, \"zaxis\": {\"backgroundcolor\": \"#E5ECF6\", \"gridcolor\": \"white\", \"gridwidth\": 2, \"linecolor\": \"white\", \"showbackground\": true, \"ticks\": \"\", \"zerolinecolor\": \"white\"}}, \"shapedefaults\": {\"line\": {\"color\": \"#2a3f5f\"}}, \"ternary\": {\"aaxis\": {\"gridcolor\": \"white\", \"linecolor\": \"white\", \"ticks\": \"\"}, \"baxis\": {\"gridcolor\": \"white\", \"linecolor\": \"white\", \"ticks\": \"\"}, \"bgcolor\": \"#E5ECF6\", \"caxis\": {\"gridcolor\": \"white\", \"linecolor\": \"white\", \"ticks\": \"\"}}, \"title\": {\"x\": 0.05}, \"xaxis\": {\"automargin\": true, \"gridcolor\": \"white\", \"linecolor\": \"white\", \"ticks\": \"\", \"zerolinecolor\": \"white\", \"zerolinewidth\": 2}, \"yaxis\": {\"automargin\": true, \"gridcolor\": \"white\", \"linecolor\": \"white\", \"ticks\": \"\", \"zerolinecolor\": \"white\", \"zerolinewidth\": 2}}}, \"title\": {\"text\": \"Percent Memory Used by Groups\"}, \"xaxis\": {\"anchor\": \"y\", \"domain\": [0.0, 0.98], \"title\": {\"text\": \"Group\"}}, \"yaxis\": {\"anchor\": \"x\", \"domain\": [0.0, 1.0], \"title\": {\"text\": \"Percentage\"}}},\n",
       "                        {\"responsive\": true}\n",
       "                    ).then(function(){\n",
       "                            \n",
       "var gd = document.getElementById('4d2b05ae-84fb-4535-8869-ca2c58ef5bb1');\n",
       "var x = new MutationObserver(function (mutations, observer) {{\n",
       "        var display = window.getComputedStyle(gd).display;\n",
       "        if (!display || display === 'none') {{\n",
       "            console.log([gd, 'removed!']);\n",
       "            Plotly.purge(gd);\n",
       "            observer.disconnect();\n",
       "        }}\n",
       "}});\n",
       "\n",
       "// Listen for the removal of the full notebook cells\n",
       "var notebookContainer = gd.closest('#notebook-container');\n",
       "if (notebookContainer) {{\n",
       "    x.observe(notebookContainer, {childList: true});\n",
       "}}\n",
       "\n",
       "// Listen for the clearing of the current output cell\n",
       "var outputEl = gd.closest('.output');\n",
       "if (outputEl) {{\n",
       "    x.observe(outputEl, {childList: true});\n",
       "}}\n",
       "\n",
       "                        })\n",
       "                };\n",
       "                });\n",
       "            </script>\n",
       "        </div>"
      ]
     },
     "metadata": {},
     "output_type": "display_data"
    }
   ],
   "source": [
    "data=accre_cleaned_average_drop\n",
    "\n",
    "fig=px.bar(data, x='ACCOUNT',y='PERCENTUSED', color='PERCENTUSED',\n",
    "          labels={'ACCOUNT':'Group','PERCENTUSED':'Percentage'})\n",
    "fig.update_layout(title='Percent Memory Used by Groups')\n",
    "\n",
    "\n",
    "fig.show();"
   ]
  },
  {
   "cell_type": "code",
   "execution_count": null,
   "metadata": {},
   "outputs": [],
   "source": []
  },
  {
   "cell_type": "code",
   "execution_count": 227,
   "metadata": {},
   "outputs": [
    {
     "data": {
      "image/png": "[encoded data removed]",
      "text/plain": [
       "<Figure size 720x360 with 1 Axes>"
      ]
     },
     "metadata": {
      "needs_background": "light"
     },
     "output_type": "display_data"
    }
   ],
   "source": [
    "plt.figure(figsize=(10,5))\n",
    "sns.barplot(x='ACCOUNT',y='PERCENTUSED',data=accre_cleaned_average_drop.loc[accre_cleaned_average_drop['PERCENTUSED']>=50])\n",
    "plt.xlabel(\"GROUPS\")\n",
    "plt.ylabel(\"Memory Used Percent\")\n",
    "plt.title(\" Top 9 Memory User Groups\")\n",
    "plt.tight_layout()\n",
    "plt.savefig('Accre_drop.png', dpi = 250);"
   ]
  },
  {
   "cell_type": "code",
   "execution_count": 228,
   "metadata": {},
   "outputs": [
    {
     "name": "stdout",
     "output_type": "stream",
     "text": [
      "<class 'pandas.core.frame.DataFrame'>\n",
      "Int64Index: 110 entries, 1 to 110\n",
      "Data columns (total 4 columns):\n",
      "ACCOUNT        110 non-null object\n",
      "AVREQMEM       110 non-null float64\n",
      "AVUSEDMEM      110 non-null float64\n",
      "PERCENTUSED    110 non-null float64\n",
      "dtypes: float64(3), object(1)\n",
      "memory usage: 4.3+ KB\n"
     ]
    }
   ],
   "source": [
    "accre_cleaned_average_drop.info()"
   ]
  },
  {
   "cell_type": "code",
   "execution_count": 229,
   "metadata": {},
   "outputs": [
    {
     "data": {
      "text/html": [
       "<div>\n",
       "<style scoped>\n",
       "    .dataframe tbody tr th:only-of-type {\n",
       "        vertical-align: middle;\n",
       "    }\n",
       "\n",
       "    .dataframe tbody tr th {\n",
       "        vertical-align: top;\n",
       "    }\n",
       "\n",
       "    .dataframe thead th {\n",
       "        text-align: right;\n",
       "    }\n",
       "</style>\n",
       "<table border=\"1\" class=\"dataframe\">\n",
       "  <thead>\n",
       "    <tr style=\"text-align: right;\">\n",
       "      <th></th>\n",
       "      <th>AVREQMEM</th>\n",
       "      <th>AVUSEDMEM</th>\n",
       "      <th>PERCENTUSED</th>\n",
       "    </tr>\n",
       "  </thead>\n",
       "  <tbody>\n",
       "    <tr>\n",
       "      <th>count</th>\n",
       "      <td>110.000000</td>\n",
       "      <td>110.000000</td>\n",
       "      <td>110.000000</td>\n",
       "    </tr>\n",
       "    <tr>\n",
       "      <th>mean</th>\n",
       "      <td>8528.657909</td>\n",
       "      <td>1872.101091</td>\n",
       "      <td>18.226455</td>\n",
       "    </tr>\n",
       "    <tr>\n",
       "      <th>std</th>\n",
       "      <td>7849.663060</td>\n",
       "      <td>3251.137722</td>\n",
       "      <td>19.567768</td>\n",
       "    </tr>\n",
       "    <tr>\n",
       "      <th>min</th>\n",
       "      <td>520.980000</td>\n",
       "      <td>0.000000</td>\n",
       "      <td>0.000000</td>\n",
       "    </tr>\n",
       "    <tr>\n",
       "      <th>25%</th>\n",
       "      <td>2763.050000</td>\n",
       "      <td>154.500000</td>\n",
       "      <td>3.127500</td>\n",
       "    </tr>\n",
       "    <tr>\n",
       "      <th>50%</th>\n",
       "      <td>6943.480000</td>\n",
       "      <td>750.725000</td>\n",
       "      <td>9.860000</td>\n",
       "    </tr>\n",
       "    <tr>\n",
       "      <th>75%</th>\n",
       "      <td>12080.887500</td>\n",
       "      <td>1804.387500</td>\n",
       "      <td>27.450000</td>\n",
       "    </tr>\n",
       "    <tr>\n",
       "      <th>max</th>\n",
       "      <td>61707.130000</td>\n",
       "      <td>17024.660000</td>\n",
       "      <td>90.090000</td>\n",
       "    </tr>\n",
       "  </tbody>\n",
       "</table>\n",
       "</div>"
      ],
      "text/plain": [
       "           AVREQMEM     AVUSEDMEM  PERCENTUSED\n",
       "count    110.000000    110.000000   110.000000\n",
       "mean    8528.657909   1872.101091    18.226455\n",
       "std     7849.663060   3251.137722    19.567768\n",
       "min      520.980000      0.000000     0.000000\n",
       "25%     2763.050000    154.500000     3.127500\n",
       "50%     6943.480000    750.725000     9.860000\n",
       "75%    12080.887500   1804.387500    27.450000\n",
       "max    61707.130000  17024.660000    90.090000"
      ]
     },
     "execution_count": 229,
     "metadata": {},
     "output_type": "execute_result"
    }
   ],
   "source": [
    "accre_cleaned_average_drop.describe()"
   ]
  },
  {
   "cell_type": "code",
   "execution_count": 230,
   "metadata": {},
   "outputs": [
    {
     "data": {
      "text/html": [
       "<div>\n",
       "<style scoped>\n",
       "    .dataframe tbody tr th:only-of-type {\n",
       "        vertical-align: middle;\n",
       "    }\n",
       "\n",
       "    .dataframe tbody tr th {\n",
       "        vertical-align: top;\n",
       "    }\n",
       "\n",
       "    .dataframe thead th {\n",
       "        text-align: right;\n",
       "    }\n",
       "</style>\n",
       "<table border=\"1\" class=\"dataframe\">\n",
       "  <thead>\n",
       "    <tr style=\"text-align: right;\">\n",
       "      <th></th>\n",
       "      <th>JOBID</th>\n",
       "      <th>ACCOUNT</th>\n",
       "      <th>USER</th>\n",
       "      <th>REQMEM</th>\n",
       "      <th>USEDMEM</th>\n",
       "      <th>REQTIME</th>\n",
       "      <th>USEDTIME</th>\n",
       "      <th>NODES</th>\n",
       "      <th>CPUS</th>\n",
       "      <th>PARTITION</th>\n",
       "      <th>EXITCODE</th>\n",
       "      <th>SUBMIT</th>\n",
       "      <th>AVREQMEM</th>\n",
       "      <th>AVUSEDMEM</th>\n",
       "      <th>PERCENTUSED</th>\n",
       "    </tr>\n",
       "  </thead>\n",
       "  <tbody>\n",
       "    <tr>\n",
       "      <th>0</th>\n",
       "      <td>6794220</td>\n",
       "      <td>laxtons</td>\n",
       "      <td>mikala</td>\n",
       "      <td>15488.0</td>\n",
       "      <td>7201.070</td>\n",
       "      <td>1209600</td>\n",
       "      <td>955970</td>\n",
       "      <td>1</td>\n",
       "      <td>16</td>\n",
       "      <td>production</td>\n",
       "      <td>0:0</td>\n",
       "      <td>2019-03-09T16:38:44</td>\n",
       "      <td>2953.31</td>\n",
       "      <td>143.27</td>\n",
       "      <td>4.85</td>\n",
       "    </tr>\n",
       "    <tr>\n",
       "      <th>1</th>\n",
       "      <td>7241341</td>\n",
       "      <td>laxtons</td>\n",
       "      <td>mina</td>\n",
       "      <td>15360.0</td>\n",
       "      <td>1.160</td>\n",
       "      <td>1209600</td>\n",
       "      <td>1062573</td>\n",
       "      <td>1</td>\n",
       "      <td>1</td>\n",
       "      <td>production</td>\n",
       "      <td>0:0</td>\n",
       "      <td>2019-03-20T08:58:27</td>\n",
       "      <td>2953.31</td>\n",
       "      <td>143.27</td>\n",
       "      <td>4.85</td>\n",
       "    </tr>\n",
       "    <tr>\n",
       "      <th>2</th>\n",
       "      <td>7264927_6</td>\n",
       "      <td>laxtons</td>\n",
       "      <td>hazel</td>\n",
       "      <td>16431.8</td>\n",
       "      <td>0.560</td>\n",
       "      <td>10800</td>\n",
       "      <td>171</td>\n",
       "      <td>1</td>\n",
       "      <td>5</td>\n",
       "      <td>production</td>\n",
       "      <td>0:0</td>\n",
       "      <td>2019-03-21T14:48:00</td>\n",
       "      <td>2953.31</td>\n",
       "      <td>143.27</td>\n",
       "      <td>4.85</td>\n",
       "    </tr>\n",
       "    <tr>\n",
       "      <th>3</th>\n",
       "      <td>7264927_1</td>\n",
       "      <td>laxtons</td>\n",
       "      <td>hazel</td>\n",
       "      <td>16431.8</td>\n",
       "      <td>0.810</td>\n",
       "      <td>10800</td>\n",
       "      <td>266</td>\n",
       "      <td>1</td>\n",
       "      <td>5</td>\n",
       "      <td>production</td>\n",
       "      <td>0:0</td>\n",
       "      <td>2019-03-21T14:48:00</td>\n",
       "      <td>2953.31</td>\n",
       "      <td>143.27</td>\n",
       "      <td>4.85</td>\n",
       "    </tr>\n",
       "    <tr>\n",
       "      <th>4</th>\n",
       "      <td>7264927_2</td>\n",
       "      <td>laxtons</td>\n",
       "      <td>hazel</td>\n",
       "      <td>16431.8</td>\n",
       "      <td>0.572</td>\n",
       "      <td>10800</td>\n",
       "      <td>192</td>\n",
       "      <td>1</td>\n",
       "      <td>5</td>\n",
       "      <td>production</td>\n",
       "      <td>0:0</td>\n",
       "      <td>2019-03-21T14:48:00</td>\n",
       "      <td>2953.31</td>\n",
       "      <td>143.27</td>\n",
       "      <td>4.85</td>\n",
       "    </tr>\n",
       "  </tbody>\n",
       "</table>\n",
       "</div>"
      ],
      "text/plain": [
       "       JOBID  ACCOUNT    USER   REQMEM   USEDMEM  REQTIME  USEDTIME  NODES  \\\n",
       "0    6794220  laxtons  mikala  15488.0  7201.070  1209600    955970      1   \n",
       "1    7241341  laxtons    mina  15360.0     1.160  1209600   1062573      1   \n",
       "2  7264927_6  laxtons   hazel  16431.8     0.560    10800       171      1   \n",
       "3  7264927_1  laxtons   hazel  16431.8     0.810    10800       266      1   \n",
       "4  7264927_2  laxtons   hazel  16431.8     0.572    10800       192      1   \n",
       "\n",
       "   CPUS   PARTITION EXITCODE               SUBMIT  AVREQMEM  AVUSEDMEM  \\\n",
       "0    16  production      0:0  2019-03-09T16:38:44   2953.31     143.27   \n",
       "1     1  production      0:0  2019-03-20T08:58:27   2953.31     143.27   \n",
       "2     5  production      0:0  2019-03-21T14:48:00   2953.31     143.27   \n",
       "3     5  production      0:0  2019-03-21T14:48:00   2953.31     143.27   \n",
       "4     5  production      0:0  2019-03-21T14:48:00   2953.31     143.27   \n",
       "\n",
       "   PERCENTUSED  \n",
       "0         4.85  \n",
       "1         4.85  \n",
       "2         4.85  \n",
       "3         4.85  \n",
       "4         4.85  "
      ]
     },
     "execution_count": 230,
     "metadata": {},
     "output_type": "execute_result"
    }
   ],
   "source": [
    "accre_new=pd.merge(accre_cleaned,accre_cleaned_average_drop,on=['ACCOUNT'])\n",
    "accre_new.head()"
   ]
  },
  {
   "cell_type": "code",
   "execution_count": 231,
   "metadata": {},
   "outputs": [],
   "source": [
    " #accre_new.groupby(['ACCOUNT','PERCENTUSED'])['USER'].sort_values(by='PERCENTUSED', ascending=False)\n",
    "    #agg({'PERCENTUSED':'mean','USEDMEM':'mean'})\n"
   ]
  },
  {
   "cell_type": "code",
   "execution_count": 232,
   "metadata": {},
   "outputs": [
    {
     "ename": "SyntaxError",
     "evalue": "invalid syntax (<ipython-input-232-e64a7d364072>, line 2)",
     "output_type": "error",
     "traceback": [
      "\u001b[1;36m  File \u001b[1;32m\"<ipython-input-232-e64a7d364072>\"\u001b[1;36m, line \u001b[1;32m2\u001b[0m\n\u001b[1;33m    sns.barplot(x='ACCOUNT',y='PERCENTUSED',data='accre_new.loc[aacre_new['PERCENTUSED']>60])\u001b[0m\n\u001b[1;37m                                                                                     ^\u001b[0m\n\u001b[1;31mSyntaxError\u001b[0m\u001b[1;31m:\u001b[0m invalid syntax\n"
     ]
    }
   ],
   "source": [
    "plt.figure(figsize=(10,5))\n",
    "sns.barplot(x='ACCOUNT',y='PERCENTUSED',data='accre_new.loc[aacre_new['PERCENTUSED']>60])\n",
    "plt.xlabel(\"GROUPS\")\n",
    "plt.ylabel(\"Memory Used Percent\")\n",
    "plt.title(\"Five Best Memory User Groups\")\n",
    "plt.tight_layout()\n",
    "plt.savefig('Accre1.png', dpi = 250);"
   ]
  },
  {
   "cell_type": "code",
   "execution_count": null,
   "metadata": {},
   "outputs": [],
   "source": []
  },
  {
   "cell_type": "markdown",
   "metadata": {},
   "source": [
    "# Question 4"
   ]
  },
  {
   "cell_type": "code",
   "execution_count": null,
   "metadata": {},
   "outputs": [],
   "source": [
    "accre_cleaned_percent=accre_cleaned.copy()"
   ]
  },
  {
   "cell_type": "code",
   "execution_count": null,
   "metadata": {},
   "outputs": [],
   "source": [
    "accre_cleaned_percent.shape\n"
   ]
  },
  {
   "cell_type": "code",
   "execution_count": null,
   "metadata": {},
   "outputs": [],
   "source": [
    "accre_cleaned_percent.head()"
   ]
  },
  {
   "cell_type": "code",
   "execution_count": null,
   "metadata": {},
   "outputs": [],
   "source": [
    "accre_cleaned_percent['PERCENTUSED']= ((accre_cleaned_percent.USEDMEM)/(accre_cleaned_percent.REQMEM))*100"
   ]
  },
  {
   "cell_type": "code",
   "execution_count": null,
   "metadata": {},
   "outputs": [],
   "source": [
    "accre_cleaned_percent.head()"
   ]
  },
  {
   "cell_type": "code",
   "execution_count": null,
   "metadata": {},
   "outputs": [],
   "source": [
    "accre_cleaned_percent=accre_cleaned_percent.sort_values('PERCENTUSED', ascending=False)"
   ]
  },
  {
   "cell_type": "code",
   "execution_count": null,
   "metadata": {},
   "outputs": [],
   "source": [
    "accre_cleaned_percent.head(2)"
   ]
  },
  {
   "cell_type": "code",
   "execution_count": null,
   "metadata": {},
   "outputs": [],
   "source": [
    "#check one of the users.throw it out!maybe\n",
    "#remove blood account bc they are using more memory than requried \n",
    "accre_cleaned_percent[accre_cleaned_percent.ACCOUNT=='blood']"
   ]
  },
  {
   "cell_type": "code",
   "execution_count": null,
   "metadata": {},
   "outputs": [],
   "source": [
    "accre_cleaned_percent.shape"
   ]
  },
  {
   "cell_type": "code",
   "execution_count": null,
   "metadata": {},
   "outputs": [],
   "source": [
    "accre_cleaned_percent['PERCENTUSED'].mean()"
   ]
  },
  {
   "cell_type": "code",
   "execution_count": null,
   "metadata": {},
   "outputs": [],
   "source": [
    "accre_cleaned_percent['USEDTIME'].mean()"
   ]
  },
  {
   "cell_type": "code",
   "execution_count": null,
   "metadata": {},
   "outputs": [],
   "source": [
    "# definition for weighted average\n",
    "def wavg(x,y,z):\n",
    "\n",
    "    d = x[y]\n",
    "    w = x[z]\n",
    "    try:\n",
    "        return (d * w).sum() / w.sum()\n",
    "    except ZeroDivisionError:\n",
    "      return d.mean()"
   ]
  },
  {
   "cell_type": "code",
   "execution_count": null,
   "metadata": {},
   "outputs": [],
   "source": [
    "#accre_cleaned_percent['w_avg']= accre_cleaned_percent.groupby('ACCOUNT').apply(wavg,'PERCENTUSED','USEDTIME')"
   ]
  },
  {
   "cell_type": "code",
   "execution_count": null,
   "metadata": {},
   "outputs": [],
   "source": [
    "accre_cleaned_percent.info()"
   ]
  },
  {
   "cell_type": "code",
   "execution_count": null,
   "metadata": {},
   "outputs": [],
   "source": [
    "w_avg=accre_cleaned_percent.groupby('ACCOUNT').apply(wavg,'PERCENTUSED','USEDTIME')"
   ]
  },
  {
   "cell_type": "code",
   "execution_count": null,
   "metadata": {},
   "outputs": [],
   "source": [
    "\n",
    "w_avg = pd.DataFrame(w_avg)"
   ]
  },
  {
   "cell_type": "code",
   "execution_count": null,
   "metadata": {},
   "outputs": [],
   "source": [
    "w_avg"
   ]
  },
  {
   "cell_type": "code",
   "execution_count": null,
   "metadata": {},
   "outputs": [],
   "source": [
    "#accre_cleaned_weighted=accre_cleaned_percent.groupby('ACCOUNT',as_index=False).agg({'w_avg':'sum'})"
   ]
  },
  {
   "cell_type": "code",
   "execution_count": null,
   "metadata": {},
   "outputs": [],
   "source": [
    "accre_cleaned_weighted.head()"
   ]
  },
  {
   "cell_type": "code",
   "execution_count": null,
   "metadata": {},
   "outputs": [],
   "source": []
  }
 ],
 "metadata": {
  "kernelspec": {
   "display_name": "Python 3",
   "language": "python",
   "name": "python3"
  },
  "language_info": {
   "codemirror_mode": {
    "name": "ipython",
    "version": 3
   },
   "file_extension": ".py",
   "mimetype": "text/x-python",
   "name": "python",
   "nbconvert_exporter": "python",
   "pygments_lexer": "ipython3",
   "version": "3.7.3"
  }
 },
 "nbformat": 4,
 "nbformat_minor": 2
}
