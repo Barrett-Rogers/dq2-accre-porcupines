{
 "cells": [
  {
   "cell_type": "code",
   "execution_count": 1,
   "metadata": {},
   "outputs": [],
   "source": [
    "#4 import the required packages\n",
    "import pandas as pd\n",
    "import numpy as np\n",
    "import matplotlib.pyplot as plt\n",
    "import seaborn as sns\n",
    "import scipy.stats as stats\n",
    "import statsmodels.api as sm\n",
    "%matplotlib inline"
   ]
  },
  {
   "cell_type": "code",
   "execution_count": 2,
   "metadata": {},
   "outputs": [],
   "source": [
    "#read the fullsmple file\n",
    "\n",
    "initial = 'data/fullsample.csv'\n",
    "initial_data = pd.read_csv(initial)"
   ]
  },
  {
   "cell_type": "code",
   "execution_count": 3,
   "metadata": {},
   "outputs": [
    {
     "data": {
      "text/plain": [
       "(4365379, 12)"
      ]
     },
     "execution_count": 3,
     "metadata": {},
     "output_type": "execute_result"
    }
   ],
   "source": [
    "initial_data.shape"
   ]
  },
  {
   "cell_type": "code",
   "execution_count": 4,
   "metadata": {},
   "outputs": [
    {
     "data": {
      "text/html": [
       "<div>\n",
       "<style scoped>\n",
       "    .dataframe tbody tr th:only-of-type {\n",
       "        vertical-align: middle;\n",
       "    }\n",
       "\n",
       "    .dataframe tbody tr th {\n",
       "        vertical-align: top;\n",
       "    }\n",
       "\n",
       "    .dataframe thead th {\n",
       "        text-align: right;\n",
       "    }\n",
       "</style>\n",
       "<table border=\"1\" class=\"dataframe\">\n",
       "  <thead>\n",
       "    <tr style=\"text-align: right;\">\n",
       "      <th></th>\n",
       "      <th>JOBID</th>\n",
       "      <th>ACCOUNT</th>\n",
       "      <th>USER</th>\n",
       "      <th>REQMEM</th>\n",
       "      <th>USEDMEM</th>\n",
       "      <th>REQTIME</th>\n",
       "      <th>USEDTIME</th>\n",
       "      <th>NODES</th>\n",
       "      <th>CPUS</th>\n",
       "      <th>PARTITION</th>\n",
       "      <th>EXITCODE</th>\n",
       "      <th>SUBMIT</th>\n",
       "    </tr>\n",
       "  </thead>\n",
       "  <tbody>\n",
       "    <tr>\n",
       "      <th>0</th>\n",
       "      <td>6794220</td>\n",
       "      <td>laxtons</td>\n",
       "      <td>mikala</td>\n",
       "      <td>247808Mn</td>\n",
       "      <td>115217.12M</td>\n",
       "      <td>14-00:00:00</td>\n",
       "      <td>11-01:32:50</td>\n",
       "      <td>1</td>\n",
       "      <td>16</td>\n",
       "      <td>production</td>\n",
       "      <td>0:0</td>\n",
       "      <td>2019-03-09T16:38:44</td>\n",
       "    </tr>\n",
       "    <tr>\n",
       "      <th>1</th>\n",
       "      <td>6983193_1880</td>\n",
       "      <td>discovery</td>\n",
       "      <td>serina</td>\n",
       "      <td>12288Mn</td>\n",
       "      <td>6516.10M</td>\n",
       "      <td>13-18:00:00</td>\n",
       "      <td>12-09:26:41</td>\n",
       "      <td>1</td>\n",
       "      <td>1</td>\n",
       "      <td>production</td>\n",
       "      <td>0:0</td>\n",
       "      <td>2019-03-07T18:39:59</td>\n",
       "    </tr>\n",
       "    <tr>\n",
       "      <th>2</th>\n",
       "      <td>7055502_1863</td>\n",
       "      <td>discovery</td>\n",
       "      <td>serina</td>\n",
       "      <td>12288Mn</td>\n",
       "      <td>0.09M</td>\n",
       "      <td>13-18:00:00</td>\n",
       "      <td>13-08:27:36</td>\n",
       "      <td>1</td>\n",
       "      <td>1</td>\n",
       "      <td>production</td>\n",
       "      <td>0:0</td>\n",
       "      <td>2019-03-11T10:06:06</td>\n",
       "    </tr>\n",
       "    <tr>\n",
       "      <th>3</th>\n",
       "      <td>7055502_1800</td>\n",
       "      <td>discovery</td>\n",
       "      <td>serina</td>\n",
       "      <td>12288Mn</td>\n",
       "      <td>8333.82M</td>\n",
       "      <td>13-18:00:00</td>\n",
       "      <td>12-03:50:59</td>\n",
       "      <td>1</td>\n",
       "      <td>1</td>\n",
       "      <td>production</td>\n",
       "      <td>0:0</td>\n",
       "      <td>2019-03-11T10:06:06</td>\n",
       "    </tr>\n",
       "    <tr>\n",
       "      <th>4</th>\n",
       "      <td>7055502_1806</td>\n",
       "      <td>discovery</td>\n",
       "      <td>serina</td>\n",
       "      <td>12288Mn</td>\n",
       "      <td>8304.03M</td>\n",
       "      <td>13-18:00:00</td>\n",
       "      <td>11-08:43:46</td>\n",
       "      <td>1</td>\n",
       "      <td>1</td>\n",
       "      <td>production</td>\n",
       "      <td>0:0</td>\n",
       "      <td>2019-03-11T10:06:06</td>\n",
       "    </tr>\n",
       "  </tbody>\n",
       "</table>\n",
       "</div>"
      ],
      "text/plain": [
       "          JOBID    ACCOUNT    USER    REQMEM     USEDMEM      REQTIME  \\\n",
       "0       6794220    laxtons  mikala  247808Mn  115217.12M  14-00:00:00   \n",
       "1  6983193_1880  discovery  serina   12288Mn    6516.10M  13-18:00:00   \n",
       "2  7055502_1863  discovery  serina   12288Mn       0.09M  13-18:00:00   \n",
       "3  7055502_1800  discovery  serina   12288Mn    8333.82M  13-18:00:00   \n",
       "4  7055502_1806  discovery  serina   12288Mn    8304.03M  13-18:00:00   \n",
       "\n",
       "      USEDTIME  NODES  CPUS   PARTITION EXITCODE               SUBMIT  \n",
       "0  11-01:32:50      1    16  production      0:0  2019-03-09T16:38:44  \n",
       "1  12-09:26:41      1     1  production      0:0  2019-03-07T18:39:59  \n",
       "2  13-08:27:36      1     1  production      0:0  2019-03-11T10:06:06  \n",
       "3  12-03:50:59      1     1  production      0:0  2019-03-11T10:06:06  \n",
       "4  11-08:43:46      1     1  production      0:0  2019-03-11T10:06:06  "
      ]
     },
     "execution_count": 4,
     "metadata": {},
     "output_type": "execute_result"
    }
   ],
   "source": [
    "initial_data.head()"
   ]
  },
  {
   "cell_type": "code",
   "execution_count": 5,
   "metadata": {},
   "outputs": [
    {
     "data": {
      "text/html": [
       "<div>\n",
       "<style scoped>\n",
       "    .dataframe tbody tr th:only-of-type {\n",
       "        vertical-align: middle;\n",
       "    }\n",
       "\n",
       "    .dataframe tbody tr th {\n",
       "        vertical-align: top;\n",
       "    }\n",
       "\n",
       "    .dataframe thead th {\n",
       "        text-align: right;\n",
       "    }\n",
       "</style>\n",
       "<table border=\"1\" class=\"dataframe\">\n",
       "  <thead>\n",
       "    <tr style=\"text-align: right;\">\n",
       "      <th></th>\n",
       "      <th>JOBID</th>\n",
       "      <th>ACCOUNT</th>\n",
       "      <th>USER</th>\n",
       "      <th>REQMEM</th>\n",
       "      <th>USEDMEM</th>\n",
       "      <th>REQTIME</th>\n",
       "      <th>USEDTIME</th>\n",
       "      <th>NODES</th>\n",
       "      <th>CPUS</th>\n",
       "      <th>PARTITION</th>\n",
       "      <th>EXITCODE</th>\n",
       "      <th>SUBMIT</th>\n",
       "    </tr>\n",
       "  </thead>\n",
       "  <tbody>\n",
       "    <tr>\n",
       "      <th>4365374</th>\n",
       "      <td>12741062_145</td>\n",
       "      <td>mickey</td>\n",
       "      <td>boyce</td>\n",
       "      <td>4096Mc</td>\n",
       "      <td>462.90M</td>\n",
       "      <td>00:10:00</td>\n",
       "      <td>00:01:44</td>\n",
       "      <td>1</td>\n",
       "      <td>1</td>\n",
       "      <td>production</td>\n",
       "      <td>0:0</td>\n",
       "      <td>2019-09-25T14:22:03</td>\n",
       "    </tr>\n",
       "    <tr>\n",
       "      <th>4365375</th>\n",
       "      <td>12741062_146</td>\n",
       "      <td>mickey</td>\n",
       "      <td>boyce</td>\n",
       "      <td>4096Mc</td>\n",
       "      <td>462.89M</td>\n",
       "      <td>00:10:00</td>\n",
       "      <td>00:01:44</td>\n",
       "      <td>1</td>\n",
       "      <td>1</td>\n",
       "      <td>production</td>\n",
       "      <td>0:0</td>\n",
       "      <td>2019-09-25T14:22:03</td>\n",
       "    </tr>\n",
       "    <tr>\n",
       "      <th>4365376</th>\n",
       "      <td>12741062_147</td>\n",
       "      <td>mickey</td>\n",
       "      <td>boyce</td>\n",
       "      <td>4096Mc</td>\n",
       "      <td>553.77M</td>\n",
       "      <td>00:10:00</td>\n",
       "      <td>00:01:53</td>\n",
       "      <td>1</td>\n",
       "      <td>1</td>\n",
       "      <td>production</td>\n",
       "      <td>0:0</td>\n",
       "      <td>2019-09-25T14:22:03</td>\n",
       "    </tr>\n",
       "    <tr>\n",
       "      <th>4365377</th>\n",
       "      <td>12741062_148</td>\n",
       "      <td>mickey</td>\n",
       "      <td>boyce</td>\n",
       "      <td>4096Mc</td>\n",
       "      <td>557.09M</td>\n",
       "      <td>00:10:00</td>\n",
       "      <td>00:01:52</td>\n",
       "      <td>1</td>\n",
       "      <td>1</td>\n",
       "      <td>production</td>\n",
       "      <td>0:0</td>\n",
       "      <td>2019-09-25T14:22:03</td>\n",
       "    </tr>\n",
       "    <tr>\n",
       "      <th>4365378</th>\n",
       "      <td>12741062_149</td>\n",
       "      <td>mickey</td>\n",
       "      <td>boyce</td>\n",
       "      <td>4096Mc</td>\n",
       "      <td>616.77M</td>\n",
       "      <td>00:10:00</td>\n",
       "      <td>00:01:52</td>\n",
       "      <td>1</td>\n",
       "      <td>1</td>\n",
       "      <td>production</td>\n",
       "      <td>0:0</td>\n",
       "      <td>2019-09-25T14:22:03</td>\n",
       "    </tr>\n",
       "  </tbody>\n",
       "</table>\n",
       "</div>"
      ],
      "text/plain": [
       "                JOBID ACCOUNT   USER  REQMEM  USEDMEM   REQTIME  USEDTIME  \\\n",
       "4365374  12741062_145  mickey  boyce  4096Mc  462.90M  00:10:00  00:01:44   \n",
       "4365375  12741062_146  mickey  boyce  4096Mc  462.89M  00:10:00  00:01:44   \n",
       "4365376  12741062_147  mickey  boyce  4096Mc  553.77M  00:10:00  00:01:53   \n",
       "4365377  12741062_148  mickey  boyce  4096Mc  557.09M  00:10:00  00:01:52   \n",
       "4365378  12741062_149  mickey  boyce  4096Mc  616.77M  00:10:00  00:01:52   \n",
       "\n",
       "         NODES  CPUS   PARTITION EXITCODE               SUBMIT  \n",
       "4365374      1     1  production      0:0  2019-09-25T14:22:03  \n",
       "4365375      1     1  production      0:0  2019-09-25T14:22:03  \n",
       "4365376      1     1  production      0:0  2019-09-25T14:22:03  \n",
       "4365377      1     1  production      0:0  2019-09-25T14:22:03  \n",
       "4365378      1     1  production      0:0  2019-09-25T14:22:03  "
      ]
     },
     "execution_count": 5,
     "metadata": {},
     "output_type": "execute_result"
    }
   ],
   "source": [
    "initial_data.tail()"
   ]
  },
  {
   "cell_type": "code",
   "execution_count": 6,
   "metadata": {},
   "outputs": [
    {
     "name": "stdout",
     "output_type": "stream",
     "text": [
      "<class 'pandas.core.frame.DataFrame'>\n",
      "RangeIndex: 4365379 entries, 0 to 4365378\n",
      "Data columns (total 12 columns):\n",
      "JOBID        object\n",
      "ACCOUNT      object\n",
      "USER         object\n",
      "REQMEM       object\n",
      "USEDMEM      object\n",
      "REQTIME      object\n",
      "USEDTIME     object\n",
      "NODES        int64\n",
      "CPUS         int64\n",
      "PARTITION    object\n",
      "EXITCODE     object\n",
      "SUBMIT       object\n",
      "dtypes: int64(2), object(10)\n",
      "memory usage: 399.7+ MB\n"
     ]
    }
   ],
   "source": [
    "initial_data.info()"
   ]
  },
  {
   "cell_type": "code",
   "execution_count": 7,
   "metadata": {},
   "outputs": [
    {
     "data": {
      "text/plain": [
       "Index(['JOBID', 'ACCOUNT', 'USER', 'REQMEM', 'USEDMEM', 'REQTIME', 'USEDTIME',\n",
       "       'NODES', 'CPUS', 'PARTITION', 'EXITCODE', 'SUBMIT'],\n",
       "      dtype='object')"
      ]
     },
     "execution_count": 7,
     "metadata": {},
     "output_type": "execute_result"
    }
   ],
   "source": [
    "initial_data.columns"
   ]
  },
  {
   "cell_type": "code",
   "execution_count": 8,
   "metadata": {},
   "outputs": [],
   "source": [
    "#remove duplicate rows\n",
    "initial_data=initial_data.drop_duplicates()"
   ]
  },
  {
   "cell_type": "code",
   "execution_count": 9,
   "metadata": {},
   "outputs": [
    {
     "data": {
      "text/html": [
       "<div>\n",
       "<style scoped>\n",
       "    .dataframe tbody tr th:only-of-type {\n",
       "        vertical-align: middle;\n",
       "    }\n",
       "\n",
       "    .dataframe tbody tr th {\n",
       "        vertical-align: top;\n",
       "    }\n",
       "\n",
       "    .dataframe thead th {\n",
       "        text-align: right;\n",
       "    }\n",
       "</style>\n",
       "<table border=\"1\" class=\"dataframe\">\n",
       "  <thead>\n",
       "    <tr style=\"text-align: right;\">\n",
       "      <th></th>\n",
       "      <th>JOBID</th>\n",
       "      <th>ACCOUNT</th>\n",
       "      <th>USER</th>\n",
       "      <th>REQMEM</th>\n",
       "      <th>USEDMEM</th>\n",
       "      <th>REQTIME</th>\n",
       "      <th>USEDTIME</th>\n",
       "      <th>NODES</th>\n",
       "      <th>CPUS</th>\n",
       "      <th>PARTITION</th>\n",
       "      <th>EXITCODE</th>\n",
       "      <th>SUBMIT</th>\n",
       "    </tr>\n",
       "  </thead>\n",
       "  <tbody>\n",
       "    <tr>\n",
       "      <th>0</th>\n",
       "      <td>6794220</td>\n",
       "      <td>laxtons</td>\n",
       "      <td>mikala</td>\n",
       "      <td>247808Mn</td>\n",
       "      <td>115217.12M</td>\n",
       "      <td>14-00:00:00</td>\n",
       "      <td>11-01:32:50</td>\n",
       "      <td>1</td>\n",
       "      <td>16</td>\n",
       "      <td>production</td>\n",
       "      <td>0:0</td>\n",
       "      <td>2019-03-09T16:38:44</td>\n",
       "    </tr>\n",
       "    <tr>\n",
       "      <th>1</th>\n",
       "      <td>6983193_1880</td>\n",
       "      <td>discovery</td>\n",
       "      <td>serina</td>\n",
       "      <td>12288Mn</td>\n",
       "      <td>6516.10M</td>\n",
       "      <td>13-18:00:00</td>\n",
       "      <td>12-09:26:41</td>\n",
       "      <td>1</td>\n",
       "      <td>1</td>\n",
       "      <td>production</td>\n",
       "      <td>0:0</td>\n",
       "      <td>2019-03-07T18:39:59</td>\n",
       "    </tr>\n",
       "    <tr>\n",
       "      <th>2</th>\n",
       "      <td>7055502_1863</td>\n",
       "      <td>discovery</td>\n",
       "      <td>serina</td>\n",
       "      <td>12288Mn</td>\n",
       "      <td>0.09M</td>\n",
       "      <td>13-18:00:00</td>\n",
       "      <td>13-08:27:36</td>\n",
       "      <td>1</td>\n",
       "      <td>1</td>\n",
       "      <td>production</td>\n",
       "      <td>0:0</td>\n",
       "      <td>2019-03-11T10:06:06</td>\n",
       "    </tr>\n",
       "    <tr>\n",
       "      <th>3</th>\n",
       "      <td>7055502_1800</td>\n",
       "      <td>discovery</td>\n",
       "      <td>serina</td>\n",
       "      <td>12288Mn</td>\n",
       "      <td>8333.82M</td>\n",
       "      <td>13-18:00:00</td>\n",
       "      <td>12-03:50:59</td>\n",
       "      <td>1</td>\n",
       "      <td>1</td>\n",
       "      <td>production</td>\n",
       "      <td>0:0</td>\n",
       "      <td>2019-03-11T10:06:06</td>\n",
       "    </tr>\n",
       "    <tr>\n",
       "      <th>4</th>\n",
       "      <td>7055502_1806</td>\n",
       "      <td>discovery</td>\n",
       "      <td>serina</td>\n",
       "      <td>12288Mn</td>\n",
       "      <td>8304.03M</td>\n",
       "      <td>13-18:00:00</td>\n",
       "      <td>11-08:43:46</td>\n",
       "      <td>1</td>\n",
       "      <td>1</td>\n",
       "      <td>production</td>\n",
       "      <td>0:0</td>\n",
       "      <td>2019-03-11T10:06:06</td>\n",
       "    </tr>\n",
       "  </tbody>\n",
       "</table>\n",
       "</div>"
      ],
      "text/plain": [
       "          JOBID    ACCOUNT    USER    REQMEM     USEDMEM      REQTIME  \\\n",
       "0       6794220    laxtons  mikala  247808Mn  115217.12M  14-00:00:00   \n",
       "1  6983193_1880  discovery  serina   12288Mn    6516.10M  13-18:00:00   \n",
       "2  7055502_1863  discovery  serina   12288Mn       0.09M  13-18:00:00   \n",
       "3  7055502_1800  discovery  serina   12288Mn    8333.82M  13-18:00:00   \n",
       "4  7055502_1806  discovery  serina   12288Mn    8304.03M  13-18:00:00   \n",
       "\n",
       "      USEDTIME  NODES  CPUS   PARTITION EXITCODE               SUBMIT  \n",
       "0  11-01:32:50      1    16  production      0:0  2019-03-09T16:38:44  \n",
       "1  12-09:26:41      1     1  production      0:0  2019-03-07T18:39:59  \n",
       "2  13-08:27:36      1     1  production      0:0  2019-03-11T10:06:06  \n",
       "3  12-03:50:59      1     1  production      0:0  2019-03-11T10:06:06  \n",
       "4  11-08:43:46      1     1  production      0:0  2019-03-11T10:06:06  "
      ]
     },
     "execution_count": 9,
     "metadata": {},
     "output_type": "execute_result"
    }
   ],
   "source": [
    "initial_data.head()"
   ]
  },
  {
   "cell_type": "code",
   "execution_count": 10,
   "metadata": {},
   "outputs": [],
   "source": [
    "#keep only data that has partition= production \n",
    "initial_data=initial_data.loc[initial_data['PARTITION']=='production']"
   ]
  },
  {
   "cell_type": "code",
   "execution_count": 11,
   "metadata": {},
   "outputs": [
    {
     "data": {
      "text/plain": [
       "(3319257, 12)"
      ]
     },
     "execution_count": 11,
     "metadata": {},
     "output_type": "execute_result"
    }
   ],
   "source": [
    "initial_data.shape"
   ]
  },
  {
   "cell_type": "code",
   "execution_count": 12,
   "metadata": {},
   "outputs": [],
   "source": [
    "#keep only successful jobs. meaning keep all exit code that contain 0:0\n",
    "#initial_data=initial_data.loc[initial_data['EXITCODE']=='0:0']\n",
    "#we will use this for qeustions 3 and 4"
   ]
  },
  {
   "cell_type": "code",
   "execution_count": 13,
   "metadata": {},
   "outputs": [
    {
     "data": {
      "text/plain": [
       "(3319257, 12)"
      ]
     },
     "execution_count": 13,
     "metadata": {},
     "output_type": "execute_result"
    }
   ],
   "source": [
    "initial_data.shape"
   ]
  },
  {
   "cell_type": "code",
   "execution_count": 14,
   "metadata": {},
   "outputs": [
    {
     "data": {
      "text/html": [
       "<div>\n",
       "<style scoped>\n",
       "    .dataframe tbody tr th:only-of-type {\n",
       "        vertical-align: middle;\n",
       "    }\n",
       "\n",
       "    .dataframe tbody tr th {\n",
       "        vertical-align: top;\n",
       "    }\n",
       "\n",
       "    .dataframe thead th {\n",
       "        text-align: right;\n",
       "    }\n",
       "</style>\n",
       "<table border=\"1\" class=\"dataframe\">\n",
       "  <thead>\n",
       "    <tr style=\"text-align: right;\">\n",
       "      <th></th>\n",
       "      <th>JOBID</th>\n",
       "      <th>ACCOUNT</th>\n",
       "      <th>USER</th>\n",
       "      <th>REQMEM</th>\n",
       "      <th>USEDMEM</th>\n",
       "      <th>REQTIME</th>\n",
       "      <th>USEDTIME</th>\n",
       "      <th>NODES</th>\n",
       "      <th>CPUS</th>\n",
       "      <th>PARTITION</th>\n",
       "      <th>EXITCODE</th>\n",
       "      <th>SUBMIT</th>\n",
       "    </tr>\n",
       "  </thead>\n",
       "  <tbody>\n",
       "    <tr>\n",
       "      <th>0</th>\n",
       "      <td>6794220</td>\n",
       "      <td>laxtons</td>\n",
       "      <td>mikala</td>\n",
       "      <td>247808Mn</td>\n",
       "      <td>115217.12M</td>\n",
       "      <td>14-00:00:00</td>\n",
       "      <td>11-01:32:50</td>\n",
       "      <td>1</td>\n",
       "      <td>16</td>\n",
       "      <td>production</td>\n",
       "      <td>0:0</td>\n",
       "      <td>2019-03-09T16:38:44</td>\n",
       "    </tr>\n",
       "    <tr>\n",
       "      <th>1</th>\n",
       "      <td>6983193_1880</td>\n",
       "      <td>discovery</td>\n",
       "      <td>serina</td>\n",
       "      <td>12288Mn</td>\n",
       "      <td>6516.10M</td>\n",
       "      <td>13-18:00:00</td>\n",
       "      <td>12-09:26:41</td>\n",
       "      <td>1</td>\n",
       "      <td>1</td>\n",
       "      <td>production</td>\n",
       "      <td>0:0</td>\n",
       "      <td>2019-03-07T18:39:59</td>\n",
       "    </tr>\n",
       "    <tr>\n",
       "      <th>2</th>\n",
       "      <td>7055502_1863</td>\n",
       "      <td>discovery</td>\n",
       "      <td>serina</td>\n",
       "      <td>12288Mn</td>\n",
       "      <td>0.09M</td>\n",
       "      <td>13-18:00:00</td>\n",
       "      <td>13-08:27:36</td>\n",
       "      <td>1</td>\n",
       "      <td>1</td>\n",
       "      <td>production</td>\n",
       "      <td>0:0</td>\n",
       "      <td>2019-03-11T10:06:06</td>\n",
       "    </tr>\n",
       "    <tr>\n",
       "      <th>3</th>\n",
       "      <td>7055502_1800</td>\n",
       "      <td>discovery</td>\n",
       "      <td>serina</td>\n",
       "      <td>12288Mn</td>\n",
       "      <td>8333.82M</td>\n",
       "      <td>13-18:00:00</td>\n",
       "      <td>12-03:50:59</td>\n",
       "      <td>1</td>\n",
       "      <td>1</td>\n",
       "      <td>production</td>\n",
       "      <td>0:0</td>\n",
       "      <td>2019-03-11T10:06:06</td>\n",
       "    </tr>\n",
       "    <tr>\n",
       "      <th>4</th>\n",
       "      <td>7055502_1806</td>\n",
       "      <td>discovery</td>\n",
       "      <td>serina</td>\n",
       "      <td>12288Mn</td>\n",
       "      <td>8304.03M</td>\n",
       "      <td>13-18:00:00</td>\n",
       "      <td>11-08:43:46</td>\n",
       "      <td>1</td>\n",
       "      <td>1</td>\n",
       "      <td>production</td>\n",
       "      <td>0:0</td>\n",
       "      <td>2019-03-11T10:06:06</td>\n",
       "    </tr>\n",
       "  </tbody>\n",
       "</table>\n",
       "</div>"
      ],
      "text/plain": [
       "          JOBID    ACCOUNT    USER    REQMEM     USEDMEM      REQTIME  \\\n",
       "0       6794220    laxtons  mikala  247808Mn  115217.12M  14-00:00:00   \n",
       "1  6983193_1880  discovery  serina   12288Mn    6516.10M  13-18:00:00   \n",
       "2  7055502_1863  discovery  serina   12288Mn       0.09M  13-18:00:00   \n",
       "3  7055502_1800  discovery  serina   12288Mn    8333.82M  13-18:00:00   \n",
       "4  7055502_1806  discovery  serina   12288Mn    8304.03M  13-18:00:00   \n",
       "\n",
       "      USEDTIME  NODES  CPUS   PARTITION EXITCODE               SUBMIT  \n",
       "0  11-01:32:50      1    16  production      0:0  2019-03-09T16:38:44  \n",
       "1  12-09:26:41      1     1  production      0:0  2019-03-07T18:39:59  \n",
       "2  13-08:27:36      1     1  production      0:0  2019-03-11T10:06:06  \n",
       "3  12-03:50:59      1     1  production      0:0  2019-03-11T10:06:06  \n",
       "4  11-08:43:46      1     1  production      0:0  2019-03-11T10:06:06  "
      ]
     },
     "execution_count": 14,
     "metadata": {},
     "output_type": "execute_result"
    }
   ],
   "source": [
    "initial_data.head()"
   ]
  },
  {
   "cell_type": "code",
   "execution_count": 15,
   "metadata": {},
   "outputs": [],
   "source": [
    "#remove the - from the reqtime and usedtime\n",
    "initial_data.REQTIME=initial_data.REQTIME.str.replace('-',':')\n",
    "initial_data.USEDTIME=initial_data.USEDTIME.str.replace('-',':')"
   ]
  },
  {
   "cell_type": "code",
   "execution_count": 16,
   "metadata": {},
   "outputs": [
    {
     "data": {
      "text/html": [
       "<div>\n",
       "<style scoped>\n",
       "    .dataframe tbody tr th:only-of-type {\n",
       "        vertical-align: middle;\n",
       "    }\n",
       "\n",
       "    .dataframe tbody tr th {\n",
       "        vertical-align: top;\n",
       "    }\n",
       "\n",
       "    .dataframe thead th {\n",
       "        text-align: right;\n",
       "    }\n",
       "</style>\n",
       "<table border=\"1\" class=\"dataframe\">\n",
       "  <thead>\n",
       "    <tr style=\"text-align: right;\">\n",
       "      <th></th>\n",
       "      <th>JOBID</th>\n",
       "      <th>ACCOUNT</th>\n",
       "      <th>USER</th>\n",
       "      <th>REQMEM</th>\n",
       "      <th>USEDMEM</th>\n",
       "      <th>REQTIME</th>\n",
       "      <th>USEDTIME</th>\n",
       "      <th>NODES</th>\n",
       "      <th>CPUS</th>\n",
       "      <th>PARTITION</th>\n",
       "      <th>EXITCODE</th>\n",
       "      <th>SUBMIT</th>\n",
       "    </tr>\n",
       "  </thead>\n",
       "  <tbody>\n",
       "    <tr>\n",
       "      <th>0</th>\n",
       "      <td>6794220</td>\n",
       "      <td>laxtons</td>\n",
       "      <td>mikala</td>\n",
       "      <td>247808Mn</td>\n",
       "      <td>115217.12M</td>\n",
       "      <td>14:00:00:00</td>\n",
       "      <td>11:01:32:50</td>\n",
       "      <td>1</td>\n",
       "      <td>16</td>\n",
       "      <td>production</td>\n",
       "      <td>0:0</td>\n",
       "      <td>2019-03-09T16:38:44</td>\n",
       "    </tr>\n",
       "    <tr>\n",
       "      <th>1</th>\n",
       "      <td>6983193_1880</td>\n",
       "      <td>discovery</td>\n",
       "      <td>serina</td>\n",
       "      <td>12288Mn</td>\n",
       "      <td>6516.10M</td>\n",
       "      <td>13:18:00:00</td>\n",
       "      <td>12:09:26:41</td>\n",
       "      <td>1</td>\n",
       "      <td>1</td>\n",
       "      <td>production</td>\n",
       "      <td>0:0</td>\n",
       "      <td>2019-03-07T18:39:59</td>\n",
       "    </tr>\n",
       "    <tr>\n",
       "      <th>2</th>\n",
       "      <td>7055502_1863</td>\n",
       "      <td>discovery</td>\n",
       "      <td>serina</td>\n",
       "      <td>12288Mn</td>\n",
       "      <td>0.09M</td>\n",
       "      <td>13:18:00:00</td>\n",
       "      <td>13:08:27:36</td>\n",
       "      <td>1</td>\n",
       "      <td>1</td>\n",
       "      <td>production</td>\n",
       "      <td>0:0</td>\n",
       "      <td>2019-03-11T10:06:06</td>\n",
       "    </tr>\n",
       "    <tr>\n",
       "      <th>3</th>\n",
       "      <td>7055502_1800</td>\n",
       "      <td>discovery</td>\n",
       "      <td>serina</td>\n",
       "      <td>12288Mn</td>\n",
       "      <td>8333.82M</td>\n",
       "      <td>13:18:00:00</td>\n",
       "      <td>12:03:50:59</td>\n",
       "      <td>1</td>\n",
       "      <td>1</td>\n",
       "      <td>production</td>\n",
       "      <td>0:0</td>\n",
       "      <td>2019-03-11T10:06:06</td>\n",
       "    </tr>\n",
       "    <tr>\n",
       "      <th>4</th>\n",
       "      <td>7055502_1806</td>\n",
       "      <td>discovery</td>\n",
       "      <td>serina</td>\n",
       "      <td>12288Mn</td>\n",
       "      <td>8304.03M</td>\n",
       "      <td>13:18:00:00</td>\n",
       "      <td>11:08:43:46</td>\n",
       "      <td>1</td>\n",
       "      <td>1</td>\n",
       "      <td>production</td>\n",
       "      <td>0:0</td>\n",
       "      <td>2019-03-11T10:06:06</td>\n",
       "    </tr>\n",
       "  </tbody>\n",
       "</table>\n",
       "</div>"
      ],
      "text/plain": [
       "          JOBID    ACCOUNT    USER    REQMEM     USEDMEM      REQTIME  \\\n",
       "0       6794220    laxtons  mikala  247808Mn  115217.12M  14:00:00:00   \n",
       "1  6983193_1880  discovery  serina   12288Mn    6516.10M  13:18:00:00   \n",
       "2  7055502_1863  discovery  serina   12288Mn       0.09M  13:18:00:00   \n",
       "3  7055502_1800  discovery  serina   12288Mn    8333.82M  13:18:00:00   \n",
       "4  7055502_1806  discovery  serina   12288Mn    8304.03M  13:18:00:00   \n",
       "\n",
       "      USEDTIME  NODES  CPUS   PARTITION EXITCODE               SUBMIT  \n",
       "0  11:01:32:50      1    16  production      0:0  2019-03-09T16:38:44  \n",
       "1  12:09:26:41      1     1  production      0:0  2019-03-07T18:39:59  \n",
       "2  13:08:27:36      1     1  production      0:0  2019-03-11T10:06:06  \n",
       "3  12:03:50:59      1     1  production      0:0  2019-03-11T10:06:06  \n",
       "4  11:08:43:46      1     1  production      0:0  2019-03-11T10:06:06  "
      ]
     },
     "execution_count": 16,
     "metadata": {},
     "output_type": "execute_result"
    }
   ],
   "source": [
    "initial_data.head()"
   ]
  },
  {
   "cell_type": "code",
   "execution_count": 17,
   "metadata": {},
   "outputs": [],
   "source": [
    "#spill=initial_data.REQTIME[1]"
   ]
  },
  {
   "cell_type": "code",
   "execution_count": 18,
   "metadata": {},
   "outputs": [],
   "source": [
    "#spill=spill.split(':')\n"
   ]
  },
  {
   "cell_type": "code",
   "execution_count": 19,
   "metadata": {},
   "outputs": [],
   "source": [
    "#spill"
   ]
  },
  {
   "cell_type": "code",
   "execution_count": 20,
   "metadata": {},
   "outputs": [],
   "source": [
    "#len(spill)"
   ]
  },
  {
   "cell_type": "code",
   "execution_count": 21,
   "metadata": {},
   "outputs": [],
   "source": [
    "#int(D)*86400 + int(h)*3600 + int(m)*60 +int(s)\n",
    "#time=int(spill[0])*86400+int(spill[1])*3600+int(spill[2])*60+int(spill[3])\n",
    "#time"
   ]
  },
  {
   "cell_type": "code",
   "execution_count": 22,
   "metadata": {},
   "outputs": [],
   "source": [
    "date_time=initial_data.REQTIME\n"
   ]
  },
  {
   "cell_type": "code",
   "execution_count": 23,
   "metadata": {},
   "outputs": [
    {
     "name": "stdout",
     "output_type": "stream",
     "text": [
      "CPU times: user 6.15 s, sys: 67.2 ms, total: 6.22 s\n",
      "Wall time: 6.22 s\n"
     ]
    }
   ],
   "source": [
    "%%time\n",
    "#covert the REQTIME to total seconds\n",
    "#initialize the to_secods df outside of the loop\n",
    "to_seconds=[]\n",
    "for time in date_time:\n",
    "    split=time.split(':')\n",
    "    if len(split)==4:\n",
    "        seconds=int(split[0])*86400+int(split[1])*3600+int(split[2])*60+int(split[3])\n",
    "        to_seconds.append(seconds)\n",
    "    else:\n",
    "        seconds=int(split[0])*3600+int(split[1])*60+int(split[2])\n",
    "        to_seconds.append(seconds)\n",
    "    "
   ]
  },
  {
   "cell_type": "code",
   "execution_count": 24,
   "metadata": {},
   "outputs": [],
   "source": [
    "#now set the results of the loop back in the REQTIME column\n",
    "initial_data['REQTIME']=to_seconds"
   ]
  },
  {
   "cell_type": "code",
   "execution_count": 25,
   "metadata": {},
   "outputs": [
    {
     "data": {
      "text/html": [
       "<div>\n",
       "<style scoped>\n",
       "    .dataframe tbody tr th:only-of-type {\n",
       "        vertical-align: middle;\n",
       "    }\n",
       "\n",
       "    .dataframe tbody tr th {\n",
       "        vertical-align: top;\n",
       "    }\n",
       "\n",
       "    .dataframe thead th {\n",
       "        text-align: right;\n",
       "    }\n",
       "</style>\n",
       "<table border=\"1\" class=\"dataframe\">\n",
       "  <thead>\n",
       "    <tr style=\"text-align: right;\">\n",
       "      <th></th>\n",
       "      <th>JOBID</th>\n",
       "      <th>ACCOUNT</th>\n",
       "      <th>USER</th>\n",
       "      <th>REQMEM</th>\n",
       "      <th>USEDMEM</th>\n",
       "      <th>REQTIME</th>\n",
       "      <th>USEDTIME</th>\n",
       "      <th>NODES</th>\n",
       "      <th>CPUS</th>\n",
       "      <th>PARTITION</th>\n",
       "      <th>EXITCODE</th>\n",
       "      <th>SUBMIT</th>\n",
       "    </tr>\n",
       "  </thead>\n",
       "  <tbody>\n",
       "    <tr>\n",
       "      <th>0</th>\n",
       "      <td>6794220</td>\n",
       "      <td>laxtons</td>\n",
       "      <td>mikala</td>\n",
       "      <td>247808Mn</td>\n",
       "      <td>115217.12M</td>\n",
       "      <td>1209600</td>\n",
       "      <td>11:01:32:50</td>\n",
       "      <td>1</td>\n",
       "      <td>16</td>\n",
       "      <td>production</td>\n",
       "      <td>0:0</td>\n",
       "      <td>2019-03-09T16:38:44</td>\n",
       "    </tr>\n",
       "    <tr>\n",
       "      <th>1</th>\n",
       "      <td>6983193_1880</td>\n",
       "      <td>discovery</td>\n",
       "      <td>serina</td>\n",
       "      <td>12288Mn</td>\n",
       "      <td>6516.10M</td>\n",
       "      <td>1188000</td>\n",
       "      <td>12:09:26:41</td>\n",
       "      <td>1</td>\n",
       "      <td>1</td>\n",
       "      <td>production</td>\n",
       "      <td>0:0</td>\n",
       "      <td>2019-03-07T18:39:59</td>\n",
       "    </tr>\n",
       "    <tr>\n",
       "      <th>2</th>\n",
       "      <td>7055502_1863</td>\n",
       "      <td>discovery</td>\n",
       "      <td>serina</td>\n",
       "      <td>12288Mn</td>\n",
       "      <td>0.09M</td>\n",
       "      <td>1188000</td>\n",
       "      <td>13:08:27:36</td>\n",
       "      <td>1</td>\n",
       "      <td>1</td>\n",
       "      <td>production</td>\n",
       "      <td>0:0</td>\n",
       "      <td>2019-03-11T10:06:06</td>\n",
       "    </tr>\n",
       "    <tr>\n",
       "      <th>3</th>\n",
       "      <td>7055502_1800</td>\n",
       "      <td>discovery</td>\n",
       "      <td>serina</td>\n",
       "      <td>12288Mn</td>\n",
       "      <td>8333.82M</td>\n",
       "      <td>1188000</td>\n",
       "      <td>12:03:50:59</td>\n",
       "      <td>1</td>\n",
       "      <td>1</td>\n",
       "      <td>production</td>\n",
       "      <td>0:0</td>\n",
       "      <td>2019-03-11T10:06:06</td>\n",
       "    </tr>\n",
       "    <tr>\n",
       "      <th>4</th>\n",
       "      <td>7055502_1806</td>\n",
       "      <td>discovery</td>\n",
       "      <td>serina</td>\n",
       "      <td>12288Mn</td>\n",
       "      <td>8304.03M</td>\n",
       "      <td>1188000</td>\n",
       "      <td>11:08:43:46</td>\n",
       "      <td>1</td>\n",
       "      <td>1</td>\n",
       "      <td>production</td>\n",
       "      <td>0:0</td>\n",
       "      <td>2019-03-11T10:06:06</td>\n",
       "    </tr>\n",
       "  </tbody>\n",
       "</table>\n",
       "</div>"
      ],
      "text/plain": [
       "          JOBID    ACCOUNT    USER    REQMEM     USEDMEM  REQTIME  \\\n",
       "0       6794220    laxtons  mikala  247808Mn  115217.12M  1209600   \n",
       "1  6983193_1880  discovery  serina   12288Mn    6516.10M  1188000   \n",
       "2  7055502_1863  discovery  serina   12288Mn       0.09M  1188000   \n",
       "3  7055502_1800  discovery  serina   12288Mn    8333.82M  1188000   \n",
       "4  7055502_1806  discovery  serina   12288Mn    8304.03M  1188000   \n",
       "\n",
       "      USEDTIME  NODES  CPUS   PARTITION EXITCODE               SUBMIT  \n",
       "0  11:01:32:50      1    16  production      0:0  2019-03-09T16:38:44  \n",
       "1  12:09:26:41      1     1  production      0:0  2019-03-07T18:39:59  \n",
       "2  13:08:27:36      1     1  production      0:0  2019-03-11T10:06:06  \n",
       "3  12:03:50:59      1     1  production      0:0  2019-03-11T10:06:06  \n",
       "4  11:08:43:46      1     1  production      0:0  2019-03-11T10:06:06  "
      ]
     },
     "execution_count": 25,
     "metadata": {},
     "output_type": "execute_result"
    }
   ],
   "source": [
    "initial_data.head()"
   ]
  },
  {
   "cell_type": "code",
   "execution_count": 26,
   "metadata": {},
   "outputs": [],
   "source": [
    "#used_time=initial_data.USEDTIME"
   ]
  },
  {
   "cell_type": "code",
   "execution_count": 27,
   "metadata": {},
   "outputs": [],
   "source": [
    "#covert the USEDTIME to total seconds\n",
    "#another way to do seconds conversion. do a function \n",
    "def convert_to_seconds(new):\n",
    "    split_again=new.split(':')\n",
    "    if len(split_again)==4:\n",
    "        sec_2=int(split_again[0])*86400+int(split_again[1])*3600+int(split_again[2])*60+int(split_again[3])\n",
    "        \n",
    "    else:\n",
    "        sec_2=int(split_again[0])*3600+int(split_again[1])*60+int(split_again[2])\n",
    "        \n",
    "    return sec_2"
   ]
  },
  {
   "cell_type": "code",
   "execution_count": 28,
   "metadata": {},
   "outputs": [
    {
     "data": {
      "text/plain": [
       "955970"
      ]
     },
     "execution_count": 28,
     "metadata": {},
     "output_type": "execute_result"
    }
   ],
   "source": [
    "#my function worked\n",
    "convert_to_seconds('11:01:32:50')"
   ]
  },
  {
   "cell_type": "code",
   "execution_count": 29,
   "metadata": {},
   "outputs": [
    {
     "name": "stdout",
     "output_type": "stream",
     "text": [
      "CPU times: user 6.92 s, sys: 301 ms, total: 7.22 s\n",
      "Wall time: 7.21 s\n"
     ]
    }
   ],
   "source": [
    "%%time\n",
    "#use the fuction created to covert the USEDTIME column to seconds\n",
    "initial_data.USEDTIME=initial_data.USEDTIME.apply(convert_to_seconds)"
   ]
  },
  {
   "cell_type": "code",
   "execution_count": 30,
   "metadata": {},
   "outputs": [],
   "source": [
    "#initial_data.head()"
   ]
  },
  {
   "cell_type": "code",
   "execution_count": 31,
   "metadata": {},
   "outputs": [],
   "source": [
    "reqmem=initial_data['REQMEM'].str.replace(r'(Mn|Mc)',r' \\1')\n",
    "#split=reqmem.str.split(' ')\n",
    "initial_data.REQMEM=reqmem\n"
   ]
  },
  {
   "cell_type": "code",
   "execution_count": 32,
   "metadata": {},
   "outputs": [
    {
     "data": {
      "text/html": [
       "<div>\n",
       "<style scoped>\n",
       "    .dataframe tbody tr th:only-of-type {\n",
       "        vertical-align: middle;\n",
       "    }\n",
       "\n",
       "    .dataframe tbody tr th {\n",
       "        vertical-align: top;\n",
       "    }\n",
       "\n",
       "    .dataframe thead th {\n",
       "        text-align: right;\n",
       "    }\n",
       "</style>\n",
       "<table border=\"1\" class=\"dataframe\">\n",
       "  <thead>\n",
       "    <tr style=\"text-align: right;\">\n",
       "      <th></th>\n",
       "      <th>JOBID</th>\n",
       "      <th>ACCOUNT</th>\n",
       "      <th>USER</th>\n",
       "      <th>REQMEM</th>\n",
       "      <th>USEDMEM</th>\n",
       "      <th>REQTIME</th>\n",
       "      <th>USEDTIME</th>\n",
       "      <th>NODES</th>\n",
       "      <th>CPUS</th>\n",
       "      <th>PARTITION</th>\n",
       "      <th>EXITCODE</th>\n",
       "      <th>SUBMIT</th>\n",
       "    </tr>\n",
       "  </thead>\n",
       "  <tbody>\n",
       "    <tr>\n",
       "      <th>0</th>\n",
       "      <td>6794220</td>\n",
       "      <td>laxtons</td>\n",
       "      <td>mikala</td>\n",
       "      <td>247808 Mn</td>\n",
       "      <td>115217.12M</td>\n",
       "      <td>1209600</td>\n",
       "      <td>955970</td>\n",
       "      <td>1</td>\n",
       "      <td>16</td>\n",
       "      <td>production</td>\n",
       "      <td>0:0</td>\n",
       "      <td>2019-03-09T16:38:44</td>\n",
       "    </tr>\n",
       "    <tr>\n",
       "      <th>1</th>\n",
       "      <td>6983193_1880</td>\n",
       "      <td>discovery</td>\n",
       "      <td>serina</td>\n",
       "      <td>12288 Mn</td>\n",
       "      <td>6516.10M</td>\n",
       "      <td>1188000</td>\n",
       "      <td>1070801</td>\n",
       "      <td>1</td>\n",
       "      <td>1</td>\n",
       "      <td>production</td>\n",
       "      <td>0:0</td>\n",
       "      <td>2019-03-07T18:39:59</td>\n",
       "    </tr>\n",
       "    <tr>\n",
       "      <th>2</th>\n",
       "      <td>7055502_1863</td>\n",
       "      <td>discovery</td>\n",
       "      <td>serina</td>\n",
       "      <td>12288 Mn</td>\n",
       "      <td>0.09M</td>\n",
       "      <td>1188000</td>\n",
       "      <td>1153656</td>\n",
       "      <td>1</td>\n",
       "      <td>1</td>\n",
       "      <td>production</td>\n",
       "      <td>0:0</td>\n",
       "      <td>2019-03-11T10:06:06</td>\n",
       "    </tr>\n",
       "    <tr>\n",
       "      <th>3</th>\n",
       "      <td>7055502_1800</td>\n",
       "      <td>discovery</td>\n",
       "      <td>serina</td>\n",
       "      <td>12288 Mn</td>\n",
       "      <td>8333.82M</td>\n",
       "      <td>1188000</td>\n",
       "      <td>1050659</td>\n",
       "      <td>1</td>\n",
       "      <td>1</td>\n",
       "      <td>production</td>\n",
       "      <td>0:0</td>\n",
       "      <td>2019-03-11T10:06:06</td>\n",
       "    </tr>\n",
       "    <tr>\n",
       "      <th>4</th>\n",
       "      <td>7055502_1806</td>\n",
       "      <td>discovery</td>\n",
       "      <td>serina</td>\n",
       "      <td>12288 Mn</td>\n",
       "      <td>8304.03M</td>\n",
       "      <td>1188000</td>\n",
       "      <td>981826</td>\n",
       "      <td>1</td>\n",
       "      <td>1</td>\n",
       "      <td>production</td>\n",
       "      <td>0:0</td>\n",
       "      <td>2019-03-11T10:06:06</td>\n",
       "    </tr>\n",
       "  </tbody>\n",
       "</table>\n",
       "</div>"
      ],
      "text/plain": [
       "          JOBID    ACCOUNT    USER     REQMEM     USEDMEM  REQTIME  USEDTIME  \\\n",
       "0       6794220    laxtons  mikala  247808 Mn  115217.12M  1209600    955970   \n",
       "1  6983193_1880  discovery  serina   12288 Mn    6516.10M  1188000   1070801   \n",
       "2  7055502_1863  discovery  serina   12288 Mn       0.09M  1188000   1153656   \n",
       "3  7055502_1800  discovery  serina   12288 Mn    8333.82M  1188000   1050659   \n",
       "4  7055502_1806  discovery  serina   12288 Mn    8304.03M  1188000    981826   \n",
       "\n",
       "   NODES  CPUS   PARTITION EXITCODE               SUBMIT  \n",
       "0      1    16  production      0:0  2019-03-09T16:38:44  \n",
       "1      1     1  production      0:0  2019-03-07T18:39:59  \n",
       "2      1     1  production      0:0  2019-03-11T10:06:06  \n",
       "3      1     1  production      0:0  2019-03-11T10:06:06  \n",
       "4      1     1  production      0:0  2019-03-11T10:06:06  "
      ]
     },
     "execution_count": 32,
     "metadata": {},
     "output_type": "execute_result"
    }
   ],
   "source": [
    "initial_data.head()"
   ]
  },
  {
   "cell_type": "code",
   "execution_count": 33,
   "metadata": {},
   "outputs": [],
   "source": [
    "#convert Mn to Mc using a function \n",
    "def convert_to_mc(x,y,z):\n",
    "    #cut_mn=x.replace(r'(Mn|Mc)',r' \\1')\n",
    "    num_unit=x.split(' ')\n",
    "    #print(num_unit[0])\n",
    "    number=int(num_unit[0])\n",
    "    unit=num_unit[1]\n",
    "    if unit=='Mn':\n",
    "        mc_conversion=(number*y)/(z)\n",
    "    else:\n",
    "        mc_conversion=number\n",
    "        \n",
    "    return mc_conversion"
   ]
  },
  {
   "cell_type": "code",
   "execution_count": null,
   "metadata": {},
   "outputs": [],
   "source": []
  },
  {
   "cell_type": "code",
   "execution_count": 34,
   "metadata": {},
   "outputs": [
    {
     "name": "stdout",
     "output_type": "stream",
     "text": [
      "CPU times: user 1min 51s, sys: 1.36 s, total: 1min 53s\n",
      "Wall time: 1min 53s\n"
     ]
    }
   ],
   "source": [
    "%%time\n",
    "initial_data['REQMEM']=initial_data.apply(lambda row: convert_to_mc(row['REQMEM'],row['NODES'],row['CPUS']),axis=1)"
   ]
  },
  {
   "cell_type": "code",
   "execution_count": 35,
   "metadata": {},
   "outputs": [
    {
     "data": {
      "text/html": [
       "<div>\n",
       "<style scoped>\n",
       "    .dataframe tbody tr th:only-of-type {\n",
       "        vertical-align: middle;\n",
       "    }\n",
       "\n",
       "    .dataframe tbody tr th {\n",
       "        vertical-align: top;\n",
       "    }\n",
       "\n",
       "    .dataframe thead th {\n",
       "        text-align: right;\n",
       "    }\n",
       "</style>\n",
       "<table border=\"1\" class=\"dataframe\">\n",
       "  <thead>\n",
       "    <tr style=\"text-align: right;\">\n",
       "      <th></th>\n",
       "      <th>JOBID</th>\n",
       "      <th>ACCOUNT</th>\n",
       "      <th>USER</th>\n",
       "      <th>REQMEM</th>\n",
       "      <th>USEDMEM</th>\n",
       "      <th>REQTIME</th>\n",
       "      <th>USEDTIME</th>\n",
       "      <th>NODES</th>\n",
       "      <th>CPUS</th>\n",
       "      <th>PARTITION</th>\n",
       "      <th>EXITCODE</th>\n",
       "      <th>SUBMIT</th>\n",
       "    </tr>\n",
       "  </thead>\n",
       "  <tbody>\n",
       "    <tr>\n",
       "      <th>0</th>\n",
       "      <td>6794220</td>\n",
       "      <td>laxtons</td>\n",
       "      <td>mikala</td>\n",
       "      <td>15488.0</td>\n",
       "      <td>115217.12M</td>\n",
       "      <td>1209600</td>\n",
       "      <td>955970</td>\n",
       "      <td>1</td>\n",
       "      <td>16</td>\n",
       "      <td>production</td>\n",
       "      <td>0:0</td>\n",
       "      <td>2019-03-09T16:38:44</td>\n",
       "    </tr>\n",
       "    <tr>\n",
       "      <th>1</th>\n",
       "      <td>6983193_1880</td>\n",
       "      <td>discovery</td>\n",
       "      <td>serina</td>\n",
       "      <td>12288.0</td>\n",
       "      <td>6516.10M</td>\n",
       "      <td>1188000</td>\n",
       "      <td>1070801</td>\n",
       "      <td>1</td>\n",
       "      <td>1</td>\n",
       "      <td>production</td>\n",
       "      <td>0:0</td>\n",
       "      <td>2019-03-07T18:39:59</td>\n",
       "    </tr>\n",
       "    <tr>\n",
       "      <th>2</th>\n",
       "      <td>7055502_1863</td>\n",
       "      <td>discovery</td>\n",
       "      <td>serina</td>\n",
       "      <td>12288.0</td>\n",
       "      <td>0.09M</td>\n",
       "      <td>1188000</td>\n",
       "      <td>1153656</td>\n",
       "      <td>1</td>\n",
       "      <td>1</td>\n",
       "      <td>production</td>\n",
       "      <td>0:0</td>\n",
       "      <td>2019-03-11T10:06:06</td>\n",
       "    </tr>\n",
       "    <tr>\n",
       "      <th>3</th>\n",
       "      <td>7055502_1800</td>\n",
       "      <td>discovery</td>\n",
       "      <td>serina</td>\n",
       "      <td>12288.0</td>\n",
       "      <td>8333.82M</td>\n",
       "      <td>1188000</td>\n",
       "      <td>1050659</td>\n",
       "      <td>1</td>\n",
       "      <td>1</td>\n",
       "      <td>production</td>\n",
       "      <td>0:0</td>\n",
       "      <td>2019-03-11T10:06:06</td>\n",
       "    </tr>\n",
       "    <tr>\n",
       "      <th>4</th>\n",
       "      <td>7055502_1806</td>\n",
       "      <td>discovery</td>\n",
       "      <td>serina</td>\n",
       "      <td>12288.0</td>\n",
       "      <td>8304.03M</td>\n",
       "      <td>1188000</td>\n",
       "      <td>981826</td>\n",
       "      <td>1</td>\n",
       "      <td>1</td>\n",
       "      <td>production</td>\n",
       "      <td>0:0</td>\n",
       "      <td>2019-03-11T10:06:06</td>\n",
       "    </tr>\n",
       "  </tbody>\n",
       "</table>\n",
       "</div>"
      ],
      "text/plain": [
       "          JOBID    ACCOUNT    USER   REQMEM     USEDMEM  REQTIME  USEDTIME  \\\n",
       "0       6794220    laxtons  mikala  15488.0  115217.12M  1209600    955970   \n",
       "1  6983193_1880  discovery  serina  12288.0    6516.10M  1188000   1070801   \n",
       "2  7055502_1863  discovery  serina  12288.0       0.09M  1188000   1153656   \n",
       "3  7055502_1800  discovery  serina  12288.0    8333.82M  1188000   1050659   \n",
       "4  7055502_1806  discovery  serina  12288.0    8304.03M  1188000    981826   \n",
       "\n",
       "   NODES  CPUS   PARTITION EXITCODE               SUBMIT  \n",
       "0      1    16  production      0:0  2019-03-09T16:38:44  \n",
       "1      1     1  production      0:0  2019-03-07T18:39:59  \n",
       "2      1     1  production      0:0  2019-03-11T10:06:06  \n",
       "3      1     1  production      0:0  2019-03-11T10:06:06  \n",
       "4      1     1  production      0:0  2019-03-11T10:06:06  "
      ]
     },
     "execution_count": 35,
     "metadata": {},
     "output_type": "execute_result"
    }
   ],
   "source": [
    "initial_data.head()"
   ]
  },
  {
   "cell_type": "code",
   "execution_count": 36,
   "metadata": {},
   "outputs": [],
   "source": [
    "usedmem=initial_data['USEDMEM'].str.replace(r'(M)',r' \\1')\n",
    "initial_data.USEDMEM=usedmem"
   ]
  },
  {
   "cell_type": "code",
   "execution_count": 37,
   "metadata": {},
   "outputs": [
    {
     "data": {
      "text/html": [
       "<div>\n",
       "<style scoped>\n",
       "    .dataframe tbody tr th:only-of-type {\n",
       "        vertical-align: middle;\n",
       "    }\n",
       "\n",
       "    .dataframe tbody tr th {\n",
       "        vertical-align: top;\n",
       "    }\n",
       "\n",
       "    .dataframe thead th {\n",
       "        text-align: right;\n",
       "    }\n",
       "</style>\n",
       "<table border=\"1\" class=\"dataframe\">\n",
       "  <thead>\n",
       "    <tr style=\"text-align: right;\">\n",
       "      <th></th>\n",
       "      <th>JOBID</th>\n",
       "      <th>ACCOUNT</th>\n",
       "      <th>USER</th>\n",
       "      <th>REQMEM</th>\n",
       "      <th>USEDMEM</th>\n",
       "      <th>REQTIME</th>\n",
       "      <th>USEDTIME</th>\n",
       "      <th>NODES</th>\n",
       "      <th>CPUS</th>\n",
       "      <th>PARTITION</th>\n",
       "      <th>EXITCODE</th>\n",
       "      <th>SUBMIT</th>\n",
       "    </tr>\n",
       "  </thead>\n",
       "  <tbody>\n",
       "    <tr>\n",
       "      <th>0</th>\n",
       "      <td>6794220</td>\n",
       "      <td>laxtons</td>\n",
       "      <td>mikala</td>\n",
       "      <td>15488.0</td>\n",
       "      <td>115217.12 M</td>\n",
       "      <td>1209600</td>\n",
       "      <td>955970</td>\n",
       "      <td>1</td>\n",
       "      <td>16</td>\n",
       "      <td>production</td>\n",
       "      <td>0:0</td>\n",
       "      <td>2019-03-09T16:38:44</td>\n",
       "    </tr>\n",
       "    <tr>\n",
       "      <th>1</th>\n",
       "      <td>6983193_1880</td>\n",
       "      <td>discovery</td>\n",
       "      <td>serina</td>\n",
       "      <td>12288.0</td>\n",
       "      <td>6516.10 M</td>\n",
       "      <td>1188000</td>\n",
       "      <td>1070801</td>\n",
       "      <td>1</td>\n",
       "      <td>1</td>\n",
       "      <td>production</td>\n",
       "      <td>0:0</td>\n",
       "      <td>2019-03-07T18:39:59</td>\n",
       "    </tr>\n",
       "    <tr>\n",
       "      <th>2</th>\n",
       "      <td>7055502_1863</td>\n",
       "      <td>discovery</td>\n",
       "      <td>serina</td>\n",
       "      <td>12288.0</td>\n",
       "      <td>0.09 M</td>\n",
       "      <td>1188000</td>\n",
       "      <td>1153656</td>\n",
       "      <td>1</td>\n",
       "      <td>1</td>\n",
       "      <td>production</td>\n",
       "      <td>0:0</td>\n",
       "      <td>2019-03-11T10:06:06</td>\n",
       "    </tr>\n",
       "    <tr>\n",
       "      <th>3</th>\n",
       "      <td>7055502_1800</td>\n",
       "      <td>discovery</td>\n",
       "      <td>serina</td>\n",
       "      <td>12288.0</td>\n",
       "      <td>8333.82 M</td>\n",
       "      <td>1188000</td>\n",
       "      <td>1050659</td>\n",
       "      <td>1</td>\n",
       "      <td>1</td>\n",
       "      <td>production</td>\n",
       "      <td>0:0</td>\n",
       "      <td>2019-03-11T10:06:06</td>\n",
       "    </tr>\n",
       "    <tr>\n",
       "      <th>4</th>\n",
       "      <td>7055502_1806</td>\n",
       "      <td>discovery</td>\n",
       "      <td>serina</td>\n",
       "      <td>12288.0</td>\n",
       "      <td>8304.03 M</td>\n",
       "      <td>1188000</td>\n",
       "      <td>981826</td>\n",
       "      <td>1</td>\n",
       "      <td>1</td>\n",
       "      <td>production</td>\n",
       "      <td>0:0</td>\n",
       "      <td>2019-03-11T10:06:06</td>\n",
       "    </tr>\n",
       "  </tbody>\n",
       "</table>\n",
       "</div>"
      ],
      "text/plain": [
       "          JOBID    ACCOUNT    USER   REQMEM      USEDMEM  REQTIME  USEDTIME  \\\n",
       "0       6794220    laxtons  mikala  15488.0  115217.12 M  1209600    955970   \n",
       "1  6983193_1880  discovery  serina  12288.0    6516.10 M  1188000   1070801   \n",
       "2  7055502_1863  discovery  serina  12288.0       0.09 M  1188000   1153656   \n",
       "3  7055502_1800  discovery  serina  12288.0    8333.82 M  1188000   1050659   \n",
       "4  7055502_1806  discovery  serina  12288.0    8304.03 M  1188000    981826   \n",
       "\n",
       "   NODES  CPUS   PARTITION EXITCODE               SUBMIT  \n",
       "0      1    16  production      0:0  2019-03-09T16:38:44  \n",
       "1      1     1  production      0:0  2019-03-07T18:39:59  \n",
       "2      1     1  production      0:0  2019-03-11T10:06:06  \n",
       "3      1     1  production      0:0  2019-03-11T10:06:06  \n",
       "4      1     1  production      0:0  2019-03-11T10:06:06  "
      ]
     },
     "execution_count": 37,
     "metadata": {},
     "output_type": "execute_result"
    }
   ],
   "source": [
    "initial_data.head()"
   ]
  },
  {
   "cell_type": "code",
   "execution_count": 66,
   "metadata": {},
   "outputs": [],
   "source": [
    "#convert Mn to Mc using a function \n",
    "def m_to_mc(a,b,c):\n",
    "    #cut_mn=x.replace(r'(Mn|Mc)',r' \\1')\n",
    "    if a !=0:\n",
    "        m_mc=a.split(' ')\n",
    "        number1=float(m_mc[0])\n",
    "        unit1=m_mc[1]\n",
    "        if unit1=='M':\n",
    "            m_mc=(number1*b)/(c)\n",
    "        else:\n",
    "            m_mc=number1\n",
    "    else:\n",
    "        m_mc=number1\n",
    "    return m_mc\n",
    "    \n",
    "    #number1=float(m_mc[0])\n",
    "    #print(number1)\n",
    "    #unit1=m_mc[1]\n",
    "    #print(len(unit1))\n",
    "    #if unit1=='M':\n",
    "     #   m_mc=(number1*b)/(c)\n",
    "    #else:\n",
    "     #   m_mc=number1\n",
    "        \n",
    "    #return m_mc"
   ]
  },
  {
   "cell_type": "code",
   "execution_count": null,
   "metadata": {},
   "outputs": [],
   "source": []
  },
  {
   "cell_type": "code",
   "execution_count": 67,
   "metadata": {},
   "outputs": [
    {
     "ename": "IndexError",
     "evalue": "('list index out of range', 'occurred at index 3645')",
     "output_type": "error",
     "traceback": [
      "\u001b[0;31m---------------------------------------------------------------------------\u001b[0m",
      "\u001b[0;31mIndexError\u001b[0m                                Traceback (most recent call last)",
      "\u001b[0;32m<timed exec>\u001b[0m in \u001b[0;36m<module>\u001b[0;34m\u001b[0m\n",
      "\u001b[0;32m//anaconda3/lib/python3.7/site-packages/pandas/core/frame.py\u001b[0m in \u001b[0;36mapply\u001b[0;34m(self, func, axis, broadcast, raw, reduce, result_type, args, **kwds)\u001b[0m\n\u001b[1;32m   6485\u001b[0m                          \u001b[0margs\u001b[0m\u001b[0;34m=\u001b[0m\u001b[0margs\u001b[0m\u001b[0;34m,\u001b[0m\u001b[0;34m\u001b[0m\u001b[0;34m\u001b[0m\u001b[0m\n\u001b[1;32m   6486\u001b[0m                          kwds=kwds)\n\u001b[0;32m-> 6487\u001b[0;31m         \u001b[0;32mreturn\u001b[0m \u001b[0mop\u001b[0m\u001b[0;34m.\u001b[0m\u001b[0mget_result\u001b[0m\u001b[0;34m(\u001b[0m\u001b[0;34m)\u001b[0m\u001b[0;34m\u001b[0m\u001b[0;34m\u001b[0m\u001b[0m\n\u001b[0m\u001b[1;32m   6488\u001b[0m \u001b[0;34m\u001b[0m\u001b[0m\n\u001b[1;32m   6489\u001b[0m     \u001b[0;32mdef\u001b[0m \u001b[0mapplymap\u001b[0m\u001b[0;34m(\u001b[0m\u001b[0mself\u001b[0m\u001b[0;34m,\u001b[0m \u001b[0mfunc\u001b[0m\u001b[0;34m)\u001b[0m\u001b[0;34m:\u001b[0m\u001b[0;34m\u001b[0m\u001b[0;34m\u001b[0m\u001b[0m\n",
      "\u001b[0;32m//anaconda3/lib/python3.7/site-packages/pandas/core/apply.py\u001b[0m in \u001b[0;36mget_result\u001b[0;34m(self)\u001b[0m\n\u001b[1;32m    149\u001b[0m             \u001b[0;32mreturn\u001b[0m \u001b[0mself\u001b[0m\u001b[0;34m.\u001b[0m\u001b[0mapply_raw\u001b[0m\u001b[0;34m(\u001b[0m\u001b[0;34m)\u001b[0m\u001b[0;34m\u001b[0m\u001b[0;34m\u001b[0m\u001b[0m\n\u001b[1;32m    150\u001b[0m \u001b[0;34m\u001b[0m\u001b[0m\n\u001b[0;32m--> 151\u001b[0;31m         \u001b[0;32mreturn\u001b[0m \u001b[0mself\u001b[0m\u001b[0;34m.\u001b[0m\u001b[0mapply_standard\u001b[0m\u001b[0;34m(\u001b[0m\u001b[0;34m)\u001b[0m\u001b[0;34m\u001b[0m\u001b[0;34m\u001b[0m\u001b[0m\n\u001b[0m\u001b[1;32m    152\u001b[0m \u001b[0;34m\u001b[0m\u001b[0m\n\u001b[1;32m    153\u001b[0m     \u001b[0;32mdef\u001b[0m \u001b[0mapply_empty_result\u001b[0m\u001b[0;34m(\u001b[0m\u001b[0mself\u001b[0m\u001b[0;34m)\u001b[0m\u001b[0;34m:\u001b[0m\u001b[0;34m\u001b[0m\u001b[0;34m\u001b[0m\u001b[0m\n",
      "\u001b[0;32m//anaconda3/lib/python3.7/site-packages/pandas/core/apply.py\u001b[0m in \u001b[0;36mapply_standard\u001b[0;34m(self)\u001b[0m\n\u001b[1;32m    255\u001b[0m \u001b[0;34m\u001b[0m\u001b[0m\n\u001b[1;32m    256\u001b[0m         \u001b[0;31m# compute the result using the series generator\u001b[0m\u001b[0;34m\u001b[0m\u001b[0;34m\u001b[0m\u001b[0;34m\u001b[0m\u001b[0m\n\u001b[0;32m--> 257\u001b[0;31m         \u001b[0mself\u001b[0m\u001b[0;34m.\u001b[0m\u001b[0mapply_series_generator\u001b[0m\u001b[0;34m(\u001b[0m\u001b[0;34m)\u001b[0m\u001b[0;34m\u001b[0m\u001b[0;34m\u001b[0m\u001b[0m\n\u001b[0m\u001b[1;32m    258\u001b[0m \u001b[0;34m\u001b[0m\u001b[0m\n\u001b[1;32m    259\u001b[0m         \u001b[0;31m# wrap results\u001b[0m\u001b[0;34m\u001b[0m\u001b[0;34m\u001b[0m\u001b[0;34m\u001b[0m\u001b[0m\n",
      "\u001b[0;32m//anaconda3/lib/python3.7/site-packages/pandas/core/apply.py\u001b[0m in \u001b[0;36mapply_series_generator\u001b[0;34m(self)\u001b[0m\n\u001b[1;32m    284\u001b[0m             \u001b[0;32mtry\u001b[0m\u001b[0;34m:\u001b[0m\u001b[0;34m\u001b[0m\u001b[0;34m\u001b[0m\u001b[0m\n\u001b[1;32m    285\u001b[0m                 \u001b[0;32mfor\u001b[0m \u001b[0mi\u001b[0m\u001b[0;34m,\u001b[0m \u001b[0mv\u001b[0m \u001b[0;32min\u001b[0m \u001b[0menumerate\u001b[0m\u001b[0;34m(\u001b[0m\u001b[0mseries_gen\u001b[0m\u001b[0;34m)\u001b[0m\u001b[0;34m:\u001b[0m\u001b[0;34m\u001b[0m\u001b[0;34m\u001b[0m\u001b[0m\n\u001b[0;32m--> 286\u001b[0;31m                     \u001b[0mresults\u001b[0m\u001b[0;34m[\u001b[0m\u001b[0mi\u001b[0m\u001b[0;34m]\u001b[0m \u001b[0;34m=\u001b[0m \u001b[0mself\u001b[0m\u001b[0;34m.\u001b[0m\u001b[0mf\u001b[0m\u001b[0;34m(\u001b[0m\u001b[0mv\u001b[0m\u001b[0;34m)\u001b[0m\u001b[0;34m\u001b[0m\u001b[0;34m\u001b[0m\u001b[0m\n\u001b[0m\u001b[1;32m    287\u001b[0m                     \u001b[0mkeys\u001b[0m\u001b[0;34m.\u001b[0m\u001b[0mappend\u001b[0m\u001b[0;34m(\u001b[0m\u001b[0mv\u001b[0m\u001b[0;34m.\u001b[0m\u001b[0mname\u001b[0m\u001b[0;34m)\u001b[0m\u001b[0;34m\u001b[0m\u001b[0;34m\u001b[0m\u001b[0m\n\u001b[1;32m    288\u001b[0m             \u001b[0;32mexcept\u001b[0m \u001b[0mException\u001b[0m \u001b[0;32mas\u001b[0m \u001b[0me\u001b[0m\u001b[0;34m:\u001b[0m\u001b[0;34m\u001b[0m\u001b[0;34m\u001b[0m\u001b[0m\n",
      "\u001b[0;32m<timed exec>\u001b[0m in \u001b[0;36m<lambda>\u001b[0;34m(row)\u001b[0m\n",
      "\u001b[0;32m<ipython-input-66-932e8435748a>\u001b[0m in \u001b[0;36mm_to_mc\u001b[0;34m(a, b, c)\u001b[0m\n\u001b[1;32m      5\u001b[0m         \u001b[0mm_mc\u001b[0m\u001b[0;34m=\u001b[0m\u001b[0ma\u001b[0m\u001b[0;34m.\u001b[0m\u001b[0msplit\u001b[0m\u001b[0;34m(\u001b[0m\u001b[0;34m' '\u001b[0m\u001b[0;34m)\u001b[0m\u001b[0;34m\u001b[0m\u001b[0;34m\u001b[0m\u001b[0m\n\u001b[1;32m      6\u001b[0m         \u001b[0mnumber1\u001b[0m\u001b[0;34m=\u001b[0m\u001b[0mfloat\u001b[0m\u001b[0;34m(\u001b[0m\u001b[0mm_mc\u001b[0m\u001b[0;34m[\u001b[0m\u001b[0;36m0\u001b[0m\u001b[0;34m]\u001b[0m\u001b[0;34m)\u001b[0m\u001b[0;34m\u001b[0m\u001b[0;34m\u001b[0m\u001b[0m\n\u001b[0;32m----> 7\u001b[0;31m         \u001b[0munit1\u001b[0m\u001b[0;34m=\u001b[0m\u001b[0mm_mc\u001b[0m\u001b[0;34m[\u001b[0m\u001b[0;36m1\u001b[0m\u001b[0;34m]\u001b[0m\u001b[0;34m\u001b[0m\u001b[0;34m\u001b[0m\u001b[0m\n\u001b[0m\u001b[1;32m      8\u001b[0m         \u001b[0;32mif\u001b[0m \u001b[0munit1\u001b[0m\u001b[0;34m==\u001b[0m\u001b[0;34m'M'\u001b[0m\u001b[0;34m:\u001b[0m\u001b[0;34m\u001b[0m\u001b[0;34m\u001b[0m\u001b[0m\n\u001b[1;32m      9\u001b[0m             \u001b[0mm_mc\u001b[0m\u001b[0;34m=\u001b[0m\u001b[0;34m(\u001b[0m\u001b[0mnumber1\u001b[0m\u001b[0;34m*\u001b[0m\u001b[0mb\u001b[0m\u001b[0;34m)\u001b[0m\u001b[0;34m/\u001b[0m\u001b[0;34m(\u001b[0m\u001b[0mc\u001b[0m\u001b[0;34m)\u001b[0m\u001b[0;34m\u001b[0m\u001b[0;34m\u001b[0m\u001b[0m\n",
      "\u001b[0;31mIndexError\u001b[0m: ('list index out of range', 'occurred at index 3645')"
     ]
    }
   ],
   "source": [
    "%%time\n",
    "initial_data['USEDMEM']=initial_data.apply(lambda row: m_to_mc(row['USEDMEM'],row['NODES'],row['CPUS']),axis=1)"
   ]
  },
  {
   "cell_type": "code",
   "execution_count": 40,
   "metadata": {},
   "outputs": [
    {
     "data": {
      "text/html": [
       "<div>\n",
       "<style scoped>\n",
       "    .dataframe tbody tr th:only-of-type {\n",
       "        vertical-align: middle;\n",
       "    }\n",
       "\n",
       "    .dataframe tbody tr th {\n",
       "        vertical-align: top;\n",
       "    }\n",
       "\n",
       "    .dataframe thead th {\n",
       "        text-align: right;\n",
       "    }\n",
       "</style>\n",
       "<table border=\"1\" class=\"dataframe\">\n",
       "  <thead>\n",
       "    <tr style=\"text-align: right;\">\n",
       "      <th></th>\n",
       "      <th>JOBID</th>\n",
       "      <th>ACCOUNT</th>\n",
       "      <th>USER</th>\n",
       "      <th>REQMEM</th>\n",
       "      <th>USEDMEM</th>\n",
       "      <th>REQTIME</th>\n",
       "      <th>USEDTIME</th>\n",
       "      <th>NODES</th>\n",
       "      <th>CPUS</th>\n",
       "      <th>PARTITION</th>\n",
       "      <th>EXITCODE</th>\n",
       "      <th>SUBMIT</th>\n",
       "    </tr>\n",
       "  </thead>\n",
       "  <tbody>\n",
       "    <tr>\n",
       "      <th>1556155</th>\n",
       "      <td>9524253</td>\n",
       "      <td>kumquat</td>\n",
       "      <td>kate</td>\n",
       "      <td>16384.0</td>\n",
       "      <td>16383.34 M</td>\n",
       "      <td>86400</td>\n",
       "      <td>35114</td>\n",
       "      <td>24</td>\n",
       "      <td>0</td>\n",
       "      <td>production</td>\n",
       "      <td>0:0</td>\n",
       "      <td>2019-07-01T14:22:00</td>\n",
       "    </tr>\n",
       "  </tbody>\n",
       "</table>\n",
       "</div>"
      ],
      "text/plain": [
       "           JOBID  ACCOUNT  USER   REQMEM     USEDMEM  REQTIME  USEDTIME  \\\n",
       "1556155  9524253  kumquat  kate  16384.0  16383.34 M    86400     35114   \n",
       "\n",
       "         NODES  CPUS   PARTITION EXITCODE               SUBMIT  \n",
       "1556155     24     0  production      0:0  2019-07-01T14:22:00  "
      ]
     },
     "execution_count": 40,
     "metadata": {},
     "output_type": "execute_result"
    }
   ],
   "source": [
    "initial_data.loc[initial_data['CPUS']==0]\n"
   ]
  },
  {
   "cell_type": "code",
   "execution_count": 41,
   "metadata": {},
   "outputs": [],
   "source": [
    "#mc_conversion=[]\n",
    "#for mc in reqmem:\n",
    " #   num_unit=mc.split(' ')\n",
    "  #  number=int(num_unit[0])\n",
    "   # unit=num_unit[1]\n",
    "    #if unit=='Mn':\n",
    "     #   for nod in nodes:\n",
    "      #      nod_nu=(number*nod)\n",
    "       #     for cp in cpus:\n",
    "        #        \n",
    "         #       if cp!=0:\n",
    "          #          \n",
    "           #         mc_mn=(nod_nu/cp)\n",
    "            #        mc_conversion.append(mc_mn)\n",
    "             #   else:\n",
    "              #      mc_mn=nod_nu\n",
    "               #     mc_conversion.append(mc_mn)\n",
    "   # else:\n",
    "    #    mc_mn=number\n",
    "     #   mc_conversion.append(mc_mn)"
   ]
  },
  {
   "cell_type": "code",
   "execution_count": null,
   "metadata": {},
   "outputs": [],
   "source": []
  },
  {
   "cell_type": "code",
   "execution_count": null,
   "metadata": {},
   "outputs": [],
   "source": []
  },
  {
   "cell_type": "code",
   "execution_count": null,
   "metadata": {},
   "outputs": [],
   "source": []
  },
  {
   "cell_type": "code",
   "execution_count": null,
   "metadata": {},
   "outputs": [],
   "source": []
  },
  {
   "cell_type": "code",
   "execution_count": null,
   "metadata": {},
   "outputs": [],
   "source": []
  },
  {
   "cell_type": "code",
   "execution_count": 42,
   "metadata": {},
   "outputs": [],
   "source": [
    "#convert Mn to Mc using a function \n",
    "#def convert_to_mc(mn):\n",
    "  #  cut_mn=mn.replace(r'(Mn|Mc)',r'\\1')\n",
    "  #  num_unit=cut_mn.split(' ')\n",
    "  #  number=num_unit[0]\n",
    "  #  unit=num_unit[1]\n",
    "   # if unit=='Mn':\n",
    "   #     mc_conversion=(int(number)*initial_data.NODES)/(initial_data.CPUS)\n",
    "  #  else:\n",
    "     #   mc_conversion=number\n",
    "        \n",
    "   # return mc_conversion\n",
    "        "
   ]
  },
  {
   "cell_type": "code",
   "execution_count": 43,
   "metadata": {},
   "outputs": [],
   "source": [
    "#initial_data.REQMEM=initial_data.REQMEM.apply(convert_to_mc)"
   ]
  },
  {
   "cell_type": "code",
   "execution_count": 44,
   "metadata": {},
   "outputs": [],
   "source": [
    "#initial_data.head()"
   ]
  },
  {
   "cell_type": "code",
   "execution_count": 45,
   "metadata": {},
   "outputs": [],
   "source": [
    "#head=initial_data.head()"
   ]
  },
  {
   "cell_type": "code",
   "execution_count": 46,
   "metadata": {},
   "outputs": [],
   "source": [
    "#head.info()"
   ]
  },
  {
   "cell_type": "code",
   "execution_count": 47,
   "metadata": {},
   "outputs": [],
   "source": [
    "#pandas.Series.dt.total_seconds\n",
    "#print (df['col'].dt.total_seconds())"
   ]
  },
  {
   "cell_type": "code",
   "execution_count": 48,
   "metadata": {},
   "outputs": [],
   "source": [
    "#string4=\"Test String\"\n",
    "#string_revised=\" \".join(string4)\n",
    "#print string_revised\n",
    "\n",
    "#req=\" \".join(head.REQMEM)"
   ]
  },
  {
   "cell_type": "code",
   "execution_count": 49,
   "metadata": {},
   "outputs": [],
   "source": [
    "#req"
   ]
  },
  {
   "cell_type": "code",
   "execution_count": null,
   "metadata": {},
   "outputs": [],
   "source": []
  },
  {
   "cell_type": "code",
   "execution_count": 50,
   "metadata": {},
   "outputs": [],
   "source": [
    "#d#ef get_sec():\n",
    "   # \"\"\"Get seconds from time\"\"\"\n",
    "   #h,m,s=initial_data.REQTIME(':')\n",
    "  # return int(D)*86400 + int(h)*3600 + int(m)*60 +int(s)"
   ]
  },
  {
   "cell_type": "code",
   "execution_count": 51,
   "metadata": {},
   "outputs": [],
   "source": [
    "#import time\n",
    "#import datetime as dt"
   ]
  },
  {
   "cell_type": "code",
   "execution_count": null,
   "metadata": {},
   "outputs": [],
   "source": []
  },
  {
   "cell_type": "code",
   "execution_count": 52,
   "metadata": {},
   "outputs": [],
   "source": [
    "\n",
    "#td=pd.Timedelta(initial_data['USEDTIME']) \n",
    "#td.seconds\n",
    "  \n"
   ]
  },
  {
   "cell_type": "code",
   "execution_count": 53,
   "metadata": {},
   "outputs": [],
   "source": [
    "\n",
    "#df['time_diff'] = df.time_diff.dt.total_seconds()\n",
    "#df['Origin Time(Local)'] = pd.to_timedelta(df['Origin Time(Local)'])\n",
    "#df['Seconds'] = df['Origin Time(Local)'].dt.total_seconds()\n",
    "\n",
    "#initial_data['USEDTIME']=pd.to_timedelta(initial_data['USEDTIME'])\n",
    "#initial_data['USEDTIME']=initial_data['USEDTIME'].dt.total_seconds()"
   ]
  },
  {
   "cell_type": "code",
   "execution_count": 54,
   "metadata": {},
   "outputs": [],
   "source": [
    "#initial_data"
   ]
  },
  {
   "cell_type": "code",
   "execution_count": null,
   "metadata": {},
   "outputs": [],
   "source": []
  },
  {
   "cell_type": "code",
   "execution_count": 55,
   "metadata": {},
   "outputs": [],
   "source": [
    "#if test expression:\n",
    " #   Body of if\n",
    "#elif test expression:\n",
    " #   Body of elif\n",
    "#else: \n",
    " #   Body of else"
   ]
  },
  {
   "cell_type": "code",
   "execution_count": 56,
   "metadata": {},
   "outputs": [],
   "source": [
    "#splits numbers and letters with space\n",
    "#head.REQMEM=head['REQMEM'].str.replace(r'(Mn|Mc)',r' \\1')"
   ]
  },
  {
   "cell_type": "code",
   "execution_count": 57,
   "metadata": {},
   "outputs": [],
   "source": [
    "#head"
   ]
  },
  {
   "cell_type": "code",
   "execution_count": 58,
   "metadata": {},
   "outputs": [],
   "source": [
    "#req=head.REQMEM.loc[1].split(' ')"
   ]
  },
  {
   "cell_type": "code",
   "execution_count": 59,
   "metadata": {},
   "outputs": [],
   "source": [
    "#type(req[0])"
   ]
  },
  {
   "cell_type": "code",
   "execution_count": 60,
   "metadata": {},
   "outputs": [],
   "source": [
    "#(int(req[0])*head.NODES.loc[0])/(head.CPUS.loc[0])"
   ]
  },
  {
   "cell_type": "code",
   "execution_count": 61,
   "metadata": {},
   "outputs": [],
   "source": [
    "#req[1]"
   ]
  },
  {
   "cell_type": "code",
   "execution_count": null,
   "metadata": {},
   "outputs": [],
   "source": []
  }
 ],
 "metadata": {
  "kernelspec": {
   "display_name": "Python 3",
   "language": "python",
   "name": "python3"
  },
  "language_info": {
   "codemirror_mode": {
    "name": "ipython",
    "version": 3
   },
   "file_extension": ".py",
   "mimetype": "text/x-python",
   "name": "python",
   "nbconvert_exporter": "python",
   "pygments_lexer": "ipython3",
   "version": "3.7.3"
  }
 },
 "nbformat": 4,
 "nbformat_minor": 2
}
