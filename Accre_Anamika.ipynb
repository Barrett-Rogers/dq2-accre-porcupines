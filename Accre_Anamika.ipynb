{
 "cells": [
  {
   "cell_type": "code",
   "execution_count": 1,
   "metadata": {},
   "outputs": [],
   "source": [
    "import pandas as pd\n",
    "import numpy as np\n",
    "import matplotlib.pyplot as plt\n",
    "import seaborn as sns\n",
    "import scipy.stats as stats\n",
    "import statsmodels.api as sm\n",
    "%matplotlib inline"
   ]
  },
  {
   "cell_type": "code",
   "execution_count": 2,
   "metadata": {},
   "outputs": [],
   "source": [
    "accre_df =pd.read_csv('data/fullsample.csv')\n"
   ]
  },
  {
   "cell_type": "code",
   "execution_count": 3,
   "metadata": {},
   "outputs": [
    {
     "name": "stdout",
     "output_type": "stream",
     "text": [
      "<class 'pandas.core.frame.DataFrame'>\n",
      "RangeIndex: 4178919 entries, 0 to 4178918\n",
      "Data columns (total 11 columns):\n",
      "JOBID        object\n",
      "ACCOUNT      object\n",
      "USER         object\n",
      "REQMEM       object\n",
      "USEDMEM      object\n",
      "REQTIME      object\n",
      "USEDTIME     object\n",
      "NODES        int64\n",
      "CPUS         int64\n",
      "PARTITION    object\n",
      "EXITCODE     object\n",
      "dtypes: int64(2), object(9)\n",
      "memory usage: 350.7+ MB\n"
     ]
    }
   ],
   "source": [
    "accre_df.info()\n"
   ]
  },
  {
   "cell_type": "code",
   "execution_count": 4,
   "metadata": {},
   "outputs": [],
   "source": [
    "accre_df=accre_df.drop_duplicates()"
   ]
  },
  {
   "cell_type": "code",
   "execution_count": 5,
   "metadata": {},
   "outputs": [
    {
     "data": {
      "text/plain": [
       "(3265799, 11)"
      ]
     },
     "execution_count": 5,
     "metadata": {},
     "output_type": "execute_result"
    }
   ],
   "source": [
    "accre_df.shape\n"
   ]
  },
  {
   "cell_type": "code",
   "execution_count": 6,
   "metadata": {},
   "outputs": [
    {
     "name": "stdout",
     "output_type": "stream",
     "text": [
      "<class 'pandas.core.frame.DataFrame'>\n",
      "Int64Index: 3265799 entries, 0 to 4178918\n",
      "Data columns (total 11 columns):\n",
      "JOBID        object\n",
      "ACCOUNT      object\n",
      "USER         object\n",
      "REQMEM       object\n",
      "USEDMEM      object\n",
      "REQTIME      object\n",
      "USEDTIME     object\n",
      "NODES        int64\n",
      "CPUS         int64\n",
      "PARTITION    object\n",
      "EXITCODE     object\n",
      "dtypes: int64(2), object(9)\n",
      "memory usage: 299.0+ MB\n"
     ]
    }
   ],
   "source": [
    "accre_df.info()"
   ]
  },
  {
   "cell_type": "code",
   "execution_count": 7,
   "metadata": {},
   "outputs": [
    {
     "data": {
      "text/html": [
       "<div>\n",
       "<style scoped>\n",
       "    .dataframe tbody tr th:only-of-type {\n",
       "        vertical-align: middle;\n",
       "    }\n",
       "\n",
       "    .dataframe tbody tr th {\n",
       "        vertical-align: top;\n",
       "    }\n",
       "\n",
       "    .dataframe thead th {\n",
       "        text-align: right;\n",
       "    }\n",
       "</style>\n",
       "<table border=\"1\" class=\"dataframe\">\n",
       "  <thead>\n",
       "    <tr style=\"text-align: right;\">\n",
       "      <th></th>\n",
       "      <th>JOBID</th>\n",
       "      <th>ACCOUNT</th>\n",
       "      <th>USER</th>\n",
       "      <th>REQMEM</th>\n",
       "      <th>USEDMEM</th>\n",
       "      <th>REQTIME</th>\n",
       "      <th>USEDTIME</th>\n",
       "      <th>NODES</th>\n",
       "      <th>CPUS</th>\n",
       "      <th>PARTITION</th>\n",
       "      <th>EXITCODE</th>\n",
       "    </tr>\n",
       "  </thead>\n",
       "  <tbody>\n",
       "    <tr>\n",
       "      <th>0</th>\n",
       "      <td>6794220</td>\n",
       "      <td>laxtons</td>\n",
       "      <td>mikala</td>\n",
       "      <td>247808Mn</td>\n",
       "      <td>115217.12M</td>\n",
       "      <td>14-00:00:00</td>\n",
       "      <td>11-01:32:50</td>\n",
       "      <td>1</td>\n",
       "      <td>16</td>\n",
       "      <td>production</td>\n",
       "      <td>0:0</td>\n",
       "    </tr>\n",
       "    <tr>\n",
       "      <th>1</th>\n",
       "      <td>6983193_1880</td>\n",
       "      <td>discovery</td>\n",
       "      <td>serina</td>\n",
       "      <td>12288Mn</td>\n",
       "      <td>6516.10M</td>\n",
       "      <td>13-18:00:00</td>\n",
       "      <td>12-09:26:41</td>\n",
       "      <td>1</td>\n",
       "      <td>1</td>\n",
       "      <td>production</td>\n",
       "      <td>0:0</td>\n",
       "    </tr>\n",
       "    <tr>\n",
       "      <th>2</th>\n",
       "      <td>7055502_1863</td>\n",
       "      <td>discovery</td>\n",
       "      <td>serina</td>\n",
       "      <td>12288Mn</td>\n",
       "      <td>0.09M</td>\n",
       "      <td>13-18:00:00</td>\n",
       "      <td>13-08:27:36</td>\n",
       "      <td>1</td>\n",
       "      <td>1</td>\n",
       "      <td>production</td>\n",
       "      <td>0:0</td>\n",
       "    </tr>\n",
       "    <tr>\n",
       "      <th>3</th>\n",
       "      <td>7055502_1800</td>\n",
       "      <td>discovery</td>\n",
       "      <td>serina</td>\n",
       "      <td>12288Mn</td>\n",
       "      <td>8333.82M</td>\n",
       "      <td>13-18:00:00</td>\n",
       "      <td>12-03:50:59</td>\n",
       "      <td>1</td>\n",
       "      <td>1</td>\n",
       "      <td>production</td>\n",
       "      <td>0:0</td>\n",
       "    </tr>\n",
       "    <tr>\n",
       "      <th>4</th>\n",
       "      <td>7055502_1806</td>\n",
       "      <td>discovery</td>\n",
       "      <td>serina</td>\n",
       "      <td>12288Mn</td>\n",
       "      <td>8304.03M</td>\n",
       "      <td>13-18:00:00</td>\n",
       "      <td>11-08:43:46</td>\n",
       "      <td>1</td>\n",
       "      <td>1</td>\n",
       "      <td>production</td>\n",
       "      <td>0:0</td>\n",
       "    </tr>\n",
       "  </tbody>\n",
       "</table>\n",
       "</div>"
      ],
      "text/plain": [
       "          JOBID    ACCOUNT    USER    REQMEM     USEDMEM      REQTIME  \\\n",
       "0       6794220    laxtons  mikala  247808Mn  115217.12M  14-00:00:00   \n",
       "1  6983193_1880  discovery  serina   12288Mn    6516.10M  13-18:00:00   \n",
       "2  7055502_1863  discovery  serina   12288Mn       0.09M  13-18:00:00   \n",
       "3  7055502_1800  discovery  serina   12288Mn    8333.82M  13-18:00:00   \n",
       "4  7055502_1806  discovery  serina   12288Mn    8304.03M  13-18:00:00   \n",
       "\n",
       "      USEDTIME  NODES  CPUS   PARTITION EXITCODE  \n",
       "0  11-01:32:50      1    16  production      0:0  \n",
       "1  12-09:26:41      1     1  production      0:0  \n",
       "2  13-08:27:36      1     1  production      0:0  \n",
       "3  12-03:50:59      1     1  production      0:0  \n",
       "4  11-08:43:46      1     1  production      0:0  "
      ]
     },
     "execution_count": 7,
     "metadata": {},
     "output_type": "execute_result"
    }
   ],
   "source": [
    "accre_df.head()"
   ]
  },
  {
   "cell_type": "code",
   "execution_count": 8,
   "metadata": {},
   "outputs": [],
   "source": [
    "accre_df=accre_df.loc[accre_df['PARTITION']=='production']"
   ]
  },
  {
   "cell_type": "code",
   "execution_count": 9,
   "metadata": {},
   "outputs": [
    {
     "data": {
      "text/plain": [
       "(3138764, 11)"
      ]
     },
     "execution_count": 9,
     "metadata": {},
     "output_type": "execute_result"
    }
   ],
   "source": [
    "accre_df.shape\n"
   ]
  },
  {
   "cell_type": "code",
   "execution_count": 10,
   "metadata": {},
   "outputs": [],
   "source": [
    "def get_sec(time_str):\n",
    "    \"\"\"Get Seconds from time.\"\"\"\n",
    "    h, m, s = time_str.split(':')\n",
    "    return int(h) * 3600 + int(m) * 60 + int(s)\n"
   ]
  },
  {
   "cell_type": "code",
   "execution_count": null,
   "metadata": {},
   "outputs": [],
   "source": []
  }
 ],
 "metadata": {
  "kernelspec": {
   "display_name": "Python 3",
   "language": "python",
   "name": "python3"
  },
  "language_info": {
   "codemirror_mode": {
    "name": "ipython",
    "version": 3
   },
   "file_extension": ".py",
   "mimetype": "text/x-python",
   "name": "python",
   "nbconvert_exporter": "python",
   "pygments_lexer": "ipython3",
   "version": "3.7.3"
  }
 },
 "nbformat": 4,
 "nbformat_minor": 2
}
