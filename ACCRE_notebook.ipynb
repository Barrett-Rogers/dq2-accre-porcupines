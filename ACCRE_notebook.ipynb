{
 "cells": [
  {
   "cell_type": "code",
   "execution_count": 1,
   "metadata": {},
   "outputs": [],
   "source": [
    "import pandas as pd\n",
    "import numpy as np\n",
    "import matplotlib.pyplot as plt \n",
    "import seaborn as sns\n",
    "import scipy.stats as stats\n",
    "from scipy.stats import skew\n",
    "import statsmodels.api as sm\n",
    "\n",
    "%matplotlib inline"
   ]
  },
  {
   "cell_type": "code",
   "execution_count": 2,
   "metadata": {},
   "outputs": [],
   "source": [
    "ACCRE_df = pd.read_csv('data/fullsample.csv')"
   ]
  },
  {
   "cell_type": "code",
   "execution_count": 3,
   "metadata": {},
   "outputs": [
    {
     "data": {
      "text/html": [
       "<div>\n",
       "<style scoped>\n",
       "    .dataframe tbody tr th:only-of-type {\n",
       "        vertical-align: middle;\n",
       "    }\n",
       "\n",
       "    .dataframe tbody tr th {\n",
       "        vertical-align: top;\n",
       "    }\n",
       "\n",
       "    .dataframe thead th {\n",
       "        text-align: right;\n",
       "    }\n",
       "</style>\n",
       "<table border=\"1\" class=\"dataframe\">\n",
       "  <thead>\n",
       "    <tr style=\"text-align: right;\">\n",
       "      <th></th>\n",
       "      <th>JOBID</th>\n",
       "      <th>ACCOUNT</th>\n",
       "      <th>USER</th>\n",
       "      <th>REQMEM</th>\n",
       "      <th>USEDMEM</th>\n",
       "      <th>REQTIME</th>\n",
       "      <th>USEDTIME</th>\n",
       "      <th>NODES</th>\n",
       "      <th>CPUS</th>\n",
       "      <th>PARTITION</th>\n",
       "      <th>EXITCODE</th>\n",
       "      <th>SUBMIT</th>\n",
       "    </tr>\n",
       "  </thead>\n",
       "  <tbody>\n",
       "    <tr>\n",
       "      <td>0</td>\n",
       "      <td>6794220</td>\n",
       "      <td>laxtons</td>\n",
       "      <td>mikala</td>\n",
       "      <td>247808Mn</td>\n",
       "      <td>115217.12M</td>\n",
       "      <td>14-00:00:00</td>\n",
       "      <td>11-01:32:50</td>\n",
       "      <td>1</td>\n",
       "      <td>16</td>\n",
       "      <td>production</td>\n",
       "      <td>0:0</td>\n",
       "      <td>2019-03-09T16:38:44</td>\n",
       "    </tr>\n",
       "    <tr>\n",
       "      <td>1</td>\n",
       "      <td>6983193_1880</td>\n",
       "      <td>discovery</td>\n",
       "      <td>serina</td>\n",
       "      <td>12288Mn</td>\n",
       "      <td>6516.10M</td>\n",
       "      <td>13-18:00:00</td>\n",
       "      <td>12-09:26:41</td>\n",
       "      <td>1</td>\n",
       "      <td>1</td>\n",
       "      <td>production</td>\n",
       "      <td>0:0</td>\n",
       "      <td>2019-03-07T18:39:59</td>\n",
       "    </tr>\n",
       "    <tr>\n",
       "      <td>2</td>\n",
       "      <td>7055502_1863</td>\n",
       "      <td>discovery</td>\n",
       "      <td>serina</td>\n",
       "      <td>12288Mn</td>\n",
       "      <td>0.09M</td>\n",
       "      <td>13-18:00:00</td>\n",
       "      <td>13-08:27:36</td>\n",
       "      <td>1</td>\n",
       "      <td>1</td>\n",
       "      <td>production</td>\n",
       "      <td>0:0</td>\n",
       "      <td>2019-03-11T10:06:06</td>\n",
       "    </tr>\n",
       "    <tr>\n",
       "      <td>3</td>\n",
       "      <td>7055502_1800</td>\n",
       "      <td>discovery</td>\n",
       "      <td>serina</td>\n",
       "      <td>12288Mn</td>\n",
       "      <td>8333.82M</td>\n",
       "      <td>13-18:00:00</td>\n",
       "      <td>12-03:50:59</td>\n",
       "      <td>1</td>\n",
       "      <td>1</td>\n",
       "      <td>production</td>\n",
       "      <td>0:0</td>\n",
       "      <td>2019-03-11T10:06:06</td>\n",
       "    </tr>\n",
       "    <tr>\n",
       "      <td>4</td>\n",
       "      <td>7055502_1806</td>\n",
       "      <td>discovery</td>\n",
       "      <td>serina</td>\n",
       "      <td>12288Mn</td>\n",
       "      <td>8304.03M</td>\n",
       "      <td>13-18:00:00</td>\n",
       "      <td>11-08:43:46</td>\n",
       "      <td>1</td>\n",
       "      <td>1</td>\n",
       "      <td>production</td>\n",
       "      <td>0:0</td>\n",
       "      <td>2019-03-11T10:06:06</td>\n",
       "    </tr>\n",
       "  </tbody>\n",
       "</table>\n",
       "</div>"
      ],
      "text/plain": [
       "          JOBID    ACCOUNT    USER    REQMEM     USEDMEM      REQTIME  \\\n",
       "0       6794220    laxtons  mikala  247808Mn  115217.12M  14-00:00:00   \n",
       "1  6983193_1880  discovery  serina   12288Mn    6516.10M  13-18:00:00   \n",
       "2  7055502_1863  discovery  serina   12288Mn       0.09M  13-18:00:00   \n",
       "3  7055502_1800  discovery  serina   12288Mn    8333.82M  13-18:00:00   \n",
       "4  7055502_1806  discovery  serina   12288Mn    8304.03M  13-18:00:00   \n",
       "\n",
       "      USEDTIME  NODES  CPUS   PARTITION EXITCODE               SUBMIT  \n",
       "0  11-01:32:50      1    16  production      0:0  2019-03-09T16:38:44  \n",
       "1  12-09:26:41      1     1  production      0:0  2019-03-07T18:39:59  \n",
       "2  13-08:27:36      1     1  production      0:0  2019-03-11T10:06:06  \n",
       "3  12-03:50:59      1     1  production      0:0  2019-03-11T10:06:06  \n",
       "4  11-08:43:46      1     1  production      0:0  2019-03-11T10:06:06  "
      ]
     },
     "execution_count": 3,
     "metadata": {},
     "output_type": "execute_result"
    }
   ],
   "source": [
    "ACCRE_df.head()"
   ]
  },
  {
   "cell_type": "code",
   "execution_count": null,
   "metadata": {},
   "outputs": [],
   "source": [
    "ACCRE_df.info()\n",
    "# Notice 4,365,379 entries"
   ]
  },
  {
   "cell_type": "code",
   "execution_count": null,
   "metadata": {},
   "outputs": [],
   "source": [
    "ACCRE_df.tail()\n",
    "# No footer to remove"
   ]
  },
  {
   "cell_type": "code",
   "execution_count": 4,
   "metadata": {},
   "outputs": [],
   "source": [
    "ACCRE_df = ACCRE_df.drop_duplicates()"
   ]
  },
  {
   "cell_type": "code",
   "execution_count": null,
   "metadata": {},
   "outputs": [],
   "source": [
    "ACCRE_df.shape"
   ]
  },
  {
   "cell_type": "code",
   "execution_count": null,
   "metadata": {},
   "outputs": [],
   "source": [
    "# ACCRE_df_abridged = pd.read_csv('data/fullsample_dedup.csv')\n",
    "# Reading in this csv is just to check if we eliminated the correct number of entries. \n",
    "# The ACCRE guy gave us this edited csv. "
   ]
  },
  {
   "cell_type": "code",
   "execution_count": 5,
   "metadata": {},
   "outputs": [
    {
     "data": {
      "text/html": [
       "<div>\n",
       "<style scoped>\n",
       "    .dataframe tbody tr th:only-of-type {\n",
       "        vertical-align: middle;\n",
       "    }\n",
       "\n",
       "    .dataframe tbody tr th {\n",
       "        vertical-align: top;\n",
       "    }\n",
       "\n",
       "    .dataframe thead th {\n",
       "        text-align: right;\n",
       "    }\n",
       "</style>\n",
       "<table border=\"1\" class=\"dataframe\">\n",
       "  <thead>\n",
       "    <tr style=\"text-align: right;\">\n",
       "      <th></th>\n",
       "      <th>JOBID</th>\n",
       "      <th>ACCOUNT</th>\n",
       "      <th>USER</th>\n",
       "      <th>REQMEM</th>\n",
       "      <th>USEDMEM</th>\n",
       "      <th>REQTIME</th>\n",
       "      <th>USEDTIME</th>\n",
       "      <th>NODES</th>\n",
       "      <th>CPUS</th>\n",
       "      <th>PARTITION</th>\n",
       "      <th>EXITCODE</th>\n",
       "      <th>SUBMIT</th>\n",
       "    </tr>\n",
       "  </thead>\n",
       "  <tbody>\n",
       "    <tr>\n",
       "      <td>0</td>\n",
       "      <td>6794220</td>\n",
       "      <td>laxtons</td>\n",
       "      <td>mikala</td>\n",
       "      <td>247808Mn</td>\n",
       "      <td>115217.12M</td>\n",
       "      <td>14-00:00:00</td>\n",
       "      <td>11-01:32:50</td>\n",
       "      <td>1</td>\n",
       "      <td>16</td>\n",
       "      <td>production</td>\n",
       "      <td>0:0</td>\n",
       "      <td>2019-03-09T16:38:44</td>\n",
       "    </tr>\n",
       "    <tr>\n",
       "      <td>1</td>\n",
       "      <td>6983193_1880</td>\n",
       "      <td>discovery</td>\n",
       "      <td>serina</td>\n",
       "      <td>12288Mn</td>\n",
       "      <td>6516.10M</td>\n",
       "      <td>13-18:00:00</td>\n",
       "      <td>12-09:26:41</td>\n",
       "      <td>1</td>\n",
       "      <td>1</td>\n",
       "      <td>production</td>\n",
       "      <td>0:0</td>\n",
       "      <td>2019-03-07T18:39:59</td>\n",
       "    </tr>\n",
       "    <tr>\n",
       "      <td>2</td>\n",
       "      <td>7055502_1863</td>\n",
       "      <td>discovery</td>\n",
       "      <td>serina</td>\n",
       "      <td>12288Mn</td>\n",
       "      <td>0.09M</td>\n",
       "      <td>13-18:00:00</td>\n",
       "      <td>13-08:27:36</td>\n",
       "      <td>1</td>\n",
       "      <td>1</td>\n",
       "      <td>production</td>\n",
       "      <td>0:0</td>\n",
       "      <td>2019-03-11T10:06:06</td>\n",
       "    </tr>\n",
       "    <tr>\n",
       "      <td>3</td>\n",
       "      <td>7055502_1800</td>\n",
       "      <td>discovery</td>\n",
       "      <td>serina</td>\n",
       "      <td>12288Mn</td>\n",
       "      <td>8333.82M</td>\n",
       "      <td>13-18:00:00</td>\n",
       "      <td>12-03:50:59</td>\n",
       "      <td>1</td>\n",
       "      <td>1</td>\n",
       "      <td>production</td>\n",
       "      <td>0:0</td>\n",
       "      <td>2019-03-11T10:06:06</td>\n",
       "    </tr>\n",
       "    <tr>\n",
       "      <td>4</td>\n",
       "      <td>7055502_1806</td>\n",
       "      <td>discovery</td>\n",
       "      <td>serina</td>\n",
       "      <td>12288Mn</td>\n",
       "      <td>8304.03M</td>\n",
       "      <td>13-18:00:00</td>\n",
       "      <td>11-08:43:46</td>\n",
       "      <td>1</td>\n",
       "      <td>1</td>\n",
       "      <td>production</td>\n",
       "      <td>0:0</td>\n",
       "      <td>2019-03-11T10:06:06</td>\n",
       "    </tr>\n",
       "  </tbody>\n",
       "</table>\n",
       "</div>"
      ],
      "text/plain": [
       "          JOBID    ACCOUNT    USER    REQMEM     USEDMEM      REQTIME  \\\n",
       "0       6794220    laxtons  mikala  247808Mn  115217.12M  14-00:00:00   \n",
       "1  6983193_1880  discovery  serina   12288Mn    6516.10M  13-18:00:00   \n",
       "2  7055502_1863  discovery  serina   12288Mn       0.09M  13-18:00:00   \n",
       "3  7055502_1800  discovery  serina   12288Mn    8333.82M  13-18:00:00   \n",
       "4  7055502_1806  discovery  serina   12288Mn    8304.03M  13-18:00:00   \n",
       "\n",
       "      USEDTIME  NODES  CPUS   PARTITION EXITCODE               SUBMIT  \n",
       "0  11-01:32:50      1    16  production      0:0  2019-03-09T16:38:44  \n",
       "1  12-09:26:41      1     1  production      0:0  2019-03-07T18:39:59  \n",
       "2  13-08:27:36      1     1  production      0:0  2019-03-11T10:06:06  \n",
       "3  12-03:50:59      1     1  production      0:0  2019-03-11T10:06:06  \n",
       "4  11-08:43:46      1     1  production      0:0  2019-03-11T10:06:06  "
      ]
     },
     "execution_count": 5,
     "metadata": {},
     "output_type": "execute_result"
    }
   ],
   "source": [
    "ACCRE_df = ACCRE_df.loc[ACCRE_df['PARTITION'] == 'production']\n",
    "ACCRE_df.head()\n",
    "# We want to ignore the partition named \"debug\""
   ]
  },
  {
   "cell_type": "code",
   "execution_count": null,
   "metadata": {},
   "outputs": [],
   "source": [
    "ACCRE_df.shape"
   ]
  },
  {
   "cell_type": "code",
   "execution_count": 6,
   "metadata": {},
   "outputs": [],
   "source": [
    "ACCRE_df.REQTIME = ACCRE_df.REQTIME.str.replace('-',':')\n",
    "ACCRE_df.USEDTIME = ACCRE_df.USEDTIME.str.replace('-',':')\n",
    "# REQTIME and USEDTIME are now manageable "
   ]
  },
  {
   "cell_type": "code",
   "execution_count": null,
   "metadata": {},
   "outputs": [],
   "source": [
    "ACCRE_df.head()"
   ]
  },
  {
   "cell_type": "code",
   "execution_count": 7,
   "metadata": {},
   "outputs": [],
   "source": [
    "date_time=ACCRE_df.REQTIME"
   ]
  },
  {
   "cell_type": "code",
   "execution_count": 8,
   "metadata": {},
   "outputs": [
    {
     "name": "stdout",
     "output_type": "stream",
     "text": [
      "CPU times: user 5.94 s, sys: 103 ms, total: 6.04 s\n",
      "Wall time: 6.27 s\n"
     ]
    }
   ],
   "source": [
    "%%time\n",
    "# REQTIME needs to be in total seconds.\n",
    "to_seconds = []\n",
    "for time in date_time:\n",
    "    split=time.split(':')\n",
    "    if len(split)==4:\n",
    "        seconds=int(split[0])*86400+int(split[1])*3600+int(split[2])*60+int(split[3])\n",
    "        to_seconds.append(seconds)\n",
    "    else: \n",
    "        seconds=int(split[0])*3600+int(split[1])*60+int(split[2])\n",
    "        to_seconds.append(seconds)"
   ]
  },
  {
   "cell_type": "code",
   "execution_count": 9,
   "metadata": {},
   "outputs": [
    {
     "data": {
      "text/html": [
       "<div>\n",
       "<style scoped>\n",
       "    .dataframe tbody tr th:only-of-type {\n",
       "        vertical-align: middle;\n",
       "    }\n",
       "\n",
       "    .dataframe tbody tr th {\n",
       "        vertical-align: top;\n",
       "    }\n",
       "\n",
       "    .dataframe thead th {\n",
       "        text-align: right;\n",
       "    }\n",
       "</style>\n",
       "<table border=\"1\" class=\"dataframe\">\n",
       "  <thead>\n",
       "    <tr style=\"text-align: right;\">\n",
       "      <th></th>\n",
       "      <th>JOBID</th>\n",
       "      <th>ACCOUNT</th>\n",
       "      <th>USER</th>\n",
       "      <th>REQMEM</th>\n",
       "      <th>USEDMEM</th>\n",
       "      <th>REQTIME</th>\n",
       "      <th>USEDTIME</th>\n",
       "      <th>NODES</th>\n",
       "      <th>CPUS</th>\n",
       "      <th>PARTITION</th>\n",
       "      <th>EXITCODE</th>\n",
       "      <th>SUBMIT</th>\n",
       "    </tr>\n",
       "  </thead>\n",
       "  <tbody>\n",
       "    <tr>\n",
       "      <td>0</td>\n",
       "      <td>6794220</td>\n",
       "      <td>laxtons</td>\n",
       "      <td>mikala</td>\n",
       "      <td>247808Mn</td>\n",
       "      <td>115217.12M</td>\n",
       "      <td>1209600</td>\n",
       "      <td>11:01:32:50</td>\n",
       "      <td>1</td>\n",
       "      <td>16</td>\n",
       "      <td>production</td>\n",
       "      <td>0:0</td>\n",
       "      <td>2019-03-09T16:38:44</td>\n",
       "    </tr>\n",
       "    <tr>\n",
       "      <td>1</td>\n",
       "      <td>6983193_1880</td>\n",
       "      <td>discovery</td>\n",
       "      <td>serina</td>\n",
       "      <td>12288Mn</td>\n",
       "      <td>6516.10M</td>\n",
       "      <td>1188000</td>\n",
       "      <td>12:09:26:41</td>\n",
       "      <td>1</td>\n",
       "      <td>1</td>\n",
       "      <td>production</td>\n",
       "      <td>0:0</td>\n",
       "      <td>2019-03-07T18:39:59</td>\n",
       "    </tr>\n",
       "    <tr>\n",
       "      <td>2</td>\n",
       "      <td>7055502_1863</td>\n",
       "      <td>discovery</td>\n",
       "      <td>serina</td>\n",
       "      <td>12288Mn</td>\n",
       "      <td>0.09M</td>\n",
       "      <td>1188000</td>\n",
       "      <td>13:08:27:36</td>\n",
       "      <td>1</td>\n",
       "      <td>1</td>\n",
       "      <td>production</td>\n",
       "      <td>0:0</td>\n",
       "      <td>2019-03-11T10:06:06</td>\n",
       "    </tr>\n",
       "    <tr>\n",
       "      <td>3</td>\n",
       "      <td>7055502_1800</td>\n",
       "      <td>discovery</td>\n",
       "      <td>serina</td>\n",
       "      <td>12288Mn</td>\n",
       "      <td>8333.82M</td>\n",
       "      <td>1188000</td>\n",
       "      <td>12:03:50:59</td>\n",
       "      <td>1</td>\n",
       "      <td>1</td>\n",
       "      <td>production</td>\n",
       "      <td>0:0</td>\n",
       "      <td>2019-03-11T10:06:06</td>\n",
       "    </tr>\n",
       "    <tr>\n",
       "      <td>4</td>\n",
       "      <td>7055502_1806</td>\n",
       "      <td>discovery</td>\n",
       "      <td>serina</td>\n",
       "      <td>12288Mn</td>\n",
       "      <td>8304.03M</td>\n",
       "      <td>1188000</td>\n",
       "      <td>11:08:43:46</td>\n",
       "      <td>1</td>\n",
       "      <td>1</td>\n",
       "      <td>production</td>\n",
       "      <td>0:0</td>\n",
       "      <td>2019-03-11T10:06:06</td>\n",
       "    </tr>\n",
       "  </tbody>\n",
       "</table>\n",
       "</div>"
      ],
      "text/plain": [
       "          JOBID    ACCOUNT    USER    REQMEM     USEDMEM  REQTIME  \\\n",
       "0       6794220    laxtons  mikala  247808Mn  115217.12M  1209600   \n",
       "1  6983193_1880  discovery  serina   12288Mn    6516.10M  1188000   \n",
       "2  7055502_1863  discovery  serina   12288Mn       0.09M  1188000   \n",
       "3  7055502_1800  discovery  serina   12288Mn    8333.82M  1188000   \n",
       "4  7055502_1806  discovery  serina   12288Mn    8304.03M  1188000   \n",
       "\n",
       "      USEDTIME  NODES  CPUS   PARTITION EXITCODE               SUBMIT  \n",
       "0  11:01:32:50      1    16  production      0:0  2019-03-09T16:38:44  \n",
       "1  12:09:26:41      1     1  production      0:0  2019-03-07T18:39:59  \n",
       "2  13:08:27:36      1     1  production      0:0  2019-03-11T10:06:06  \n",
       "3  12:03:50:59      1     1  production      0:0  2019-03-11T10:06:06  \n",
       "4  11:08:43:46      1     1  production      0:0  2019-03-11T10:06:06  "
      ]
     },
     "execution_count": 9,
     "metadata": {},
     "output_type": "execute_result"
    }
   ],
   "source": [
    "ACCRE_df.REQTIME = to_seconds\n",
    "ACCRE_df.head()"
   ]
  },
  {
   "cell_type": "code",
   "execution_count": 10,
   "metadata": {},
   "outputs": [],
   "source": [
    "# used_time = ACCRE_df.USEDTIME"
   ]
  },
  {
   "cell_type": "code",
   "execution_count": 11,
   "metadata": {},
   "outputs": [],
   "source": [
    "def convert_to_seconds(new):\n",
    "    split_again=new.split(':')\n",
    "    if len(split_again)==4: \n",
    "        sec_2=int(split_again[0])*86400+int(split_again[1])*3600+int(split_again[2])*60+int(split_again[3])\n",
    "    \n",
    "    else: \n",
    "        sec_2=int(split_again[0])*3600+int(split_again[1])*60+int(split_again[2])\n",
    "               \n",
    "    return sec_2"
   ]
  },
  {
   "cell_type": "code",
   "execution_count": 12,
   "metadata": {},
   "outputs": [
    {
     "name": "stdout",
     "output_type": "stream",
     "text": [
      "CPU times: user 5.77 s, sys: 224 ms, total: 5.99 s\n",
      "Wall time: 5.9 s\n"
     ]
    }
   ],
   "source": [
    "%%time \n",
    "ACCRE_df.USEDTIME = ACCRE_df.USEDTIME.apply(convert_to_seconds)"
   ]
  },
  {
   "cell_type": "code",
   "execution_count": null,
   "metadata": {},
   "outputs": [],
   "source": [
    "ACCRE_df.head()\n",
    "# head=ACCRE_df.head()\n",
    "# Just want to mess with a (very small) subset"
   ]
  },
  {
   "cell_type": "code",
   "execution_count": 13,
   "metadata": {},
   "outputs": [
    {
     "data": {
      "text/html": [
       "<div>\n",
       "<style scoped>\n",
       "    .dataframe tbody tr th:only-of-type {\n",
       "        vertical-align: middle;\n",
       "    }\n",
       "\n",
       "    .dataframe tbody tr th {\n",
       "        vertical-align: top;\n",
       "    }\n",
       "\n",
       "    .dataframe thead th {\n",
       "        text-align: right;\n",
       "    }\n",
       "</style>\n",
       "<table border=\"1\" class=\"dataframe\">\n",
       "  <thead>\n",
       "    <tr style=\"text-align: right;\">\n",
       "      <th></th>\n",
       "      <th>JOBID</th>\n",
       "      <th>ACCOUNT</th>\n",
       "      <th>USER</th>\n",
       "      <th>REQMEM</th>\n",
       "      <th>USEDMEM</th>\n",
       "      <th>REQTIME</th>\n",
       "      <th>USEDTIME</th>\n",
       "      <th>NODES</th>\n",
       "      <th>CPUS</th>\n",
       "      <th>PARTITION</th>\n",
       "      <th>EXITCODE</th>\n",
       "      <th>SUBMIT</th>\n",
       "    </tr>\n",
       "  </thead>\n",
       "  <tbody>\n",
       "    <tr>\n",
       "      <td>0</td>\n",
       "      <td>6794220</td>\n",
       "      <td>laxtons</td>\n",
       "      <td>mikala</td>\n",
       "      <td>247808 Mn</td>\n",
       "      <td>115217.12 M</td>\n",
       "      <td>1209600</td>\n",
       "      <td>955970</td>\n",
       "      <td>1</td>\n",
       "      <td>16</td>\n",
       "      <td>production</td>\n",
       "      <td>0:0</td>\n",
       "      <td>2019-03-09T16:38:44</td>\n",
       "    </tr>\n",
       "    <tr>\n",
       "      <td>1</td>\n",
       "      <td>6983193_1880</td>\n",
       "      <td>discovery</td>\n",
       "      <td>serina</td>\n",
       "      <td>12288 Mn</td>\n",
       "      <td>6516.10 M</td>\n",
       "      <td>1188000</td>\n",
       "      <td>1070801</td>\n",
       "      <td>1</td>\n",
       "      <td>1</td>\n",
       "      <td>production</td>\n",
       "      <td>0:0</td>\n",
       "      <td>2019-03-07T18:39:59</td>\n",
       "    </tr>\n",
       "    <tr>\n",
       "      <td>2</td>\n",
       "      <td>7055502_1863</td>\n",
       "      <td>discovery</td>\n",
       "      <td>serina</td>\n",
       "      <td>12288 Mn</td>\n",
       "      <td>0.09 M</td>\n",
       "      <td>1188000</td>\n",
       "      <td>1153656</td>\n",
       "      <td>1</td>\n",
       "      <td>1</td>\n",
       "      <td>production</td>\n",
       "      <td>0:0</td>\n",
       "      <td>2019-03-11T10:06:06</td>\n",
       "    </tr>\n",
       "    <tr>\n",
       "      <td>3</td>\n",
       "      <td>7055502_1800</td>\n",
       "      <td>discovery</td>\n",
       "      <td>serina</td>\n",
       "      <td>12288 Mn</td>\n",
       "      <td>8333.82 M</td>\n",
       "      <td>1188000</td>\n",
       "      <td>1050659</td>\n",
       "      <td>1</td>\n",
       "      <td>1</td>\n",
       "      <td>production</td>\n",
       "      <td>0:0</td>\n",
       "      <td>2019-03-11T10:06:06</td>\n",
       "    </tr>\n",
       "    <tr>\n",
       "      <td>4</td>\n",
       "      <td>7055502_1806</td>\n",
       "      <td>discovery</td>\n",
       "      <td>serina</td>\n",
       "      <td>12288 Mn</td>\n",
       "      <td>8304.03 M</td>\n",
       "      <td>1188000</td>\n",
       "      <td>981826</td>\n",
       "      <td>1</td>\n",
       "      <td>1</td>\n",
       "      <td>production</td>\n",
       "      <td>0:0</td>\n",
       "      <td>2019-03-11T10:06:06</td>\n",
       "    </tr>\n",
       "  </tbody>\n",
       "</table>\n",
       "</div>"
      ],
      "text/plain": [
       "          JOBID    ACCOUNT    USER     REQMEM      USEDMEM  REQTIME  USEDTIME  \\\n",
       "0       6794220    laxtons  mikala  247808 Mn  115217.12 M  1209600    955970   \n",
       "1  6983193_1880  discovery  serina   12288 Mn    6516.10 M  1188000   1070801   \n",
       "2  7055502_1863  discovery  serina   12288 Mn       0.09 M  1188000   1153656   \n",
       "3  7055502_1800  discovery  serina   12288 Mn    8333.82 M  1188000   1050659   \n",
       "4  7055502_1806  discovery  serina   12288 Mn    8304.03 M  1188000    981826   \n",
       "\n",
       "   NODES  CPUS   PARTITION EXITCODE               SUBMIT  \n",
       "0      1    16  production      0:0  2019-03-09T16:38:44  \n",
       "1      1     1  production      0:0  2019-03-07T18:39:59  \n",
       "2      1     1  production      0:0  2019-03-11T10:06:06  \n",
       "3      1     1  production      0:0  2019-03-11T10:06:06  \n",
       "4      1     1  production      0:0  2019-03-11T10:06:06  "
      ]
     },
     "execution_count": 13,
     "metadata": {},
     "output_type": "execute_result"
    }
   ],
   "source": [
    "ACCRE_df.REQMEM = ACCRE_df['REQMEM'].str.replace(r'(Mn|Mc)', r' \\1')\n",
    "ACCRE_df.USEDMEM = ACCRE_df['USEDMEM'].str.replace(r'(M)', r' \\1')\n",
    "ACCRE_df.head()"
   ]
  },
  {
   "cell_type": "code",
   "execution_count": 14,
   "metadata": {},
   "outputs": [],
   "source": [
    "def convert_to_mc(x,y,z): \n",
    "    num_unit=x.split(' ')\n",
    "    number=int(num_unit[0])\n",
    "    unit=num_unit[1]\n",
    "    if unit =='Mn': \n",
    "        mc_conversion=(number*y)/(z) \n",
    "        \n",
    "    else: \n",
    "        mc_conversion=number \n",
    "    \n",
    "    return mc_conversion"
   ]
  },
  {
   "cell_type": "code",
   "execution_count": 15,
   "metadata": {},
   "outputs": [],
   "source": [
    "def m_to_mc(a,b,c): \n",
    "    if a =='0':\n",
    "        mc=a \n",
    "    else: \n",
    "        split_it=a.split(' ')\n",
    "        value=float(split_it[0])\n",
    "        letter=split_it[1]\n",
    "        mc=(value*b)/(c)\n",
    "    \n",
    "    \n",
    "    return mc"
   ]
  },
  {
   "cell_type": "code",
   "execution_count": 16,
   "metadata": {},
   "outputs": [
    {
     "name": "stdout",
     "output_type": "stream",
     "text": [
      "CPU times: user 1min 50s, sys: 1.92 s, total: 1min 52s\n",
      "Wall time: 1min 54s\n"
     ]
    }
   ],
   "source": [
    "%%time\n",
    "ACCRE_df['REQMEM']=ACCRE_df.apply(lambda row: convert_to_mc(row['REQMEM'],row['NODES'],row['CPUS']),axis=1)"
   ]
  },
  {
   "cell_type": "code",
   "execution_count": 17,
   "metadata": {},
   "outputs": [
    {
     "data": {
      "text/html": [
       "<div>\n",
       "<style scoped>\n",
       "    .dataframe tbody tr th:only-of-type {\n",
       "        vertical-align: middle;\n",
       "    }\n",
       "\n",
       "    .dataframe tbody tr th {\n",
       "        vertical-align: top;\n",
       "    }\n",
       "\n",
       "    .dataframe thead th {\n",
       "        text-align: right;\n",
       "    }\n",
       "</style>\n",
       "<table border=\"1\" class=\"dataframe\">\n",
       "  <thead>\n",
       "    <tr style=\"text-align: right;\">\n",
       "      <th></th>\n",
       "      <th>JOBID</th>\n",
       "      <th>ACCOUNT</th>\n",
       "      <th>USER</th>\n",
       "      <th>REQMEM</th>\n",
       "      <th>USEDMEM</th>\n",
       "      <th>REQTIME</th>\n",
       "      <th>USEDTIME</th>\n",
       "      <th>NODES</th>\n",
       "      <th>CPUS</th>\n",
       "      <th>PARTITION</th>\n",
       "      <th>EXITCODE</th>\n",
       "      <th>SUBMIT</th>\n",
       "    </tr>\n",
       "  </thead>\n",
       "  <tbody>\n",
       "    <tr>\n",
       "      <td>0</td>\n",
       "      <td>6794220</td>\n",
       "      <td>laxtons</td>\n",
       "      <td>mikala</td>\n",
       "      <td>15488.0</td>\n",
       "      <td>115217.12 M</td>\n",
       "      <td>1209600</td>\n",
       "      <td>955970</td>\n",
       "      <td>1</td>\n",
       "      <td>16</td>\n",
       "      <td>production</td>\n",
       "      <td>0:0</td>\n",
       "      <td>2019-03-09T16:38:44</td>\n",
       "    </tr>\n",
       "    <tr>\n",
       "      <td>1</td>\n",
       "      <td>6983193_1880</td>\n",
       "      <td>discovery</td>\n",
       "      <td>serina</td>\n",
       "      <td>12288.0</td>\n",
       "      <td>6516.10 M</td>\n",
       "      <td>1188000</td>\n",
       "      <td>1070801</td>\n",
       "      <td>1</td>\n",
       "      <td>1</td>\n",
       "      <td>production</td>\n",
       "      <td>0:0</td>\n",
       "      <td>2019-03-07T18:39:59</td>\n",
       "    </tr>\n",
       "    <tr>\n",
       "      <td>2</td>\n",
       "      <td>7055502_1863</td>\n",
       "      <td>discovery</td>\n",
       "      <td>serina</td>\n",
       "      <td>12288.0</td>\n",
       "      <td>0.09 M</td>\n",
       "      <td>1188000</td>\n",
       "      <td>1153656</td>\n",
       "      <td>1</td>\n",
       "      <td>1</td>\n",
       "      <td>production</td>\n",
       "      <td>0:0</td>\n",
       "      <td>2019-03-11T10:06:06</td>\n",
       "    </tr>\n",
       "    <tr>\n",
       "      <td>3</td>\n",
       "      <td>7055502_1800</td>\n",
       "      <td>discovery</td>\n",
       "      <td>serina</td>\n",
       "      <td>12288.0</td>\n",
       "      <td>8333.82 M</td>\n",
       "      <td>1188000</td>\n",
       "      <td>1050659</td>\n",
       "      <td>1</td>\n",
       "      <td>1</td>\n",
       "      <td>production</td>\n",
       "      <td>0:0</td>\n",
       "      <td>2019-03-11T10:06:06</td>\n",
       "    </tr>\n",
       "    <tr>\n",
       "      <td>4</td>\n",
       "      <td>7055502_1806</td>\n",
       "      <td>discovery</td>\n",
       "      <td>serina</td>\n",
       "      <td>12288.0</td>\n",
       "      <td>8304.03 M</td>\n",
       "      <td>1188000</td>\n",
       "      <td>981826</td>\n",
       "      <td>1</td>\n",
       "      <td>1</td>\n",
       "      <td>production</td>\n",
       "      <td>0:0</td>\n",
       "      <td>2019-03-11T10:06:06</td>\n",
       "    </tr>\n",
       "  </tbody>\n",
       "</table>\n",
       "</div>"
      ],
      "text/plain": [
       "          JOBID    ACCOUNT    USER   REQMEM      USEDMEM  REQTIME  USEDTIME  \\\n",
       "0       6794220    laxtons  mikala  15488.0  115217.12 M  1209600    955970   \n",
       "1  6983193_1880  discovery  serina  12288.0    6516.10 M  1188000   1070801   \n",
       "2  7055502_1863  discovery  serina  12288.0       0.09 M  1188000   1153656   \n",
       "3  7055502_1800  discovery  serina  12288.0    8333.82 M  1188000   1050659   \n",
       "4  7055502_1806  discovery  serina  12288.0    8304.03 M  1188000    981826   \n",
       "\n",
       "   NODES  CPUS   PARTITION EXITCODE               SUBMIT  \n",
       "0      1    16  production      0:0  2019-03-09T16:38:44  \n",
       "1      1     1  production      0:0  2019-03-07T18:39:59  \n",
       "2      1     1  production      0:0  2019-03-11T10:06:06  \n",
       "3      1     1  production      0:0  2019-03-11T10:06:06  \n",
       "4      1     1  production      0:0  2019-03-11T10:06:06  "
      ]
     },
     "execution_count": 17,
     "metadata": {},
     "output_type": "execute_result"
    }
   ],
   "source": [
    "ACCRE_df.head()"
   ]
  },
  {
   "cell_type": "code",
   "execution_count": 18,
   "metadata": {},
   "outputs": [
    {
     "data": {
      "text/html": [
       "<div>\n",
       "<style scoped>\n",
       "    .dataframe tbody tr th:only-of-type {\n",
       "        vertical-align: middle;\n",
       "    }\n",
       "\n",
       "    .dataframe tbody tr th {\n",
       "        vertical-align: top;\n",
       "    }\n",
       "\n",
       "    .dataframe thead th {\n",
       "        text-align: right;\n",
       "    }\n",
       "</style>\n",
       "<table border=\"1\" class=\"dataframe\">\n",
       "  <thead>\n",
       "    <tr style=\"text-align: right;\">\n",
       "      <th></th>\n",
       "      <th>JOBID</th>\n",
       "      <th>ACCOUNT</th>\n",
       "      <th>USER</th>\n",
       "      <th>REQMEM</th>\n",
       "      <th>USEDMEM</th>\n",
       "      <th>REQTIME</th>\n",
       "      <th>USEDTIME</th>\n",
       "      <th>NODES</th>\n",
       "      <th>CPUS</th>\n",
       "      <th>PARTITION</th>\n",
       "      <th>EXITCODE</th>\n",
       "      <th>SUBMIT</th>\n",
       "    </tr>\n",
       "  </thead>\n",
       "  <tbody>\n",
       "    <tr>\n",
       "      <td>1556155</td>\n",
       "      <td>9524253</td>\n",
       "      <td>kumquat</td>\n",
       "      <td>kate</td>\n",
       "      <td>16384.0</td>\n",
       "      <td>16383.34 M</td>\n",
       "      <td>86400</td>\n",
       "      <td>35114</td>\n",
       "      <td>24</td>\n",
       "      <td>0</td>\n",
       "      <td>production</td>\n",
       "      <td>0:0</td>\n",
       "      <td>2019-07-01T14:22:00</td>\n",
       "    </tr>\n",
       "  </tbody>\n",
       "</table>\n",
       "</div>"
      ],
      "text/plain": [
       "           JOBID  ACCOUNT  USER   REQMEM     USEDMEM  REQTIME  USEDTIME  \\\n",
       "1556155  9524253  kumquat  kate  16384.0  16383.34 M    86400     35114   \n",
       "\n",
       "         NODES  CPUS   PARTITION EXITCODE               SUBMIT  \n",
       "1556155     24     0  production      0:0  2019-07-01T14:22:00  "
      ]
     },
     "execution_count": 18,
     "metadata": {},
     "output_type": "execute_result"
    }
   ],
   "source": [
    "# This is necessary now because we can't divide by zero later on \n",
    "ACCRE_df.loc[ACCRE_df['CPUS']==0]"
   ]
  },
  {
   "cell_type": "code",
   "execution_count": 19,
   "metadata": {},
   "outputs": [],
   "source": [
    "ACCRE_df.drop(ACCRE_df[ACCRE_df['CPUS']==0].index, inplace=True)"
   ]
  },
  {
   "cell_type": "code",
   "execution_count": 20,
   "metadata": {},
   "outputs": [
    {
     "data": {
      "text/plain": [
       "(3319256, 12)"
      ]
     },
     "execution_count": 20,
     "metadata": {},
     "output_type": "execute_result"
    }
   ],
   "source": [
    "ACCRE_df.shape"
   ]
  },
  {
   "cell_type": "code",
   "execution_count": 21,
   "metadata": {},
   "outputs": [
    {
     "name": "stdout",
     "output_type": "stream",
     "text": [
      "CPU times: user 2min 7s, sys: 2.86 s, total: 2min 10s\n",
      "Wall time: 2min 17s\n"
     ]
    }
   ],
   "source": [
    "%%time\n",
    "ACCRE_df['USEDMEM']=ACCRE_df.apply(lambda row: m_to_mc(row['USEDMEM'],row['NODES'],row['CPUS']),axis=1)"
   ]
  },
  {
   "cell_type": "code",
   "execution_count": 22,
   "metadata": {},
   "outputs": [
    {
     "data": {
      "text/html": [
       "<div>\n",
       "<style scoped>\n",
       "    .dataframe tbody tr th:only-of-type {\n",
       "        vertical-align: middle;\n",
       "    }\n",
       "\n",
       "    .dataframe tbody tr th {\n",
       "        vertical-align: top;\n",
       "    }\n",
       "\n",
       "    .dataframe thead th {\n",
       "        text-align: right;\n",
       "    }\n",
       "</style>\n",
       "<table border=\"1\" class=\"dataframe\">\n",
       "  <thead>\n",
       "    <tr style=\"text-align: right;\">\n",
       "      <th></th>\n",
       "      <th>JOBID</th>\n",
       "      <th>ACCOUNT</th>\n",
       "      <th>USER</th>\n",
       "      <th>REQMEM</th>\n",
       "      <th>USEDMEM</th>\n",
       "      <th>REQTIME</th>\n",
       "      <th>USEDTIME</th>\n",
       "      <th>NODES</th>\n",
       "      <th>CPUS</th>\n",
       "      <th>PARTITION</th>\n",
       "      <th>EXITCODE</th>\n",
       "      <th>SUBMIT</th>\n",
       "    </tr>\n",
       "  </thead>\n",
       "  <tbody>\n",
       "    <tr>\n",
       "      <td>0</td>\n",
       "      <td>6794220</td>\n",
       "      <td>laxtons</td>\n",
       "      <td>mikala</td>\n",
       "      <td>15488.0</td>\n",
       "      <td>7201.07</td>\n",
       "      <td>1209600</td>\n",
       "      <td>955970</td>\n",
       "      <td>1</td>\n",
       "      <td>16</td>\n",
       "      <td>production</td>\n",
       "      <td>0:0</td>\n",
       "      <td>2019-03-09T16:38:44</td>\n",
       "    </tr>\n",
       "    <tr>\n",
       "      <td>1</td>\n",
       "      <td>6983193_1880</td>\n",
       "      <td>discovery</td>\n",
       "      <td>serina</td>\n",
       "      <td>12288.0</td>\n",
       "      <td>6516.1</td>\n",
       "      <td>1188000</td>\n",
       "      <td>1070801</td>\n",
       "      <td>1</td>\n",
       "      <td>1</td>\n",
       "      <td>production</td>\n",
       "      <td>0:0</td>\n",
       "      <td>2019-03-07T18:39:59</td>\n",
       "    </tr>\n",
       "    <tr>\n",
       "      <td>2</td>\n",
       "      <td>7055502_1863</td>\n",
       "      <td>discovery</td>\n",
       "      <td>serina</td>\n",
       "      <td>12288.0</td>\n",
       "      <td>0.09</td>\n",
       "      <td>1188000</td>\n",
       "      <td>1153656</td>\n",
       "      <td>1</td>\n",
       "      <td>1</td>\n",
       "      <td>production</td>\n",
       "      <td>0:0</td>\n",
       "      <td>2019-03-11T10:06:06</td>\n",
       "    </tr>\n",
       "    <tr>\n",
       "      <td>3</td>\n",
       "      <td>7055502_1800</td>\n",
       "      <td>discovery</td>\n",
       "      <td>serina</td>\n",
       "      <td>12288.0</td>\n",
       "      <td>8333.82</td>\n",
       "      <td>1188000</td>\n",
       "      <td>1050659</td>\n",
       "      <td>1</td>\n",
       "      <td>1</td>\n",
       "      <td>production</td>\n",
       "      <td>0:0</td>\n",
       "      <td>2019-03-11T10:06:06</td>\n",
       "    </tr>\n",
       "    <tr>\n",
       "      <td>4</td>\n",
       "      <td>7055502_1806</td>\n",
       "      <td>discovery</td>\n",
       "      <td>serina</td>\n",
       "      <td>12288.0</td>\n",
       "      <td>8304.03</td>\n",
       "      <td>1188000</td>\n",
       "      <td>981826</td>\n",
       "      <td>1</td>\n",
       "      <td>1</td>\n",
       "      <td>production</td>\n",
       "      <td>0:0</td>\n",
       "      <td>2019-03-11T10:06:06</td>\n",
       "    </tr>\n",
       "  </tbody>\n",
       "</table>\n",
       "</div>"
      ],
      "text/plain": [
       "          JOBID    ACCOUNT    USER   REQMEM  USEDMEM  REQTIME  USEDTIME  \\\n",
       "0       6794220    laxtons  mikala  15488.0  7201.07  1209600    955970   \n",
       "1  6983193_1880  discovery  serina  12288.0   6516.1  1188000   1070801   \n",
       "2  7055502_1863  discovery  serina  12288.0     0.09  1188000   1153656   \n",
       "3  7055502_1800  discovery  serina  12288.0  8333.82  1188000   1050659   \n",
       "4  7055502_1806  discovery  serina  12288.0  8304.03  1188000    981826   \n",
       "\n",
       "   NODES  CPUS   PARTITION EXITCODE               SUBMIT  \n",
       "0      1    16  production      0:0  2019-03-09T16:38:44  \n",
       "1      1     1  production      0:0  2019-03-07T18:39:59  \n",
       "2      1     1  production      0:0  2019-03-11T10:06:06  \n",
       "3      1     1  production      0:0  2019-03-11T10:06:06  \n",
       "4      1     1  production      0:0  2019-03-11T10:06:06  "
      ]
     },
     "execution_count": 22,
     "metadata": {},
     "output_type": "execute_result"
    }
   ],
   "source": [
    "ACCRE_df.head()"
   ]
  },
  {
   "cell_type": "code",
   "execution_count": 23,
   "metadata": {},
   "outputs": [],
   "source": [
    "ACCRE_df.to_csv('data/clean_ACCRE_data.csv', index=None)"
   ]
  },
  {
   "cell_type": "markdown",
   "metadata": {},
   "source": [
    "# Began new notebook here "
   ]
  },
  {
   "cell_type": "code",
   "execution_count": null,
   "metadata": {},
   "outputs": [],
   "source": [
    "ACCRE_df.groupby('ACCOUNT').mean()"
   ]
  },
  {
   "cell_type": "code",
   "execution_count": null,
   "metadata": {},
   "outputs": [],
   "source": [
    "ACCRE_df.groupby('ACCOUNT').describe()"
   ]
  },
  {
   "cell_type": "code",
   "execution_count": null,
   "metadata": {},
   "outputs": [],
   "source": [
    "ACCRE_df.groupby('ACCOUNT').diff().describe()"
   ]
  },
  {
   "cell_type": "code",
   "execution_count": null,
   "metadata": {},
   "outputs": [],
   "source": [
    "ACCRE_df.groupby('ACCOUNT').diff(axis=1)"
   ]
  },
  {
   "cell_type": "code",
   "execution_count": null,
   "metadata": {},
   "outputs": [],
   "source": [
    "ACCRE_df['USEDMEM']=ACCRE_df['USEDMEM'].astype('float64')"
   ]
  },
  {
   "cell_type": "code",
   "execution_count": null,
   "metadata": {},
   "outputs": [],
   "source": [
    "ACCRE_df['PCT_Actual'] = (ACCRE_df['USEDMEM'].div(ACCRE_df['REQMEM']).mul(100))"
   ]
  },
  {
   "cell_type": "code",
   "execution_count": null,
   "metadata": {},
   "outputs": [],
   "source": [
    "ACCRE_df['REQMEM'] = ACCRE_df['REQMEM'].astype('int64')"
   ]
  },
  {
   "cell_type": "code",
   "execution_count": null,
   "metadata": {},
   "outputs": [],
   "source": [
    "ACCRE_df['USEDMEM'] = ACCRE_df['USEDMEM'].astype('int64')"
   ]
  },
  {
   "cell_type": "code",
   "execution_count": null,
   "metadata": {},
   "outputs": [],
   "source": [
    "ACCRE_df.loc(ACCRE_df['NODES']==1)\n",
    "ACCRE_df.loc(ACCRE_df['EXITCODE']=='0:0')"
   ]
  },
  {
   "cell_type": "code",
   "execution_count": null,
   "metadata": {},
   "outputs": [],
   "source": [
    "ACCRE_df.sort_values(by='PCT_Actual', ascending = False)\n",
    "ACCRE_df.head()"
   ]
  },
  {
   "cell_type": "code",
   "execution_count": null,
   "metadata": {},
   "outputs": [],
   "source": [
    "# Optimizing memory is more important for longer running jobs than shorter running\n",
    "# jobs as the resources are tied up for longer. If jobs are weighted by runtime,\n",
    "# what is the average percent of memory used of the requested memory for each group?\n",
    "   # \"Groups\" are: \n",
    "    # short= <5min \n",
    "    # long= >=5 min \n",
    "# 5 min = 300 sec"
   ]
  },
  {
   "cell_type": "code",
   "execution_count": null,
   "metadata": {},
   "outputs": [],
   "source": [
    " ACCRE_df.tail()"
   ]
  },
  {
   "cell_type": "markdown",
   "metadata": {},
   "source": [
    "## Let's just look at the first five rows "
   ]
  },
  {
   "cell_type": "code",
   "execution_count": null,
   "metadata": {},
   "outputs": [],
   "source": [
    "ACCRE_head = ACCRE_df.head()"
   ]
  },
  {
   "cell_type": "code",
   "execution_count": null,
   "metadata": {},
   "outputs": [],
   "source": [
    "ACCRE_head['PCT_Actual'].mean()"
   ]
  },
  {
   "cell_type": "code",
   "execution_count": null,
   "metadata": {},
   "outputs": [],
   "source": [
    "ACCRE_head['USEDTIME'].mean()"
   ]
  },
  {
   "cell_type": "code",
   "execution_count": null,
   "metadata": {},
   "outputs": [],
   "source": [
    "ACCRE_head.groupby(\"JOBID\")[\"PCT_Actual\"].mean()"
   ]
  },
  {
   "cell_type": "code",
   "execution_count": null,
   "metadata": {},
   "outputs": [],
   "source": [
    "#ACCRE_df.groupby('JOBID')('PCT_Actual').mean()"
   ]
  },
  {
   "cell_type": "code",
   "execution_count": null,
   "metadata": {},
   "outputs": [],
   "source": [
    "# ACCRE_df['Weighted_Avg']= sum((ACCRE_df['PCT_Actual']).mul(ACCRE_df['USEDTIME']))/(sum(ACCRE_df['USEDTIME']))"
   ]
  },
  {
   "cell_type": "code",
   "execution_count": null,
   "metadata": {},
   "outputs": [],
   "source": [
    "def wavg(group, avg_name, weight_name):\n",
    "\n",
    "    d = group[avg_name]\n",
    "    w = group[weight_name]\n",
    "    try:\n",
    "        return (d * w).sum() / w.sum()\n",
    "    except ZeroDivisionError:\n",
    "        return d.mean()"
   ]
  },
  {
   "cell_type": "code",
   "execution_count": null,
   "metadata": {},
   "outputs": [],
   "source": [
    "ACCRE_head.groupby(\"JOBID\").apply(wavg, \"PCT_Actual\", \"USEDTIME\")"
   ]
  },
  {
   "cell_type": "code",
   "execution_count": null,
   "metadata": {},
   "outputs": [],
   "source": [
    "ACCRE_tail = ACCRE_df.tail()"
   ]
  },
  {
   "cell_type": "code",
   "execution_count": null,
   "metadata": {},
   "outputs": [],
   "source": [
    "ACCRE_tail.groupby(\"JOBID\")[\"PCT_Actual\"].mean()"
   ]
  },
  {
   "cell_type": "code",
   "execution_count": null,
   "metadata": {},
   "outputs": [],
   "source": [
    "ACCRE_tail.groupby(\"JOBID\").apply(wavg, \"PCT_Actual\", \"USEDTIME\")"
   ]
  },
  {
   "cell_type": "code",
   "execution_count": null,
   "metadata": {},
   "outputs": [],
   "source": [
    "ACCRE_tail['Score']= ACCRE_tail.apply(wavg,\"PCT_Actual\", \"USEDTIME\")\n",
    "# merge on dataframe? Use np.average instead! Don't need to add back to dataframe "
   ]
  },
  {
   "cell_type": "code",
   "execution_count": null,
   "metadata": {},
   "outputs": [],
   "source": [
    "ACCRE_tail"
   ]
  },
  {
   "cell_type": "code",
   "execution_count": null,
   "metadata": {},
   "outputs": [],
   "source": []
  }
 ],
 "metadata": {
  "kernelspec": {
   "display_name": "Python 3",
   "language": "python",
   "name": "python3"
  },
  "language_info": {
   "codemirror_mode": {
    "name": "ipython",
    "version": 3
   },
   "file_extension": ".py",
   "mimetype": "text/x-python",
   "name": "python",
   "nbconvert_exporter": "python",
   "pygments_lexer": "ipython3",
   "version": "3.7.3"
  }
 },
 "nbformat": 4,
 "nbformat_minor": 2
}
